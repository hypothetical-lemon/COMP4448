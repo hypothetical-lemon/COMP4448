{
 "cells": [
  {
   "cell_type": "code",
   "execution_count": 2,
   "metadata": {},
   "outputs": [],
   "source": [
    "import pandas as pd \n",
    "import numpy as np\n",
    "import json\n",
    "from collections import namedtuple\n",
    "from os.path import exists"
   ]
  },
  {
   "cell_type": "code",
   "execution_count": 3,
   "metadata": {},
   "outputs": [
    {
     "data": {
      "text/html": [
       "<div>\n",
       "<style scoped>\n",
       "    .dataframe tbody tr th:only-of-type {\n",
       "        vertical-align: middle;\n",
       "    }\n",
       "\n",
       "    .dataframe tbody tr th {\n",
       "        vertical-align: top;\n",
       "    }\n",
       "\n",
       "    .dataframe thead th {\n",
       "        text-align: right;\n",
       "    }\n",
       "</style>\n",
       "<table border=\"1\" class=\"dataframe\">\n",
       "  <thead>\n",
       "    <tr style=\"text-align: right;\">\n",
       "      <th></th>\n",
       "      <th>url</th>\n",
       "      <th>name</th>\n",
       "      <th>categories</th>\n",
       "      <th>img_url</th>\n",
       "      <th>user_reviews</th>\n",
       "      <th>all_reviews</th>\n",
       "      <th>date</th>\n",
       "      <th>developer</th>\n",
       "      <th>publisher</th>\n",
       "      <th>price</th>\n",
       "      <th>pegi</th>\n",
       "      <th>pegi_url</th>\n",
       "    </tr>\n",
       "  </thead>\n",
       "  <tbody>\n",
       "    <tr>\n",
       "      <th>0</th>\n",
       "      <td>https://store.steampowered.com/app/945360/Amon...</td>\n",
       "      <td>Among Us</td>\n",
       "      <td>Online PvPLAN PvPOnline Co-opLAN Co-opCross-Pl...</td>\n",
       "      <td>https://steamcdn-a.akamaihd.net/steam/apps/945...</td>\n",
       "      <td>Overwhelmingly Positive(151,281)- 96% of the 1...</td>\n",
       "      <td>Overwhelmingly Positive(224,878)- 95% of the 2...</td>\n",
       "      <td>Nov 16, 2018</td>\n",
       "      <td>Innersloth</td>\n",
       "      <td>Innersloth</td>\n",
       "      <td>Buy Among Us$4.99Add to Cart</td>\n",
       "      <td>-</td>\n",
       "      <td>-</td>\n",
       "    </tr>\n",
       "  </tbody>\n",
       "</table>\n",
       "</div>"
      ],
      "text/plain": [
       "                                                 url      name  \\\n",
       "0  https://store.steampowered.com/app/945360/Amon...  Among Us   \n",
       "\n",
       "                                          categories  \\\n",
       "0  Online PvPLAN PvPOnline Co-opLAN Co-opCross-Pl...   \n",
       "\n",
       "                                             img_url  \\\n",
       "0  https://steamcdn-a.akamaihd.net/steam/apps/945...   \n",
       "\n",
       "                                        user_reviews  \\\n",
       "0  Overwhelmingly Positive(151,281)- 96% of the 1...   \n",
       "\n",
       "                                         all_reviews          date  \\\n",
       "0  Overwhelmingly Positive(224,878)- 95% of the 2...  Nov 16, 2018   \n",
       "\n",
       "    developer   publisher                         price pegi pegi_url  \n",
       "0  Innersloth  Innersloth  Buy Among Us$4.99Add to Cart    -        -  "
      ]
     },
     "execution_count": 3,
     "metadata": {},
     "output_type": "execute_result"
    }
   ],
   "source": [
    "df = pd.read_csv('steam/steam_data.csv')\n",
    "df.head(1)"
   ]
  },
  {
   "cell_type": "markdown",
   "metadata": {},
   "source": [
    "Parse URLS to uuid"
   ]
  },
  {
   "cell_type": "code",
   "execution_count": 4,
   "metadata": {},
   "outputs": [],
   "source": [
    "import re\n",
    "url_list = []\n",
    "\n",
    "def findid(row):\n",
    "    result = re.search(string=row, pattern=r'\\b/[0-9]*/')\n",
    "    if result is not None:\n",
    "        result2 = re.sub(string=result.group(0), pattern=r'/*', repl='')\n",
    "        if result2 is not None:\n",
    "            url_list.append(result2)\n",
    "\n",
    "df['url'].apply(lambda x: findid(x))\n",
    "steam_ids = pd.DataFrame(url_list)"
   ]
  },
  {
   "cell_type": "code",
   "execution_count": 5,
   "metadata": {},
   "outputs": [
    {
     "data": {
      "text/html": [
       "<div>\n",
       "<style scoped>\n",
       "    .dataframe tbody tr th:only-of-type {\n",
       "        vertical-align: middle;\n",
       "    }\n",
       "\n",
       "    .dataframe tbody tr th {\n",
       "        vertical-align: top;\n",
       "    }\n",
       "\n",
       "    .dataframe thead th {\n",
       "        text-align: right;\n",
       "    }\n",
       "</style>\n",
       "<table border=\"1\" class=\"dataframe\">\n",
       "  <thead>\n",
       "    <tr style=\"text-align: right;\">\n",
       "      <th></th>\n",
       "      <th>0</th>\n",
       "    </tr>\n",
       "  </thead>\n",
       "  <tbody>\n",
       "    <tr>\n",
       "      <th>0</th>\n",
       "      <td>945360</td>\n",
       "    </tr>\n",
       "    <tr>\n",
       "      <th>1</th>\n",
       "      <td>730</td>\n",
       "    </tr>\n",
       "    <tr>\n",
       "      <th>2</th>\n",
       "      <td>1097150</td>\n",
       "    </tr>\n",
       "    <tr>\n",
       "      <th>3</th>\n",
       "      <td>1158310</td>\n",
       "    </tr>\n",
       "    <tr>\n",
       "      <th>4</th>\n",
       "      <td>1085660</td>\n",
       "    </tr>\n",
       "  </tbody>\n",
       "</table>\n",
       "</div>"
      ],
      "text/plain": [
       "         0\n",
       "0   945360\n",
       "1      730\n",
       "2  1097150\n",
       "3  1158310\n",
       "4  1085660"
      ]
     },
     "execution_count": 5,
     "metadata": {},
     "output_type": "execute_result"
    }
   ],
   "source": [
    "steam_ids.head()"
   ]
  },
  {
   "cell_type": "code",
   "execution_count": 6,
   "metadata": {},
   "outputs": [],
   "source": [
    "# from steam import Steam\n",
    "# import requests\n",
    "# import json\n",
    "\n",
    "\n",
    "# file = open('./env.txt')\n",
    "# STEAM_KEY = file.read() \n",
    "# data = []\n",
    "# steam = Steam(STEAM_KEY)\n",
    "# uuid='945360'\n",
    "\n",
    "# def getgamereviews(uuid): \n",
    "#     result = requests.get('https://store.steampowered.com/appreviews/'+uuid+'?json=1cursor=20')\n",
    "#     return result.text\n",
    "\n",
    "# data.append(getgamereviews(uuid='945360'))\n",
    "# with open('test.json', 'w', encoding=\"utf-8\") as f:\n",
    "#     json.dump(data, f)"
   ]
  },
  {
   "cell_type": "code",
   "execution_count": 7,
   "metadata": {},
   "outputs": [],
   "source": [
    "# comments = []\n",
    "# comments_dict = {}\n",
    "# for row in data: \n",
    "#     json_line = json.loads(row)\n",
    "#     for index in range(20):\n",
    "#         comments.append(json_line['reviews'][index]['review'])\n",
    "#     comments_dict[uuid] = comments"
   ]
  },
  {
   "cell_type": "code",
   "execution_count": 8,
   "metadata": {},
   "outputs": [],
   "source": [
    "# pd.set_option('display.max_columns', None)\n",
    "# pd.set_option('display.max_rows', None)\n",
    "# comments_df = pd.Series(comments_dict, name='comments')\n",
    "# comments_df"
   ]
  },
  {
   "cell_type": "code",
   "execution_count": 9,
   "metadata": {},
   "outputs": [
    {
     "name": "stdout",
     "output_type": "stream",
     "text": [
      "Record(img_url='https://steamcdn-a.akamaihd.net/steam/apps/945360/header.jpg?t=1598556351', date='Nov 16, 2018', developer='Innersloth', publisher='Innersloth', full_desc={'sort': 'game', 'desc': \"About This Game Play with 4-10 player online or via local WiFi as you attempt to prepare your spaceship for departure, but beware as one or more random players among the Crew are Impostors bent on killing everyone!Originally created as a party game, we recommend playing with friends at a LAN party or online using voice chat. Enjoy cross-platform play between Android, iOS and PC. Win by completing tasks to prepare the ship or ejecting all Impostors. React quickly to undo the Impostor's sabotages. Check the Admin map and Security cameras to keep tabs on other Crewmates. Report any dead bodies immediately to start discussion of who the suspected Impostor is. Call emergency meetings to discuss suspicious behavior. Vote to eject suspected Impostors. Kill crewmates and frame bystanders. Pretend to run tasks to blend in with the crewmates. Sneak through the vents to quickly move about the ship. Use sabotages to cause chaos and divide the crew. Close doors to trap victims and kill in private.Features Customization: Pick your color and hat. Lots of game options: Add more impostors, more tasks, and so much more! Quickly find a game online from the host list. In-game text chat. Rich discord integration. Cross-platform play between PC, Android, and iOS!\"}, requirements={'minimum': {'windows': {'processor': ' SSE2 instruction set support', 'memory': ' 1 ', 'graphics': '', 'os': ' Windows 7 SP1+'}}, 'recommended': {}}, popu_tags=['Multiplayer', 'Online', 'Space', 'Social', 'Deduction', 'Survival', 'Funny2', 'Psychological', 'Local', 'Multiplayer', 'Cartoony', 'Casual', 'Indie', 'Colorful', 'Minigames', 'Local', 'Down', 'Aliens+'], price='499', url_info={'url': 'https://store.steampowered.com/app/945360/Among_Us/?snr=1_7_7_230_150_1', 'id': '945360', 'type': 'app', 'url_name': 'Among Us'}, name='Among Us', categories=['Online PvPLAN', 'PvPOnline Co-opLAN', 'Co-opCross-Platform Multiplayer Remote', 'Play on', 'Phone Remote Play', 'on Tablet'])\n"
     ]
    }
   ],
   "source": [
    "class Field:\n",
    "    \"\"\"\n",
    "    Representational json from steam\n",
    "    \"\"\"\n",
    "    data = []\n",
    "\n",
    "    def __init__(self):\n",
    "        self._load_data()\n",
    "\n",
    "    def _load_data(self) -> None: \n",
    "        with open('final_data_new.json', 'r', encoding=\"utf-8\") as file:\n",
    "            for line in file:\n",
    "                json_line = json.loads(line,  object_hook=BlankDict)\n",
    "                for index in range(len(json_line)):\n",
    "                    if json_line[index]['publisher'] is not None:\n",
    "\n",
    "                        rec = Record.record(img_url=json_line[index]['img_url'], date=json_line[index]['date'], \n",
    "                                            developer=json_line[index]['developer'], publisher=json_line[index]['publisher'], \n",
    "                                            full_desc=json_line[index]['full_desc'], \n",
    "                                            requirements=json_line[index]['requirements'], popu_tags=json_line[index]['popu_tags'], \n",
    "                                            price=json_line[index]['price'], url_info=json_line[index]['url_info'], name=json_line[index]['name'], \n",
    "                                            categories=json_line[index]['categories'])\n",
    "                        self.data.append(rec)\n",
    "        file.close()\n",
    "\n",
    "class BlankDict(dict):\n",
    "    def __missing__(self, key):\n",
    "        return ''\n",
    "\n",
    "class Record: \n",
    "    \"\"\"\n",
    "    Representation of a record\n",
    "    \"\"\"\n",
    "    field = ['img_url', 'date', 'developer', 'publisher', 'full_desc', 'requirements', 'popu_tags', \n",
    "             'price', 'url_info', 'name', 'categories']\n",
    "    record = namedtuple('Record', field)\n",
    "\n",
    "field = Field()\n",
    "field.__init__()\n",
    "print(field.data[0])"
   ]
  },
  {
   "cell_type": "code",
   "execution_count": 10,
   "metadata": {},
   "outputs": [
    {
     "name": "stdout",
     "output_type": "stream",
     "text": [
      "(149642, 11)\n"
     ]
    }
   ],
   "source": [
    "clean_df = pd.DataFrame(field.data, dtype='object', columns=Record.field)\n",
    "print(clean_df.shape)\n",
    "clean_df = clean_df.drop_duplicates(subset=['img_url'])"
   ]
  },
  {
   "cell_type": "code",
   "execution_count": 11,
   "metadata": {},
   "outputs": [
    {
     "data": {
      "text/plain": [
       "(64344, 11)"
      ]
     },
     "execution_count": 11,
     "metadata": {},
     "output_type": "execute_result"
    }
   ],
   "source": [
    "clean_df.shape"
   ]
  },
  {
   "cell_type": "code",
   "execution_count": 12,
   "metadata": {},
   "outputs": [
    {
     "data": {
      "text/html": [
       "<div>\n",
       "<style scoped>\n",
       "    .dataframe tbody tr th:only-of-type {\n",
       "        vertical-align: middle;\n",
       "    }\n",
       "\n",
       "    .dataframe tbody tr th {\n",
       "        vertical-align: top;\n",
       "    }\n",
       "\n",
       "    .dataframe thead th {\n",
       "        text-align: right;\n",
       "    }\n",
       "</style>\n",
       "<table border=\"1\" class=\"dataframe\">\n",
       "  <thead>\n",
       "    <tr style=\"text-align: right;\">\n",
       "      <th></th>\n",
       "      <th>img_url</th>\n",
       "      <th>date</th>\n",
       "      <th>developer</th>\n",
       "      <th>publisher</th>\n",
       "      <th>full_desc</th>\n",
       "      <th>requirements</th>\n",
       "      <th>popu_tags</th>\n",
       "      <th>price</th>\n",
       "      <th>url_info</th>\n",
       "      <th>name</th>\n",
       "      <th>categories</th>\n",
       "    </tr>\n",
       "  </thead>\n",
       "  <tbody>\n",
       "    <tr>\n",
       "      <th>0</th>\n",
       "      <td>https://steamcdn-a.akamaihd.net/steam/apps/945...</td>\n",
       "      <td>Nov 16, 2018</td>\n",
       "      <td>Innersloth</td>\n",
       "      <td>Innersloth</td>\n",
       "      <td>{'sort': 'game', 'desc': 'About This Game Play...</td>\n",
       "      <td>{'minimum': {'windows': {'processor': ' SSE2 i...</td>\n",
       "      <td>[Multiplayer, Online, Space, Social, Deduction...</td>\n",
       "      <td>499</td>\n",
       "      <td>{'url': 'https://store.steampowered.com/app/94...</td>\n",
       "      <td>Among Us</td>\n",
       "      <td>[Online PvPLAN, PvPOnline Co-opLAN, Co-opCross...</td>\n",
       "    </tr>\n",
       "  </tbody>\n",
       "</table>\n",
       "</div>"
      ],
      "text/plain": [
       "                                             img_url          date  \\\n",
       "0  https://steamcdn-a.akamaihd.net/steam/apps/945...  Nov 16, 2018   \n",
       "\n",
       "    developer   publisher                                          full_desc  \\\n",
       "0  Innersloth  Innersloth  {'sort': 'game', 'desc': 'About This Game Play...   \n",
       "\n",
       "                                        requirements  \\\n",
       "0  {'minimum': {'windows': {'processor': ' SSE2 i...   \n",
       "\n",
       "                                           popu_tags price  \\\n",
       "0  [Multiplayer, Online, Space, Social, Deduction...   499   \n",
       "\n",
       "                                            url_info      name  \\\n",
       "0  {'url': 'https://store.steampowered.com/app/94...  Among Us   \n",
       "\n",
       "                                          categories  \n",
       "0  [Online PvPLAN, PvPOnline Co-opLAN, Co-opCross...  "
      ]
     },
     "execution_count": 12,
     "metadata": {},
     "output_type": "execute_result"
    }
   ],
   "source": [
    "clean_df.head(1)"
   ]
  },
  {
   "cell_type": "code",
   "execution_count": 13,
   "metadata": {},
   "outputs": [
    {
     "data": {
      "text/html": [
       "<div>\n",
       "<style scoped>\n",
       "    .dataframe tbody tr th:only-of-type {\n",
       "        vertical-align: middle;\n",
       "    }\n",
       "\n",
       "    .dataframe tbody tr th {\n",
       "        vertical-align: top;\n",
       "    }\n",
       "\n",
       "    .dataframe thead th {\n",
       "        text-align: right;\n",
       "    }\n",
       "</style>\n",
       "<table border=\"1\" class=\"dataframe\">\n",
       "  <thead>\n",
       "    <tr style=\"text-align: right;\">\n",
       "      <th></th>\n",
       "      <th>img_url</th>\n",
       "      <th>date</th>\n",
       "      <th>developer</th>\n",
       "      <th>publisher</th>\n",
       "      <th>full_desc</th>\n",
       "      <th>requirements</th>\n",
       "      <th>popu_tags</th>\n",
       "      <th>price</th>\n",
       "      <th>url_info</th>\n",
       "      <th>name</th>\n",
       "      <th>categories</th>\n",
       "    </tr>\n",
       "  </thead>\n",
       "  <tbody>\n",
       "    <tr>\n",
       "      <th>74805</th>\n",
       "      <td>https://steamcdn-a.akamaihd.net/steam/apps/134...</td>\n",
       "      <td>Coming Soon</td>\n",
       "      <td>Pathea Games</td>\n",
       "      <td></td>\n",
       "      <td>{'sort': 'game', 'desc': 'About This Game Abou...</td>\n",
       "      <td>{'minimum': {'windows': {'processor': ' Intel ...</td>\n",
       "      <td>[Sports, Multiplayer, Online, Casual, Team-, B...</td>\n",
       "      <td>free</td>\n",
       "      <td>{'url': 'https://store.steampowered.com/app/13...</td>\n",
       "      <td>Super Buckyball Tournament Preseason</td>\n",
       "      <td>[Online PvPOnline, Co-opFull controller, suppo...</td>\n",
       "    </tr>\n",
       "    <tr>\n",
       "      <th>74806</th>\n",
       "      <td>https://steamcdn-a.akamaihd.net/steam/apps/134...</td>\n",
       "      <td>TBA</td>\n",
       "      <td>Yumenamakon</td>\n",
       "      <td></td>\n",
       "      <td>{'sort': 'game', 'desc': 'About This Game Tire...</td>\n",
       "      <td>{'minimum': {'windows': {'processor': ' Intel ...</td>\n",
       "      <td>[Adventure, Anime, Singleplayer, Pixel, Graphi...</td>\n",
       "      <td></td>\n",
       "      <td></td>\n",
       "      <td>Lisa and the Grimoire</td>\n",
       "      <td>[Single-playerSteam Cloud]</td>\n",
       "    </tr>\n",
       "    <tr>\n",
       "      <th>74807</th>\n",
       "      <td>https://steamcdn-a.akamaihd.net/steam/apps/134...</td>\n",
       "      <td>1 Dec, 2020</td>\n",
       "      <td>Carlos Coronado</td>\n",
       "      <td></td>\n",
       "      <td>{'sort': 'game', 'desc': 'About This Game 7th ...</td>\n",
       "      <td>{'minimum': {'windows': {'processor': ' Intel ...</td>\n",
       "      <td>[Psychological, Horror, Horror, Action-, Adven...</td>\n",
       "      <td></td>\n",
       "      <td></td>\n",
       "      <td>HORROR TALES: The Beggar</td>\n",
       "      <td>[Single-playerSteam Achievements Full, control...</td>\n",
       "    </tr>\n",
       "  </tbody>\n",
       "</table>\n",
       "</div>"
      ],
      "text/plain": [
       "                                                 img_url         date  \\\n",
       "74805  https://steamcdn-a.akamaihd.net/steam/apps/134...  Coming Soon   \n",
       "74806  https://steamcdn-a.akamaihd.net/steam/apps/134...          TBA   \n",
       "74807  https://steamcdn-a.akamaihd.net/steam/apps/134...  1 Dec, 2020   \n",
       "\n",
       "             developer publisher  \\\n",
       "74805     Pathea Games             \n",
       "74806      Yumenamakon             \n",
       "74807  Carlos Coronado             \n",
       "\n",
       "                                               full_desc  \\\n",
       "74805  {'sort': 'game', 'desc': 'About This Game Abou...   \n",
       "74806  {'sort': 'game', 'desc': 'About This Game Tire...   \n",
       "74807  {'sort': 'game', 'desc': 'About This Game 7th ...   \n",
       "\n",
       "                                            requirements  \\\n",
       "74805  {'minimum': {'windows': {'processor': ' Intel ...   \n",
       "74806  {'minimum': {'windows': {'processor': ' Intel ...   \n",
       "74807  {'minimum': {'windows': {'processor': ' Intel ...   \n",
       "\n",
       "                                               popu_tags price  \\\n",
       "74805  [Sports, Multiplayer, Online, Casual, Team-, B...  free   \n",
       "74806  [Adventure, Anime, Singleplayer, Pixel, Graphi...         \n",
       "74807  [Psychological, Horror, Horror, Action-, Adven...         \n",
       "\n",
       "                                                url_info  \\\n",
       "74805  {'url': 'https://store.steampowered.com/app/13...   \n",
       "74806                                                      \n",
       "74807                                                      \n",
       "\n",
       "                                       name  \\\n",
       "74805  Super Buckyball Tournament Preseason   \n",
       "74806                 Lisa and the Grimoire   \n",
       "74807              HORROR TALES: The Beggar   \n",
       "\n",
       "                                              categories  \n",
       "74805  [Online PvPOnline, Co-opFull controller, suppo...  \n",
       "74806                         [Single-playerSteam Cloud]  \n",
       "74807  [Single-playerSteam Achievements Full, control...  "
      ]
     },
     "execution_count": 13,
     "metadata": {},
     "output_type": "execute_result"
    }
   ],
   "source": [
    "clean_df.tail(3)"
   ]
  },
  {
   "cell_type": "code",
   "execution_count": 15,
   "metadata": {},
   "outputs": [
    {
     "name": "stdout",
     "output_type": "stream",
     "text": [
      "(64344, 11)\n"
     ]
    }
   ],
   "source": [
    "clean_df.reindex()\n",
    "print(clean_df.shape)"
   ]
  }
 ],
 "metadata": {
  "kernelspec": {
   "display_name": "venvtools2",
   "language": "python",
   "name": "python3"
  },
  "language_info": {
   "codemirror_mode": {
    "name": "ipython",
    "version": 3
   },
   "file_extension": ".py",
   "mimetype": "text/x-python",
   "name": "python",
   "nbconvert_exporter": "python",
   "pygments_lexer": "ipython3",
   "version": "3.11.1"
  },
  "vscode": {
   "interpreter": {
    "hash": "d879f583b607c711ed42a3f2837aa40f7823202ddc09639f4d71f44ad0908e9c"
   }
  }
 },
 "nbformat": 4,
 "nbformat_minor": 2
}
