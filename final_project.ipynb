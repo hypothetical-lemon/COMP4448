{
 "cells": [
  {
   "attachments": {},
   "cell_type": "markdown",
   "metadata": {},
   "source": [
    "## Heather Lemon \n",
    "### COMP 4448 Tools 2 Final Project Steam \n",
    "\n",
    "Dataset Location: \n",
    "https://www.kaggle.com/datasets/deepann/80000-steam-games-dataset \n",
    "\n",
    "\n",
    "**Steam** is a widely popular video game distribution platform. Currently there are over 50,000 different games \n",
    "available for purchase. It was launched as a software client in September 2003 as a way for Valve to provide automatic updates for their games, and expanded to distributing and offering third-party game publishers' titles in late 2005. [0] Steam sales data is not publicly available, but we can use the number of reviews\n",
    "as a good estimate for units sold this is called the Boxleiter or New Boxleiter number method, estimating the number of Steam game unit sold based on the number of reviews they got. [1][2] For example, a game with 100,000 units sold might have 1,000 reviews on steam. The ratio would therefore be 100,000 / 1,000 = 100.\n",
    "\n",
    "One very important aspect to keep in mind is the time and price that this data was collected which was two years ago. The metrics and analysis we will perform are from data collected two years ago and will be different that what maybe be currently presented in Steam today. Games could have been removed, sales could have been happening that are no longer available, or the game could be free now.\n"
   ]
  },
  {
   "cell_type": "markdown",
   "metadata": {},
   "source": [
    "#### Research Question\n",
    "Indie game developer Liquid Courage Studios wants to publish a new game called Ace Vendetta and wants to know how much to sell their game for? \n",
    "\n",
    "Definition of an Indie game developer is a game published typically with less than 50 developers. In contrast to a AAA game studio with over 100 developers. The biggest difference between the two is size of teams and funding available. Indie games are usually made by companies with less than 30 people, and some are even made by less than five people. On the other hand, AAA games are made by much bigger companies, usually with hundreds of employees. [3]"
   ]
  },
  {
   "cell_type": "markdown",
   "metadata": {},
   "source": [
    "![steam](steam.png)"
   ]
  },
  {
   "cell_type": "code",
   "execution_count": 1,
   "metadata": {},
   "outputs": [],
   "source": [
    "import pandas as pd \n",
    "import numpy as np\n",
    "import json\n",
    "import math\n",
    "import re\n",
    "from collections import namedtuple\n",
    "import seaborn as sns\n",
    "import matplotlib.pyplot as plt\n",
    "from prettytable import PrettyTable\n",
    "from sklearn.linear_model import LinearRegression\n",
    "from sklearn.metrics import mean_squared_error\n",
    "from sklearn.tree import DecisionTreeRegressor\n",
    "from sklearn.ensemble import RandomForestRegressor, BaggingRegressor\n",
    "from sklearn import linear_model\n",
    "from sklearn import svm\n",
    "from sklearn.pipeline import Pipeline\n",
    "from sklearn.preprocessing import StandardScaler, MinMaxScaler\n",
    "from sklearn.model_selection import cross_val_score, train_test_split, GridSearchCV\n",
    "from sklearn.metrics import r2_score, accuracy_score\n",
    "import statsmodels.api as sm"
   ]
  },
  {
   "cell_type": "code",
   "execution_count": 2,
   "metadata": {},
   "outputs": [
    {
     "name": "stdout",
     "output_type": "stream",
     "text": [
      "(81048, 12)\n"
     ]
    },
    {
     "data": {
      "text/html": [
       "<div>\n",
       "<style scoped>\n",
       "    .dataframe tbody tr th:only-of-type {\n",
       "        vertical-align: middle;\n",
       "    }\n",
       "\n",
       "    .dataframe tbody tr th {\n",
       "        vertical-align: top;\n",
       "    }\n",
       "\n",
       "    .dataframe thead th {\n",
       "        text-align: right;\n",
       "    }\n",
       "</style>\n",
       "<table border=\"1\" class=\"dataframe\">\n",
       "  <thead>\n",
       "    <tr style=\"text-align: right;\">\n",
       "      <th></th>\n",
       "      <th>url</th>\n",
       "      <th>name</th>\n",
       "      <th>categories</th>\n",
       "      <th>img_url</th>\n",
       "      <th>user_reviews</th>\n",
       "      <th>all_reviews</th>\n",
       "      <th>date</th>\n",
       "      <th>developer</th>\n",
       "      <th>publisher</th>\n",
       "      <th>price</th>\n",
       "      <th>pegi</th>\n",
       "      <th>pegi_url</th>\n",
       "    </tr>\n",
       "  </thead>\n",
       "  <tbody>\n",
       "    <tr>\n",
       "      <th>0</th>\n",
       "      <td>https://store.steampowered.com/app/945360/Amon...</td>\n",
       "      <td>Among Us</td>\n",
       "      <td>Online PvPLAN PvPOnline Co-opLAN Co-opCross-Pl...</td>\n",
       "      <td>https://steamcdn-a.akamaihd.net/steam/apps/945...</td>\n",
       "      <td>Overwhelmingly Positive(151,281)- 96% of the 1...</td>\n",
       "      <td>Overwhelmingly Positive(224,878)- 95% of the 2...</td>\n",
       "      <td>Nov 16, 2018</td>\n",
       "      <td>Innersloth</td>\n",
       "      <td>Innersloth</td>\n",
       "      <td>Buy Among Us$4.99Add to Cart</td>\n",
       "      <td>-</td>\n",
       "      <td>-</td>\n",
       "    </tr>\n",
       "    <tr>\n",
       "      <th>1</th>\n",
       "      <td>https://store.steampowered.com/app/730/Counter...</td>\n",
       "      <td>Counter-Strike: Global Offensive</td>\n",
       "      <td>Steam AchievementsFull controller supportSteam...</td>\n",
       "      <td>https://steamcdn-a.akamaihd.net/steam/apps/730...</td>\n",
       "      <td>Very Positive(90,780)- 88% of the 90,780 user ...</td>\n",
       "      <td>Very Positive(4,843,904)- 87% of the 4,843,904...</td>\n",
       "      <td>Aug 21, 2012</td>\n",
       "      <td>Valve, Hidden Path Entertainment</td>\n",
       "      <td>Valve</td>\n",
       "      <td>Play Counter-Strike: Global OffensiveFree to P...</td>\n",
       "      <td>-</td>\n",
       "      <td>-</td>\n",
       "    </tr>\n",
       "    <tr>\n",
       "      <th>2</th>\n",
       "      <td>https://store.steampowered.com/app/1097150/Fal...</td>\n",
       "      <td>Fall Guys: Ultimate Knockout</td>\n",
       "      <td>MMOOnline PvPOnline Co-opSteam AchievementsFul...</td>\n",
       "      <td>https://steamcdn-a.akamaihd.net/steam/apps/109...</td>\n",
       "      <td>Very Positive(32,436)- 84% of the 32,436 user ...</td>\n",
       "      <td>Very Positive(223,706)- 80% of the 223,706 use...</td>\n",
       "      <td>Aug 3, 2020</td>\n",
       "      <td>Mediatonic</td>\n",
       "      <td>Devolver Digital</td>\n",
       "      <td>Buy Fall Guys$19.99Add to Cart</td>\n",
       "      <td>-</td>\n",
       "      <td>-</td>\n",
       "    </tr>\n",
       "  </tbody>\n",
       "</table>\n",
       "</div>"
      ],
      "text/plain": [
       "                                                 url  \\\n",
       "0  https://store.steampowered.com/app/945360/Amon...   \n",
       "1  https://store.steampowered.com/app/730/Counter...   \n",
       "2  https://store.steampowered.com/app/1097150/Fal...   \n",
       "\n",
       "                               name  \\\n",
       "0                          Among Us   \n",
       "1  Counter-Strike: Global Offensive   \n",
       "2      Fall Guys: Ultimate Knockout   \n",
       "\n",
       "                                          categories  \\\n",
       "0  Online PvPLAN PvPOnline Co-opLAN Co-opCross-Pl...   \n",
       "1  Steam AchievementsFull controller supportSteam...   \n",
       "2  MMOOnline PvPOnline Co-opSteam AchievementsFul...   \n",
       "\n",
       "                                             img_url  \\\n",
       "0  https://steamcdn-a.akamaihd.net/steam/apps/945...   \n",
       "1  https://steamcdn-a.akamaihd.net/steam/apps/730...   \n",
       "2  https://steamcdn-a.akamaihd.net/steam/apps/109...   \n",
       "\n",
       "                                        user_reviews  \\\n",
       "0  Overwhelmingly Positive(151,281)- 96% of the 1...   \n",
       "1  Very Positive(90,780)- 88% of the 90,780 user ...   \n",
       "2  Very Positive(32,436)- 84% of the 32,436 user ...   \n",
       "\n",
       "                                         all_reviews          date  \\\n",
       "0  Overwhelmingly Positive(224,878)- 95% of the 2...  Nov 16, 2018   \n",
       "1  Very Positive(4,843,904)- 87% of the 4,843,904...  Aug 21, 2012   \n",
       "2  Very Positive(223,706)- 80% of the 223,706 use...   Aug 3, 2020   \n",
       "\n",
       "                          developer         publisher  \\\n",
       "0                        Innersloth        Innersloth   \n",
       "1  Valve, Hidden Path Entertainment             Valve   \n",
       "2                        Mediatonic  Devolver Digital   \n",
       "\n",
       "                                               price pegi pegi_url  \n",
       "0                       Buy Among Us$4.99Add to Cart    -        -  \n",
       "1  Play Counter-Strike: Global OffensiveFree to P...    -        -  \n",
       "2                     Buy Fall Guys$19.99Add to Cart    -        -  "
      ]
     },
     "execution_count": 2,
     "metadata": {},
     "output_type": "execute_result"
    }
   ],
   "source": [
    "df = pd.read_csv('steam/steam_data.csv')\n",
    "print(df.shape)\n",
    "df.head(3)"
   ]
  },
  {
   "cell_type": "markdown",
   "metadata": {},
   "source": [
    "Parse URLS to uuid"
   ]
  },
  {
   "cell_type": "code",
   "execution_count": 3,
   "metadata": {},
   "outputs": [],
   "source": [
    "url_list = []\n",
    "\n",
    "def findid(row):\n",
    "    result = re.search(string=row, pattern=r'\\b/[0-9]*/')\n",
    "    if result is not None:\n",
    "        result2 = re.sub(string=result.group(0), pattern=r'/*', repl='')\n",
    "        if result2 is not None:\n",
    "            url_list.append(result2)\n",
    "\n",
    "df['url'].apply(lambda x: findid(x))\n",
    "steam_ids = pd.DataFrame(url_list, columns=['id'])"
   ]
  },
  {
   "cell_type": "code",
   "execution_count": 4,
   "metadata": {},
   "outputs": [
    {
     "data": {
      "text/html": [
       "<div>\n",
       "<style scoped>\n",
       "    .dataframe tbody tr th:only-of-type {\n",
       "        vertical-align: middle;\n",
       "    }\n",
       "\n",
       "    .dataframe tbody tr th {\n",
       "        vertical-align: top;\n",
       "    }\n",
       "\n",
       "    .dataframe thead th {\n",
       "        text-align: right;\n",
       "    }\n",
       "</style>\n",
       "<table border=\"1\" class=\"dataframe\">\n",
       "  <thead>\n",
       "    <tr style=\"text-align: right;\">\n",
       "      <th></th>\n",
       "      <th>id</th>\n",
       "    </tr>\n",
       "  </thead>\n",
       "  <tbody>\n",
       "    <tr>\n",
       "      <th>0</th>\n",
       "      <td>945360</td>\n",
       "    </tr>\n",
       "    <tr>\n",
       "      <th>1</th>\n",
       "      <td>730</td>\n",
       "    </tr>\n",
       "    <tr>\n",
       "      <th>2</th>\n",
       "      <td>1097150</td>\n",
       "    </tr>\n",
       "    <tr>\n",
       "      <th>3</th>\n",
       "      <td>1158310</td>\n",
       "    </tr>\n",
       "    <tr>\n",
       "      <th>4</th>\n",
       "      <td>1085660</td>\n",
       "    </tr>\n",
       "  </tbody>\n",
       "</table>\n",
       "</div>"
      ],
      "text/plain": [
       "        id\n",
       "0   945360\n",
       "1      730\n",
       "2  1097150\n",
       "3  1158310\n",
       "4  1085660"
      ]
     },
     "execution_count": 4,
     "metadata": {},
     "output_type": "execute_result"
    }
   ],
   "source": [
    "steam_ids.head()"
   ]
  },
  {
   "cell_type": "code",
   "execution_count": 5,
   "metadata": {},
   "outputs": [
    {
     "data": {
      "text/html": [
       "<div>\n",
       "<style scoped>\n",
       "    .dataframe tbody tr th:only-of-type {\n",
       "        vertical-align: middle;\n",
       "    }\n",
       "\n",
       "    .dataframe tbody tr th {\n",
       "        vertical-align: top;\n",
       "    }\n",
       "\n",
       "    .dataframe thead th {\n",
       "        text-align: right;\n",
       "    }\n",
       "</style>\n",
       "<table border=\"1\" class=\"dataframe\">\n",
       "  <thead>\n",
       "    <tr style=\"text-align: right;\">\n",
       "      <th></th>\n",
       "      <th>url</th>\n",
       "      <th>name</th>\n",
       "      <th>categories</th>\n",
       "      <th>img_url</th>\n",
       "      <th>user_reviews</th>\n",
       "      <th>all_reviews</th>\n",
       "      <th>date</th>\n",
       "      <th>developer</th>\n",
       "      <th>publisher</th>\n",
       "      <th>price</th>\n",
       "      <th>pegi</th>\n",
       "      <th>pegi_url</th>\n",
       "      <th>id</th>\n",
       "    </tr>\n",
       "  </thead>\n",
       "  <tbody>\n",
       "    <tr>\n",
       "      <th>0</th>\n",
       "      <td>https://store.steampowered.com/app/945360/Amon...</td>\n",
       "      <td>Among Us</td>\n",
       "      <td>Online PvPLAN PvPOnline Co-opLAN Co-opCross-Pl...</td>\n",
       "      <td>https://steamcdn-a.akamaihd.net/steam/apps/945...</td>\n",
       "      <td>Overwhelmingly Positive(151,281)- 96% of the 1...</td>\n",
       "      <td>Overwhelmingly Positive(224,878)- 95% of the 2...</td>\n",
       "      <td>Nov 16, 2018</td>\n",
       "      <td>Innersloth</td>\n",
       "      <td>Innersloth</td>\n",
       "      <td>Buy Among Us$4.99Add to Cart</td>\n",
       "      <td>-</td>\n",
       "      <td>-</td>\n",
       "      <td>945360</td>\n",
       "    </tr>\n",
       "    <tr>\n",
       "      <th>1</th>\n",
       "      <td>https://store.steampowered.com/app/730/Counter...</td>\n",
       "      <td>Counter-Strike: Global Offensive</td>\n",
       "      <td>Steam AchievementsFull controller supportSteam...</td>\n",
       "      <td>https://steamcdn-a.akamaihd.net/steam/apps/730...</td>\n",
       "      <td>Very Positive(90,780)- 88% of the 90,780 user ...</td>\n",
       "      <td>Very Positive(4,843,904)- 87% of the 4,843,904...</td>\n",
       "      <td>Aug 21, 2012</td>\n",
       "      <td>Valve, Hidden Path Entertainment</td>\n",
       "      <td>Valve</td>\n",
       "      <td>Play Counter-Strike: Global OffensiveFree to P...</td>\n",
       "      <td>-</td>\n",
       "      <td>-</td>\n",
       "      <td>730</td>\n",
       "    </tr>\n",
       "    <tr>\n",
       "      <th>2</th>\n",
       "      <td>https://store.steampowered.com/app/1097150/Fal...</td>\n",
       "      <td>Fall Guys: Ultimate Knockout</td>\n",
       "      <td>MMOOnline PvPOnline Co-opSteam AchievementsFul...</td>\n",
       "      <td>https://steamcdn-a.akamaihd.net/steam/apps/109...</td>\n",
       "      <td>Very Positive(32,436)- 84% of the 32,436 user ...</td>\n",
       "      <td>Very Positive(223,706)- 80% of the 223,706 use...</td>\n",
       "      <td>Aug 3, 2020</td>\n",
       "      <td>Mediatonic</td>\n",
       "      <td>Devolver Digital</td>\n",
       "      <td>Buy Fall Guys$19.99Add to Cart</td>\n",
       "      <td>-</td>\n",
       "      <td>-</td>\n",
       "      <td>1097150</td>\n",
       "    </tr>\n",
       "    <tr>\n",
       "      <th>3</th>\n",
       "      <td>https://store.steampowered.com/app/1158310/Cru...</td>\n",
       "      <td>Crusader Kings III</td>\n",
       "      <td>Single-playerOnline PvPSteam AchievementsSteam...</td>\n",
       "      <td>https://steamcdn-a.akamaihd.net/steam/apps/115...</td>\n",
       "      <td>Very Positive(5,359)- 91% of the 5,359 user re...</td>\n",
       "      <td>Very Positive(18,951)- 92% of the 18,951 user ...</td>\n",
       "      <td>Sep 1, 2020</td>\n",
       "      <td>Paradox Development Studio</td>\n",
       "      <td>Paradox Interactive</td>\n",
       "      <td>Buy Crusader Kings III$49.99Add to Cart</td>\n",
       "      <td>BloodLanguagePartial NuditySexual ThemesUse of...</td>\n",
       "      <td>https://steamstore-a.akamaihd.net/public/share...</td>\n",
       "      <td>1158310</td>\n",
       "    </tr>\n",
       "  </tbody>\n",
       "</table>\n",
       "</div>"
      ],
      "text/plain": [
       "                                                 url  \\\n",
       "0  https://store.steampowered.com/app/945360/Amon...   \n",
       "1  https://store.steampowered.com/app/730/Counter...   \n",
       "2  https://store.steampowered.com/app/1097150/Fal...   \n",
       "3  https://store.steampowered.com/app/1158310/Cru...   \n",
       "\n",
       "                               name  \\\n",
       "0                          Among Us   \n",
       "1  Counter-Strike: Global Offensive   \n",
       "2      Fall Guys: Ultimate Knockout   \n",
       "3                Crusader Kings III   \n",
       "\n",
       "                                          categories  \\\n",
       "0  Online PvPLAN PvPOnline Co-opLAN Co-opCross-Pl...   \n",
       "1  Steam AchievementsFull controller supportSteam...   \n",
       "2  MMOOnline PvPOnline Co-opSteam AchievementsFul...   \n",
       "3  Single-playerOnline PvPSteam AchievementsSteam...   \n",
       "\n",
       "                                             img_url  \\\n",
       "0  https://steamcdn-a.akamaihd.net/steam/apps/945...   \n",
       "1  https://steamcdn-a.akamaihd.net/steam/apps/730...   \n",
       "2  https://steamcdn-a.akamaihd.net/steam/apps/109...   \n",
       "3  https://steamcdn-a.akamaihd.net/steam/apps/115...   \n",
       "\n",
       "                                        user_reviews  \\\n",
       "0  Overwhelmingly Positive(151,281)- 96% of the 1...   \n",
       "1  Very Positive(90,780)- 88% of the 90,780 user ...   \n",
       "2  Very Positive(32,436)- 84% of the 32,436 user ...   \n",
       "3  Very Positive(5,359)- 91% of the 5,359 user re...   \n",
       "\n",
       "                                         all_reviews          date  \\\n",
       "0  Overwhelmingly Positive(224,878)- 95% of the 2...  Nov 16, 2018   \n",
       "1  Very Positive(4,843,904)- 87% of the 4,843,904...  Aug 21, 2012   \n",
       "2  Very Positive(223,706)- 80% of the 223,706 use...   Aug 3, 2020   \n",
       "3  Very Positive(18,951)- 92% of the 18,951 user ...   Sep 1, 2020   \n",
       "\n",
       "                          developer            publisher  \\\n",
       "0                        Innersloth           Innersloth   \n",
       "1  Valve, Hidden Path Entertainment                Valve   \n",
       "2                        Mediatonic     Devolver Digital   \n",
       "3        Paradox Development Studio  Paradox Interactive   \n",
       "\n",
       "                                               price  \\\n",
       "0                       Buy Among Us$4.99Add to Cart   \n",
       "1  Play Counter-Strike: Global OffensiveFree to P...   \n",
       "2                     Buy Fall Guys$19.99Add to Cart   \n",
       "3            Buy Crusader Kings III$49.99Add to Cart   \n",
       "\n",
       "                                                pegi  \\\n",
       "0                                                  -   \n",
       "1                                                  -   \n",
       "2                                                  -   \n",
       "3  BloodLanguagePartial NuditySexual ThemesUse of...   \n",
       "\n",
       "                                            pegi_url       id  \n",
       "0                                                  -   945360  \n",
       "1                                                  -      730  \n",
       "2                                                  -  1097150  \n",
       "3  https://steamstore-a.akamaihd.net/public/share...  1158310  "
      ]
     },
     "execution_count": 5,
     "metadata": {},
     "output_type": "execute_result"
    }
   ],
   "source": [
    "df = pd.concat([df, steam_ids], join='inner', copy=False, axis=1)\n",
    "df.head(4)"
   ]
  },
  {
   "cell_type": "markdown",
   "metadata": {},
   "source": [
    "The author of the dataset included a final_data_new.json file where they attempt to clean the data from the csv. \n",
    "There are 2 problems 1. He didnt include the reviews so we must add that back after cleaning. \n",
    "They also did a poor job cleaning the price, which we had to re-do ourselves."
   ]
  },
  {
   "cell_type": "code",
   "execution_count": 6,
   "metadata": {},
   "outputs": [
    {
     "name": "stdout",
     "output_type": "stream",
     "text": [
      "Record(img_url='https://steamcdn-a.akamaihd.net/steam/apps/945360/header.jpg?t=1598556351', date='Nov 16, 2018', developer='Innersloth', publisher='Innersloth', full_desc={'sort': 'game', 'desc': \"About This Game Play with 4-10 player online or via local WiFi as you attempt to prepare your spaceship for departure, but beware as one or more random players among the Crew are Impostors bent on killing everyone!Originally created as a party game, we recommend playing with friends at a LAN party or online using voice chat. Enjoy cross-platform play between Android, iOS and PC. Win by completing tasks to prepare the ship or ejecting all Impostors. React quickly to undo the Impostor's sabotages. Check the Admin map and Security cameras to keep tabs on other Crewmates. Report any dead bodies immediately to start discussion of who the suspected Impostor is. Call emergency meetings to discuss suspicious behavior. Vote to eject suspected Impostors. Kill crewmates and frame bystanders. Pretend to run tasks to blend in with the crewmates. Sneak through the vents to quickly move about the ship. Use sabotages to cause chaos and divide the crew. Close doors to trap victims and kill in private.Features Customization: Pick your color and hat. Lots of game options: Add more impostors, more tasks, and so much more! Quickly find a game online from the host list. In-game text chat. Rich discord integration. Cross-platform play between PC, Android, and iOS!\"}, requirements={'minimum': {'windows': {'processor': ' SSE2 instruction set support', 'memory': ' 1 ', 'graphics': '', 'os': ' Windows 7 SP1+'}}, 'recommended': {}}, popu_tags=['Multiplayer', 'Online', 'Space', 'Social', 'Deduction', 'Survival', 'Funny2', 'Psychological', 'Local', 'Multiplayer', 'Cartoony', 'Casual', 'Indie', 'Colorful', 'Minigames', 'Local', 'Down', 'Aliens+'], price='499', url_info={'url': 'https://store.steampowered.com/app/945360/Among_Us/?snr=1_7_7_230_150_1', 'id': '945360', 'type': 'app', 'url_name': 'Among Us'}, name='Among Us', categories=['Online PvPLAN', 'PvPOnline Co-opLAN', 'Co-opCross-Platform Multiplayer Remote', 'Play on', 'Phone Remote Play', 'on Tablet'])\n"
     ]
    }
   ],
   "source": [
    "class Field:\n",
    "    \"\"\"\n",
    "    Representational json from steam\n",
    "    \"\"\"\n",
    "    data = []\n",
    "\n",
    "    def __init__(self):\n",
    "        self._load_data()\n",
    "\n",
    "    def _load_data(self) -> None: \n",
    "        with open('steam/final_data_new.json', 'r', encoding=\"utf-8\") as file:\n",
    "            for line in file:\n",
    "                json_line = json.loads(line,  object_hook=BlankDict)\n",
    "                for index in range(len(json_line)):\n",
    "                    if json_line[index]['publisher'] is not None:\n",
    "                        rec = Record.record(img_url=json_line[index]['img_url'], date=json_line[index]['date'], \n",
    "                                            developer=json_line[index]['developer'], publisher=json_line[index]['publisher'], \n",
    "                                            full_desc=json_line[index]['full_desc'], \n",
    "                                            requirements=json_line[index]['requirements'], popu_tags=json_line[index]['popu_tags'], \n",
    "                                            price=json_line[index]['price'], url_info=json_line[index]['url_info'], name=json_line[index]['name'], \n",
    "                                            categories=json_line[index]['categories'])\n",
    "                        self.data.append(rec)\n",
    "        file.close()\n",
    "\n",
    "class BlankDict(dict):\n",
    "    def __missing__(self, key):\n",
    "        return ''\n",
    "\n",
    "class Record: \n",
    "    \"\"\"\n",
    "    Representation of a record\n",
    "    \"\"\"\n",
    "    field = ['img_url', 'date', 'developer', 'publisher', 'full_desc', 'requirements', 'popu_tags', \n",
    "             'price', 'url_info', 'name', 'categories']\n",
    "    record = namedtuple('Record', field)\n",
    "\n",
    "field = Field()\n",
    "field.__init__()\n",
    "print(field.data[0])"
   ]
  },
  {
   "cell_type": "code",
   "execution_count": 7,
   "metadata": {},
   "outputs": [
    {
     "name": "stdout",
     "output_type": "stream",
     "text": [
      "(149642, 11)\n"
     ]
    }
   ],
   "source": [
    "clean_df = pd.DataFrame(field.data, dtype='object', columns=Record.field)\n",
    "print(clean_df.shape)\n",
    "clean_df = clean_df.drop_duplicates(subset=['img_url'])"
   ]
  },
  {
   "cell_type": "code",
   "execution_count": 8,
   "metadata": {},
   "outputs": [
    {
     "data": {
      "text/plain": [
       "(64344, 11)"
      ]
     },
     "execution_count": 8,
     "metadata": {},
     "output_type": "execute_result"
    }
   ],
   "source": [
    "clean_df.shape"
   ]
  },
  {
   "cell_type": "code",
   "execution_count": 9,
   "metadata": {},
   "outputs": [
    {
     "data": {
      "text/html": [
       "<div>\n",
       "<style scoped>\n",
       "    .dataframe tbody tr th:only-of-type {\n",
       "        vertical-align: middle;\n",
       "    }\n",
       "\n",
       "    .dataframe tbody tr th {\n",
       "        vertical-align: top;\n",
       "    }\n",
       "\n",
       "    .dataframe thead th {\n",
       "        text-align: right;\n",
       "    }\n",
       "</style>\n",
       "<table border=\"1\" class=\"dataframe\">\n",
       "  <thead>\n",
       "    <tr style=\"text-align: right;\">\n",
       "      <th></th>\n",
       "      <th>img_url</th>\n",
       "      <th>date</th>\n",
       "      <th>developer</th>\n",
       "      <th>publisher</th>\n",
       "      <th>full_desc</th>\n",
       "      <th>requirements</th>\n",
       "      <th>popu_tags</th>\n",
       "      <th>price</th>\n",
       "      <th>url_info</th>\n",
       "      <th>name</th>\n",
       "      <th>categories</th>\n",
       "      <th>id</th>\n",
       "    </tr>\n",
       "  </thead>\n",
       "  <tbody>\n",
       "    <tr>\n",
       "      <th>0</th>\n",
       "      <td>https://steamcdn-a.akamaihd.net/steam/apps/945...</td>\n",
       "      <td>Nov 16, 2018</td>\n",
       "      <td>Innersloth</td>\n",
       "      <td>Innersloth</td>\n",
       "      <td>{'sort': 'game', 'desc': 'About This Game Play...</td>\n",
       "      <td>{'minimum': {'windows': {'processor': ' SSE2 i...</td>\n",
       "      <td>[Multiplayer, Online, Space, Social, Deduction...</td>\n",
       "      <td>499</td>\n",
       "      <td>{'url': 'https://store.steampowered.com/app/94...</td>\n",
       "      <td>Among Us</td>\n",
       "      <td>[Online PvPLAN, PvPOnline Co-opLAN, Co-opCross...</td>\n",
       "      <td>945360</td>\n",
       "    </tr>\n",
       "  </tbody>\n",
       "</table>\n",
       "</div>"
      ],
      "text/plain": [
       "                                             img_url          date  \\\n",
       "0  https://steamcdn-a.akamaihd.net/steam/apps/945...  Nov 16, 2018   \n",
       "\n",
       "    developer   publisher                                          full_desc  \\\n",
       "0  Innersloth  Innersloth  {'sort': 'game', 'desc': 'About This Game Play...   \n",
       "\n",
       "                                        requirements  \\\n",
       "0  {'minimum': {'windows': {'processor': ' SSE2 i...   \n",
       "\n",
       "                                           popu_tags price  \\\n",
       "0  [Multiplayer, Online, Space, Social, Deduction...   499   \n",
       "\n",
       "                                            url_info      name  \\\n",
       "0  {'url': 'https://store.steampowered.com/app/94...  Among Us   \n",
       "\n",
       "                                          categories      id  \n",
       "0  [Online PvPLAN, PvPOnline Co-opLAN, Co-opCross...  945360  "
      ]
     },
     "execution_count": 9,
     "metadata": {},
     "output_type": "execute_result"
    }
   ],
   "source": [
    "clean_df = pd.concat([clean_df, df[['id']]], axis=1)\n",
    "clean_df.head(1)"
   ]
  },
  {
   "cell_type": "code",
   "execution_count": 10,
   "metadata": {},
   "outputs": [
    {
     "name": "stdout",
     "output_type": "stream",
     "text": [
      "(81047, 12)\n"
     ]
    }
   ],
   "source": [
    "clean_df.reindex()\n",
    "print(clean_df.shape)"
   ]
  },
  {
   "cell_type": "code",
   "execution_count": 11,
   "metadata": {},
   "outputs": [
    {
     "data": {
      "text/plain": [
       "img_url         object\n",
       "date            object\n",
       "developer       object\n",
       "publisher       object\n",
       "full_desc       object\n",
       "requirements    object\n",
       "popu_tags       object\n",
       "price           object\n",
       "url_info        object\n",
       "name            object\n",
       "categories      object\n",
       "id              object\n",
       "dtype: object"
      ]
     },
     "execution_count": 11,
     "metadata": {},
     "output_type": "execute_result"
    }
   ],
   "source": [
    "clean_df.dtypes"
   ]
  },
  {
   "cell_type": "code",
   "execution_count": 12,
   "metadata": {},
   "outputs": [
    {
     "data": {
      "text/html": [
       "<div>\n",
       "<style scoped>\n",
       "    .dataframe tbody tr th:only-of-type {\n",
       "        vertical-align: middle;\n",
       "    }\n",
       "\n",
       "    .dataframe tbody tr th {\n",
       "        vertical-align: top;\n",
       "    }\n",
       "\n",
       "    .dataframe thead th {\n",
       "        text-align: right;\n",
       "    }\n",
       "</style>\n",
       "<table border=\"1\" class=\"dataframe\">\n",
       "  <thead>\n",
       "    <tr style=\"text-align: right;\">\n",
       "      <th></th>\n",
       "      <th>date</th>\n",
       "      <th>developer</th>\n",
       "      <th>publisher</th>\n",
       "      <th>full_desc</th>\n",
       "      <th>requirements</th>\n",
       "      <th>popu_tags</th>\n",
       "      <th>price</th>\n",
       "      <th>url_info</th>\n",
       "      <th>name</th>\n",
       "      <th>categories</th>\n",
       "      <th>id</th>\n",
       "    </tr>\n",
       "  </thead>\n",
       "  <tbody>\n",
       "    <tr>\n",
       "      <th>0</th>\n",
       "      <td>Nov 16, 2018</td>\n",
       "      <td>Innersloth</td>\n",
       "      <td>Innersloth</td>\n",
       "      <td>{'sort': 'game', 'desc': 'About This Game Play...</td>\n",
       "      <td>{'minimum': {'windows': {'processor': ' SSE2 i...</td>\n",
       "      <td>[Multiplayer, Online, Space, Social, Deduction...</td>\n",
       "      <td>499</td>\n",
       "      <td>{'url': 'https://store.steampowered.com/app/94...</td>\n",
       "      <td>Among Us</td>\n",
       "      <td>[Online PvPLAN, PvPOnline Co-opLAN, Co-opCross...</td>\n",
       "      <td>945360</td>\n",
       "    </tr>\n",
       "  </tbody>\n",
       "</table>\n",
       "</div>"
      ],
      "text/plain": [
       "           date   developer   publisher  \\\n",
       "0  Nov 16, 2018  Innersloth  Innersloth   \n",
       "\n",
       "                                           full_desc  \\\n",
       "0  {'sort': 'game', 'desc': 'About This Game Play...   \n",
       "\n",
       "                                        requirements  \\\n",
       "0  {'minimum': {'windows': {'processor': ' SSE2 i...   \n",
       "\n",
       "                                           popu_tags price  \\\n",
       "0  [Multiplayer, Online, Space, Social, Deduction...   499   \n",
       "\n",
       "                                            url_info      name  \\\n",
       "0  {'url': 'https://store.steampowered.com/app/94...  Among Us   \n",
       "\n",
       "                                          categories      id  \n",
       "0  [Online PvPLAN, PvPOnline Co-opLAN, Co-opCross...  945360  "
      ]
     },
     "execution_count": 12,
     "metadata": {},
     "output_type": "execute_result"
    }
   ],
   "source": [
    "clean_df.drop('img_url', inplace=True, axis=1)\n",
    "clean_df.head(1)"
   ]
  },
  {
   "cell_type": "code",
   "execution_count": 13,
   "metadata": {},
   "outputs": [
    {
     "data": {
      "text/html": [
       "<div>\n",
       "<style scoped>\n",
       "    .dataframe tbody tr th:only-of-type {\n",
       "        vertical-align: middle;\n",
       "    }\n",
       "\n",
       "    .dataframe tbody tr th {\n",
       "        vertical-align: top;\n",
       "    }\n",
       "\n",
       "    .dataframe thead th {\n",
       "        text-align: right;\n",
       "    }\n",
       "</style>\n",
       "<table border=\"1\" class=\"dataframe\">\n",
       "  <thead>\n",
       "    <tr style=\"text-align: right;\">\n",
       "      <th></th>\n",
       "      <th>date</th>\n",
       "      <th>developer</th>\n",
       "      <th>publisher</th>\n",
       "      <th>full_desc</th>\n",
       "      <th>requirements</th>\n",
       "      <th>popu_tags</th>\n",
       "      <th>price</th>\n",
       "      <th>url_info</th>\n",
       "      <th>name</th>\n",
       "      <th>categories</th>\n",
       "      <th>id</th>\n",
       "    </tr>\n",
       "  </thead>\n",
       "  <tbody>\n",
       "    <tr>\n",
       "      <th>0</th>\n",
       "      <td>2018-11-16</td>\n",
       "      <td>Innersloth</td>\n",
       "      <td>Innersloth</td>\n",
       "      <td>{'sort': 'game', 'desc': 'About This Game Play...</td>\n",
       "      <td>{'minimum': {'windows': {'processor': ' SSE2 i...</td>\n",
       "      <td>[Multiplayer, Online, Space, Social, Deduction...</td>\n",
       "      <td>499</td>\n",
       "      <td>{'url': 'https://store.steampowered.com/app/94...</td>\n",
       "      <td>Among Us</td>\n",
       "      <td>[Online PvPLAN, PvPOnline Co-opLAN, Co-opCross...</td>\n",
       "      <td>945360</td>\n",
       "    </tr>\n",
       "  </tbody>\n",
       "</table>\n",
       "</div>"
      ],
      "text/plain": [
       "        date   developer   publisher  \\\n",
       "0 2018-11-16  Innersloth  Innersloth   \n",
       "\n",
       "                                           full_desc  \\\n",
       "0  {'sort': 'game', 'desc': 'About This Game Play...   \n",
       "\n",
       "                                        requirements  \\\n",
       "0  {'minimum': {'windows': {'processor': ' SSE2 i...   \n",
       "\n",
       "                                           popu_tags price  \\\n",
       "0  [Multiplayer, Online, Space, Social, Deduction...   499   \n",
       "\n",
       "                                            url_info      name  \\\n",
       "0  {'url': 'https://store.steampowered.com/app/94...  Among Us   \n",
       "\n",
       "                                          categories      id  \n",
       "0  [Online PvPLAN, PvPOnline Co-opLAN, Co-opCross...  945360  "
      ]
     },
     "execution_count": 13,
     "metadata": {},
     "output_type": "execute_result"
    }
   ],
   "source": [
    "clean_df['date'] = pd.to_datetime(clean_df['date'], errors='coerce')\n",
    "clean_df.head(1)"
   ]
  },
  {
   "cell_type": "code",
   "execution_count": 14,
   "metadata": {},
   "outputs": [
    {
     "data": {
      "text/plain": [
       "date            datetime64[ns]\n",
       "developer               object\n",
       "publisher               object\n",
       "full_desc               object\n",
       "requirements            object\n",
       "popu_tags               object\n",
       "price                   object\n",
       "url_info                object\n",
       "name                    object\n",
       "categories              object\n",
       "id                      object\n",
       "dtype: object"
      ]
     },
     "execution_count": 14,
     "metadata": {},
     "output_type": "execute_result"
    }
   ],
   "source": [
    "clean_df.dtypes"
   ]
  },
  {
   "cell_type": "code",
   "execution_count": 15,
   "metadata": {},
   "outputs": [
    {
     "data": {
      "text/plain": [
       "0     499\n",
       "1    free\n",
       "2     199\n",
       "3     499\n",
       "Name: price, dtype: object"
      ]
     },
     "execution_count": 15,
     "metadata": {},
     "output_type": "execute_result"
    }
   ],
   "source": [
    "clean_df['price'].head(4)"
   ]
  },
  {
   "cell_type": "markdown",
   "metadata": {},
   "source": [
    "There is a file called \"final_data_new.json\" where the price was cleaned, but it is incorrect. So we're cleaning the price here again."
   ]
  },
  {
   "cell_type": "code",
   "execution_count": 16,
   "metadata": {},
   "outputs": [
    {
     "data": {
      "text/html": [
       "<div>\n",
       "<style scoped>\n",
       "    .dataframe tbody tr th:only-of-type {\n",
       "        vertical-align: middle;\n",
       "    }\n",
       "\n",
       "    .dataframe tbody tr th {\n",
       "        vertical-align: top;\n",
       "    }\n",
       "\n",
       "    .dataframe thead th {\n",
       "        text-align: right;\n",
       "    }\n",
       "</style>\n",
       "<table border=\"1\" class=\"dataframe\">\n",
       "  <thead>\n",
       "    <tr style=\"text-align: right;\">\n",
       "      <th></th>\n",
       "      <th>date</th>\n",
       "      <th>developer</th>\n",
       "      <th>publisher</th>\n",
       "      <th>full_desc</th>\n",
       "      <th>requirements</th>\n",
       "      <th>popu_tags</th>\n",
       "      <th>url_info</th>\n",
       "      <th>name</th>\n",
       "      <th>categories</th>\n",
       "      <th>id</th>\n",
       "      <th>price</th>\n",
       "    </tr>\n",
       "  </thead>\n",
       "  <tbody>\n",
       "    <tr>\n",
       "      <th>0</th>\n",
       "      <td>2018-11-16</td>\n",
       "      <td>Innersloth</td>\n",
       "      <td>Innersloth</td>\n",
       "      <td>{'sort': 'game', 'desc': 'About This Game Play...</td>\n",
       "      <td>{'minimum': {'windows': {'processor': ' SSE2 i...</td>\n",
       "      <td>[Multiplayer, Online, Space, Social, Deduction...</td>\n",
       "      <td>{'url': 'https://store.steampowered.com/app/94...</td>\n",
       "      <td>Among Us</td>\n",
       "      <td>[Online PvPLAN, PvPOnline Co-opLAN, Co-opCross...</td>\n",
       "      <td>945360</td>\n",
       "      <td>4.99</td>\n",
       "    </tr>\n",
       "    <tr>\n",
       "      <th>1</th>\n",
       "      <td>2012-08-21</td>\n",
       "      <td>Valve, Hidden Path Entertainment</td>\n",
       "      <td>Valve</td>\n",
       "      <td>{'sort': 'game', 'desc': 'About This Game Coun...</td>\n",
       "      <td>{'minimum': {'windows': {'processor': ' Intel®...</td>\n",
       "      <td>[Shooter, Multiplayer, Competitive, Action, Te...</td>\n",
       "      <td>{'url': 'https://store.steampowered.com/app/73...</td>\n",
       "      <td>Counter-Strike: Global Offensive</td>\n",
       "      <td>[Steam Achievements Full, controller supportSt...</td>\n",
       "      <td>730</td>\n",
       "      <td>0.00</td>\n",
       "    </tr>\n",
       "    <tr>\n",
       "      <th>2</th>\n",
       "      <td>2020-08-03</td>\n",
       "      <td>Mediatonic</td>\n",
       "      <td>Devolver Digital</td>\n",
       "      <td>{'sort': 'game', 'desc': 'About This Game Fall...</td>\n",
       "      <td>{}</td>\n",
       "      <td>[Multiplayer, Funny, Battle, Royale, Online, F...</td>\n",
       "      <td>{'url': 'https://store.steampowered.com/app/10...</td>\n",
       "      <td>Fall Guys: Ultimate Knockout</td>\n",
       "      <td>[MMOOnline PvPOnline, Co-opSteam Achievements ...</td>\n",
       "      <td>1097150</td>\n",
       "      <td>19.99</td>\n",
       "    </tr>\n",
       "  </tbody>\n",
       "</table>\n",
       "</div>"
      ],
      "text/plain": [
       "        date                         developer         publisher  \\\n",
       "0 2018-11-16                        Innersloth        Innersloth   \n",
       "1 2012-08-21  Valve, Hidden Path Entertainment             Valve   \n",
       "2 2020-08-03                        Mediatonic  Devolver Digital   \n",
       "\n",
       "                                           full_desc  \\\n",
       "0  {'sort': 'game', 'desc': 'About This Game Play...   \n",
       "1  {'sort': 'game', 'desc': 'About This Game Coun...   \n",
       "2  {'sort': 'game', 'desc': 'About This Game Fall...   \n",
       "\n",
       "                                        requirements  \\\n",
       "0  {'minimum': {'windows': {'processor': ' SSE2 i...   \n",
       "1  {'minimum': {'windows': {'processor': ' Intel®...   \n",
       "2                                                 {}   \n",
       "\n",
       "                                           popu_tags  \\\n",
       "0  [Multiplayer, Online, Space, Social, Deduction...   \n",
       "1  [Shooter, Multiplayer, Competitive, Action, Te...   \n",
       "2  [Multiplayer, Funny, Battle, Royale, Online, F...   \n",
       "\n",
       "                                            url_info  \\\n",
       "0  {'url': 'https://store.steampowered.com/app/94...   \n",
       "1  {'url': 'https://store.steampowered.com/app/73...   \n",
       "2  {'url': 'https://store.steampowered.com/app/10...   \n",
       "\n",
       "                               name  \\\n",
       "0                          Among Us   \n",
       "1  Counter-Strike: Global Offensive   \n",
       "2      Fall Guys: Ultimate Knockout   \n",
       "\n",
       "                                          categories       id  price  \n",
       "0  [Online PvPLAN, PvPOnline Co-opLAN, Co-opCross...   945360   4.99  \n",
       "1  [Steam Achievements Full, controller supportSt...      730   0.00  \n",
       "2  [MMOOnline PvPOnline, Co-opSteam Achievements ...  1097150  19.99  "
      ]
     },
     "execution_count": 16,
     "metadata": {},
     "output_type": "execute_result"
    }
   ],
   "source": [
    "def clean_price(x): \n",
    "    result = re.search(pattern=r'[0-9]+\\.[0-9][0-9]', string=x)\n",
    "    if result is None: \n",
    "        result = re.search(pattern=r'Free to Play', string=x)\n",
    "        if result is not None: \n",
    "            return 0.00\n",
    "    if result is not None:\n",
    "        return result[0]\n",
    "    else:\n",
    "        return result\n",
    "\n",
    "clean_df['clean_price'] = df['price'].apply(lambda x: clean_price(x))\n",
    "clean_df['clean_price'] = clean_df['clean_price'].astype('float64')\n",
    "clean_df.drop('price', inplace=True, axis=1)\n",
    "clean_df.rename(columns={'clean_price': 'price'}, inplace=True)\n",
    "clean_df.head(3)"
   ]
  },
  {
   "cell_type": "code",
   "execution_count": 17,
   "metadata": {},
   "outputs": [
    {
     "data": {
      "text/plain": [
       "date            datetime64[ns]\n",
       "developer               object\n",
       "publisher               object\n",
       "full_desc               object\n",
       "requirements            object\n",
       "popu_tags               object\n",
       "url_info                object\n",
       "name                    object\n",
       "categories              object\n",
       "id                      object\n",
       "price                  float64\n",
       "dtype: object"
      ]
     },
     "execution_count": 17,
     "metadata": {},
     "output_type": "execute_result"
    }
   ],
   "source": [
    "clean_df.dtypes"
   ]
  },
  {
   "cell_type": "code",
   "execution_count": 18,
   "metadata": {},
   "outputs": [],
   "source": [
    "clean_df.drop(['url_info', 'requirements'], inplace=True, axis=1)"
   ]
  },
  {
   "cell_type": "code",
   "execution_count": 19,
   "metadata": {},
   "outputs": [
    {
     "data": {
      "text/html": [
       "<div>\n",
       "<style scoped>\n",
       "    .dataframe tbody tr th:only-of-type {\n",
       "        vertical-align: middle;\n",
       "    }\n",
       "\n",
       "    .dataframe tbody tr th {\n",
       "        vertical-align: top;\n",
       "    }\n",
       "\n",
       "    .dataframe thead th {\n",
       "        text-align: right;\n",
       "    }\n",
       "</style>\n",
       "<table border=\"1\" class=\"dataframe\">\n",
       "  <thead>\n",
       "    <tr style=\"text-align: right;\">\n",
       "      <th></th>\n",
       "      <th>date</th>\n",
       "      <th>developer</th>\n",
       "      <th>publisher</th>\n",
       "      <th>full_desc</th>\n",
       "      <th>popu_tags</th>\n",
       "      <th>name</th>\n",
       "      <th>categories</th>\n",
       "      <th>id</th>\n",
       "      <th>price</th>\n",
       "      <th>user_reviews</th>\n",
       "      <th>all_reviews</th>\n",
       "    </tr>\n",
       "  </thead>\n",
       "  <tbody>\n",
       "    <tr>\n",
       "      <th>0</th>\n",
       "      <td>2018-11-16</td>\n",
       "      <td>Innersloth</td>\n",
       "      <td>Innersloth</td>\n",
       "      <td>{'sort': 'game', 'desc': 'About This Game Play...</td>\n",
       "      <td>[Multiplayer, Online, Space, Social, Deduction...</td>\n",
       "      <td>Among Us</td>\n",
       "      <td>[Online PvPLAN, PvPOnline Co-opLAN, Co-opCross...</td>\n",
       "      <td>945360</td>\n",
       "      <td>4.99</td>\n",
       "      <td>Overwhelmingly Positive(151,281)- 96% of the 1...</td>\n",
       "      <td>Overwhelmingly Positive(224,878)- 95% of the 2...</td>\n",
       "    </tr>\n",
       "    <tr>\n",
       "      <th>1</th>\n",
       "      <td>2012-08-21</td>\n",
       "      <td>Valve, Hidden Path Entertainment</td>\n",
       "      <td>Valve</td>\n",
       "      <td>{'sort': 'game', 'desc': 'About This Game Coun...</td>\n",
       "      <td>[Shooter, Multiplayer, Competitive, Action, Te...</td>\n",
       "      <td>Counter-Strike: Global Offensive</td>\n",
       "      <td>[Steam Achievements Full, controller supportSt...</td>\n",
       "      <td>730</td>\n",
       "      <td>0.00</td>\n",
       "      <td>Very Positive(90,780)- 88% of the 90,780 user ...</td>\n",
       "      <td>Very Positive(4,843,904)- 87% of the 4,843,904...</td>\n",
       "    </tr>\n",
       "    <tr>\n",
       "      <th>2</th>\n",
       "      <td>2020-08-03</td>\n",
       "      <td>Mediatonic</td>\n",
       "      <td>Devolver Digital</td>\n",
       "      <td>{'sort': 'game', 'desc': 'About This Game Fall...</td>\n",
       "      <td>[Multiplayer, Funny, Battle, Royale, Online, F...</td>\n",
       "      <td>Fall Guys: Ultimate Knockout</td>\n",
       "      <td>[MMOOnline PvPOnline, Co-opSteam Achievements ...</td>\n",
       "      <td>1097150</td>\n",
       "      <td>19.99</td>\n",
       "      <td>Very Positive(32,436)- 84% of the 32,436 user ...</td>\n",
       "      <td>Very Positive(223,706)- 80% of the 223,706 use...</td>\n",
       "    </tr>\n",
       "  </tbody>\n",
       "</table>\n",
       "</div>"
      ],
      "text/plain": [
       "        date                         developer         publisher  \\\n",
       "0 2018-11-16                        Innersloth        Innersloth   \n",
       "1 2012-08-21  Valve, Hidden Path Entertainment             Valve   \n",
       "2 2020-08-03                        Mediatonic  Devolver Digital   \n",
       "\n",
       "                                           full_desc  \\\n",
       "0  {'sort': 'game', 'desc': 'About This Game Play...   \n",
       "1  {'sort': 'game', 'desc': 'About This Game Coun...   \n",
       "2  {'sort': 'game', 'desc': 'About This Game Fall...   \n",
       "\n",
       "                                           popu_tags  \\\n",
       "0  [Multiplayer, Online, Space, Social, Deduction...   \n",
       "1  [Shooter, Multiplayer, Competitive, Action, Te...   \n",
       "2  [Multiplayer, Funny, Battle, Royale, Online, F...   \n",
       "\n",
       "                               name  \\\n",
       "0                          Among Us   \n",
       "1  Counter-Strike: Global Offensive   \n",
       "2      Fall Guys: Ultimate Knockout   \n",
       "\n",
       "                                          categories       id  price  \\\n",
       "0  [Online PvPLAN, PvPOnline Co-opLAN, Co-opCross...   945360   4.99   \n",
       "1  [Steam Achievements Full, controller supportSt...      730   0.00   \n",
       "2  [MMOOnline PvPOnline, Co-opSteam Achievements ...  1097150  19.99   \n",
       "\n",
       "                                        user_reviews  \\\n",
       "0  Overwhelmingly Positive(151,281)- 96% of the 1...   \n",
       "1  Very Positive(90,780)- 88% of the 90,780 user ...   \n",
       "2  Very Positive(32,436)- 84% of the 32,436 user ...   \n",
       "\n",
       "                                         all_reviews  \n",
       "0  Overwhelmingly Positive(224,878)- 95% of the 2...  \n",
       "1  Very Positive(4,843,904)- 87% of the 4,843,904...  \n",
       "2  Very Positive(223,706)- 80% of the 223,706 use...  "
      ]
     },
     "execution_count": 19,
     "metadata": {},
     "output_type": "execute_result"
    }
   ],
   "source": [
    "clean_df = pd.concat([clean_df, df[['user_reviews', 'all_reviews']]], axis=1, join='inner')\n",
    "clean_df.head(3)"
   ]
  },
  {
   "cell_type": "code",
   "execution_count": 20,
   "metadata": {},
   "outputs": [],
   "source": [
    "clean_df.drop_duplicates(subset=['id'], inplace=True)\n",
    "clean_df.dropna(inplace=True)"
   ]
  },
  {
   "cell_type": "code",
   "execution_count": 21,
   "metadata": {},
   "outputs": [
    {
     "data": {
      "text/plain": [
       "(46248, 11)"
      ]
     },
     "execution_count": 21,
     "metadata": {},
     "output_type": "execute_result"
    }
   ],
   "source": [
    "clean_df.shape"
   ]
  },
  {
   "cell_type": "markdown",
   "metadata": {},
   "source": [
    "Something to note is price change, there could have been a steam sale that week when the data was initially pulled and \n",
    "when you go look at that game today, the price can change it could be cheaper or completely removed. "
   ]
  },
  {
   "cell_type": "markdown",
   "metadata": {},
   "source": [
    "Extract All Reviews Number"
   ]
  },
  {
   "cell_type": "code",
   "execution_count": 22,
   "metadata": {},
   "outputs": [
    {
     "data": {
      "text/html": [
       "<div>\n",
       "<style scoped>\n",
       "    .dataframe tbody tr th:only-of-type {\n",
       "        vertical-align: middle;\n",
       "    }\n",
       "\n",
       "    .dataframe tbody tr th {\n",
       "        vertical-align: top;\n",
       "    }\n",
       "\n",
       "    .dataframe thead th {\n",
       "        text-align: right;\n",
       "    }\n",
       "</style>\n",
       "<table border=\"1\" class=\"dataframe\">\n",
       "  <thead>\n",
       "    <tr style=\"text-align: right;\">\n",
       "      <th></th>\n",
       "      <th>date</th>\n",
       "      <th>developer</th>\n",
       "      <th>publisher</th>\n",
       "      <th>full_desc</th>\n",
       "      <th>popu_tags</th>\n",
       "      <th>name</th>\n",
       "      <th>categories</th>\n",
       "      <th>id</th>\n",
       "      <th>price</th>\n",
       "      <th>user_reviews</th>\n",
       "      <th>all_reviews</th>\n",
       "      <th>all_review_total</th>\n",
       "      <th>user_review_total</th>\n",
       "    </tr>\n",
       "  </thead>\n",
       "  <tbody>\n",
       "    <tr>\n",
       "      <th>0</th>\n",
       "      <td>2018-11-16</td>\n",
       "      <td>Innersloth</td>\n",
       "      <td>Innersloth</td>\n",
       "      <td>{'sort': 'game', 'desc': 'About This Game Play...</td>\n",
       "      <td>[Multiplayer, Online, Space, Social, Deduction...</td>\n",
       "      <td>Among Us</td>\n",
       "      <td>[Online PvPLAN, PvPOnline Co-opLAN, Co-opCross...</td>\n",
       "      <td>945360</td>\n",
       "      <td>4.99</td>\n",
       "      <td>Overwhelmingly Positive(151,281)- 96% of the 1...</td>\n",
       "      <td>Overwhelmingly Positive(224,878)- 95% of the 2...</td>\n",
       "      <td>224878</td>\n",
       "      <td>151281</td>\n",
       "    </tr>\n",
       "    <tr>\n",
       "      <th>1</th>\n",
       "      <td>2012-08-21</td>\n",
       "      <td>Valve, Hidden Path Entertainment</td>\n",
       "      <td>Valve</td>\n",
       "      <td>{'sort': 'game', 'desc': 'About This Game Coun...</td>\n",
       "      <td>[Shooter, Multiplayer, Competitive, Action, Te...</td>\n",
       "      <td>Counter-Strike: Global Offensive</td>\n",
       "      <td>[Steam Achievements Full, controller supportSt...</td>\n",
       "      <td>730</td>\n",
       "      <td>0.00</td>\n",
       "      <td>Very Positive(90,780)- 88% of the 90,780 user ...</td>\n",
       "      <td>Very Positive(4,843,904)- 87% of the 4,843,904...</td>\n",
       "      <td>4843904</td>\n",
       "      <td>90780</td>\n",
       "    </tr>\n",
       "    <tr>\n",
       "      <th>2</th>\n",
       "      <td>2020-08-03</td>\n",
       "      <td>Mediatonic</td>\n",
       "      <td>Devolver Digital</td>\n",
       "      <td>{'sort': 'game', 'desc': 'About This Game Fall...</td>\n",
       "      <td>[Multiplayer, Funny, Battle, Royale, Online, F...</td>\n",
       "      <td>Fall Guys: Ultimate Knockout</td>\n",
       "      <td>[MMOOnline PvPOnline, Co-opSteam Achievements ...</td>\n",
       "      <td>1097150</td>\n",
       "      <td>19.99</td>\n",
       "      <td>Very Positive(32,436)- 84% of the 32,436 user ...</td>\n",
       "      <td>Very Positive(223,706)- 80% of the 223,706 use...</td>\n",
       "      <td>223706</td>\n",
       "      <td>32436</td>\n",
       "    </tr>\n",
       "    <tr>\n",
       "      <th>3</th>\n",
       "      <td>2020-09-01</td>\n",
       "      <td>Paradox Development Studio</td>\n",
       "      <td>Paradox Interactive</td>\n",
       "      <td>{'sort': 'game', 'desc': 'About This Game Para...</td>\n",
       "      <td>[Strategy, Simulation, Medieval, Grand, Strate...</td>\n",
       "      <td>Crusader Kings III</td>\n",
       "      <td>[Single-playerOnline PvPSteam, Achievements St...</td>\n",
       "      <td>1158310</td>\n",
       "      <td>49.99</td>\n",
       "      <td>Very Positive(5,359)- 91% of the 5,359 user re...</td>\n",
       "      <td>Very Positive(18,951)- 92% of the 18,951 user ...</td>\n",
       "      <td>18951</td>\n",
       "      <td>5359</td>\n",
       "    </tr>\n",
       "  </tbody>\n",
       "</table>\n",
       "</div>"
      ],
      "text/plain": [
       "        date                         developer            publisher  \\\n",
       "0 2018-11-16                        Innersloth           Innersloth   \n",
       "1 2012-08-21  Valve, Hidden Path Entertainment                Valve   \n",
       "2 2020-08-03                        Mediatonic     Devolver Digital   \n",
       "3 2020-09-01        Paradox Development Studio  Paradox Interactive   \n",
       "\n",
       "                                           full_desc  \\\n",
       "0  {'sort': 'game', 'desc': 'About This Game Play...   \n",
       "1  {'sort': 'game', 'desc': 'About This Game Coun...   \n",
       "2  {'sort': 'game', 'desc': 'About This Game Fall...   \n",
       "3  {'sort': 'game', 'desc': 'About This Game Para...   \n",
       "\n",
       "                                           popu_tags  \\\n",
       "0  [Multiplayer, Online, Space, Social, Deduction...   \n",
       "1  [Shooter, Multiplayer, Competitive, Action, Te...   \n",
       "2  [Multiplayer, Funny, Battle, Royale, Online, F...   \n",
       "3  [Strategy, Simulation, Medieval, Grand, Strate...   \n",
       "\n",
       "                               name  \\\n",
       "0                          Among Us   \n",
       "1  Counter-Strike: Global Offensive   \n",
       "2      Fall Guys: Ultimate Knockout   \n",
       "3                Crusader Kings III   \n",
       "\n",
       "                                          categories       id  price  \\\n",
       "0  [Online PvPLAN, PvPOnline Co-opLAN, Co-opCross...   945360   4.99   \n",
       "1  [Steam Achievements Full, controller supportSt...      730   0.00   \n",
       "2  [MMOOnline PvPOnline, Co-opSteam Achievements ...  1097150  19.99   \n",
       "3  [Single-playerOnline PvPSteam, Achievements St...  1158310  49.99   \n",
       "\n",
       "                                        user_reviews  \\\n",
       "0  Overwhelmingly Positive(151,281)- 96% of the 1...   \n",
       "1  Very Positive(90,780)- 88% of the 90,780 user ...   \n",
       "2  Very Positive(32,436)- 84% of the 32,436 user ...   \n",
       "3  Very Positive(5,359)- 91% of the 5,359 user re...   \n",
       "\n",
       "                                         all_reviews all_review_total  \\\n",
       "0  Overwhelmingly Positive(224,878)- 95% of the 2...           224878   \n",
       "1  Very Positive(4,843,904)- 87% of the 4,843,904...          4843904   \n",
       "2  Very Positive(223,706)- 80% of the 223,706 use...           223706   \n",
       "3  Very Positive(18,951)- 92% of the 18,951 user ...            18951   \n",
       "\n",
       "  user_review_total  \n",
       "0            151281  \n",
       "1             90780  \n",
       "2             32436  \n",
       "3              5359  "
      ]
     },
     "execution_count": 22,
     "metadata": {},
     "output_type": "execute_result"
    }
   ],
   "source": [
    "def getreviewtotal(x):\n",
    "    \"\"\"\n",
    "    Get user and total reviews \n",
    "    Params x - the string \n",
    "    Return result - str the regex searched string or 0 if there \n",
    "    were no reviews found\n",
    "    \"\"\"\n",
    "    result = re.search(pattern=r'^.*\\((.*)\\)-.*$', string=x)\n",
    "    if result is not None:\n",
    "        return result.group(1).replace(\",\", \"\")\n",
    "    else: \n",
    "        return None\n",
    "\n",
    "clean_df['all_review_total'] = clean_df['all_reviews'].apply(lambda x: getreviewtotal(x))\n",
    "clean_df['user_review_total'] = clean_df['user_reviews'].apply(lambda x: getreviewtotal(x))\n",
    "clean_df['all_review_total'].astype('float64')\n",
    "clean_df['user_review_total'].astype('float64')\n",
    "clean_df.head(4)"
   ]
  },
  {
   "cell_type": "markdown",
   "metadata": {},
   "source": [
    "#### Exploratory Data Analysis"
   ]
  },
  {
   "cell_type": "markdown",
   "metadata": {},
   "source": [
    "What is the average price of a steam game?"
   ]
  },
  {
   "cell_type": "code",
   "execution_count": 23,
   "metadata": {},
   "outputs": [
    {
     "data": {
      "text/plain": [
       "10.99"
      ]
     },
     "execution_count": 23,
     "metadata": {},
     "output_type": "execute_result"
    }
   ],
   "source": [
    "np.around(clean_df['price'].sum()/clean_df['price'].size, 2)"
   ]
  },
  {
   "cell_type": "markdown",
   "metadata": {},
   "source": [
    "Average price without free to play?"
   ]
  },
  {
   "cell_type": "code",
   "execution_count": 24,
   "metadata": {},
   "outputs": [
    {
     "data": {
      "text/plain": [
       "11.16"
      ]
     },
     "execution_count": 24,
     "metadata": {},
     "output_type": "execute_result"
    }
   ],
   "source": [
    "without_free_price = clean_df[clean_df['price']>0]\n",
    "np.around(without_free_price['price'].sum()/without_free_price['price'].size, 2)"
   ]
  },
  {
   "cell_type": "markdown",
   "metadata": {},
   "source": [
    "Steam recently added a reviews chart and looks like this..."
   ]
  },
  {
   "cell_type": "markdown",
   "metadata": {},
   "source": [
    "![chart](chart.jpeg)"
   ]
  },
  {
   "cell_type": "code",
   "execution_count": 25,
   "metadata": {},
   "outputs": [
    {
     "data": {
      "text/plain": [
       "date                     0\n",
       "developer                0\n",
       "publisher                0\n",
       "full_desc                0\n",
       "popu_tags                0\n",
       "name                     0\n",
       "categories               0\n",
       "id                       0\n",
       "price                    0\n",
       "user_reviews             0\n",
       "all_reviews              0\n",
       "all_review_total     42739\n",
       "user_review_total    22590\n",
       "dtype: int64"
      ]
     },
     "execution_count": 25,
     "metadata": {},
     "output_type": "execute_result"
    }
   ],
   "source": [
    "clean_df.isnull().sum()"
   ]
  },
  {
   "cell_type": "code",
   "execution_count": 26,
   "metadata": {},
   "outputs": [
    {
     "name": "stdout",
     "output_type": "stream",
     "text": [
      "all_review_total     42739\n",
      "user_review_total    22590\n",
      "dtype: int64\n",
      "RATIOS\n",
      "92.41264\n",
      "48.84536\n"
     ]
    },
    {
     "data": {
      "text/plain": [
       "all_review_total     None\n",
       "user_review_total    None\n",
       "dtype: object"
      ]
     },
     "execution_count": 26,
     "metadata": {},
     "output_type": "execute_result"
    }
   ],
   "source": [
    "nullseries = clean_df.isnull().sum()\n",
    "nullseries = nullseries[nullseries > 0]\n",
    "print(nullseries)\n",
    "print(\"RATIOS\")\n",
    "\n",
    "nullseries.apply(lambda z: print(f\"{round((z/clean_df.shape[0])*100, 5)}\"))"
   ]
  },
  {
   "cell_type": "code",
   "execution_count": 27,
   "metadata": {},
   "outputs": [],
   "source": [
    "clean_df.dropna(inplace=True)"
   ]
  },
  {
   "cell_type": "code",
   "execution_count": 28,
   "metadata": {},
   "outputs": [
    {
     "data": {
      "text/plain": [
       "(3509, 13)"
      ]
     },
     "execution_count": 28,
     "metadata": {},
     "output_type": "execute_result"
    }
   ],
   "source": [
    "clean_df.shape"
   ]
  },
  {
   "cell_type": "code",
   "execution_count": 29,
   "metadata": {},
   "outputs": [],
   "source": [
    "clean_df['all_review_total'] = clean_df['all_review_total'].astype('int64')\n",
    "clean_df['user_review_total'] = clean_df['user_review_total'].astype('int64')"
   ]
  },
  {
   "cell_type": "code",
   "execution_count": 30,
   "metadata": {},
   "outputs": [
    {
     "data": {
      "text/plain": [
       "date                 datetime64[ns]\n",
       "developer                    object\n",
       "publisher                    object\n",
       "full_desc                    object\n",
       "popu_tags                    object\n",
       "name                         object\n",
       "categories                   object\n",
       "id                           object\n",
       "price                       float64\n",
       "user_reviews                 object\n",
       "all_reviews                  object\n",
       "all_review_total              int64\n",
       "user_review_total             int64\n",
       "dtype: object"
      ]
     },
     "execution_count": 30,
     "metadata": {},
     "output_type": "execute_result"
    }
   ],
   "source": [
    "clean_df.dtypes"
   ]
  },
  {
   "cell_type": "markdown",
   "metadata": {},
   "source": [
    "Boxlieter's number\n",
    "\n",
    "How much you should multiply a game’s review count by in order to estimate number of units sold\n"
   ]
  },
  {
   "cell_type": "code",
   "execution_count": 31,
   "metadata": {},
   "outputs": [],
   "source": [
    "Boxlieter = [index for index in range(10,110,10)]\n",
    "# predicted units sold\n",
    "def calculate_units_sold(x): \n",
    "    units = {}\n",
    "    for i in Boxlieter: \n",
    "        units[i] = (i * x)\n",
    "    return units \n",
    "\n",
    "clean_df['units'] = clean_df['all_review_total'].apply(lambda x: calculate_units_sold(x))"
   ]
  },
  {
   "cell_type": "code",
   "execution_count": 32,
   "metadata": {},
   "outputs": [
    {
     "data": {
      "text/plain": [
       "0    {10: 2248780, 20: 4497560, 30: 6746340, 40: 89...\n",
       "1    {10: 48439040, 20: 96878080, 30: 145317120, 40...\n",
       "2    {10: 2237060, 20: 4474120, 30: 6711180, 40: 89...\n",
       "3    {10: 189510, 20: 379020, 30: 568530, 40: 75804...\n",
       "Name: units, dtype: object"
      ]
     },
     "execution_count": 32,
     "metadata": {},
     "output_type": "execute_result"
    }
   ],
   "source": [
    "clean_df['units'].head(4)"
   ]
  },
  {
   "cell_type": "code",
   "execution_count": 33,
   "metadata": {},
   "outputs": [
    {
     "data": {
      "text/plain": [
       "dict_items([(10, 2248780), (20, 4497560), (30, 6746340), (40, 8995120), (50, 11243900), (60, 13492680), (70, 15741460), (80, 17990240), (90, 20239020), (100, 22487800)])"
      ]
     },
     "execution_count": 33,
     "metadata": {},
     "output_type": "execute_result"
    }
   ],
   "source": [
    "clean_df['units'][0].items()"
   ]
  },
  {
   "cell_type": "markdown",
   "metadata": {},
   "source": [
    "### EDA - Numerical "
   ]
  },
  {
   "cell_type": "code",
   "execution_count": 34,
   "metadata": {},
   "outputs": [
    {
     "data": {
      "text/html": [
       "<div>\n",
       "<style scoped>\n",
       "    .dataframe tbody tr th:only-of-type {\n",
       "        vertical-align: middle;\n",
       "    }\n",
       "\n",
       "    .dataframe tbody tr th {\n",
       "        vertical-align: top;\n",
       "    }\n",
       "\n",
       "    .dataframe thead th {\n",
       "        text-align: right;\n",
       "    }\n",
       "</style>\n",
       "<table border=\"1\" class=\"dataframe\">\n",
       "  <thead>\n",
       "    <tr style=\"text-align: right;\">\n",
       "      <th></th>\n",
       "      <th>date</th>\n",
       "      <th>developer</th>\n",
       "      <th>publisher</th>\n",
       "      <th>full_desc</th>\n",
       "      <th>popu_tags</th>\n",
       "      <th>name</th>\n",
       "      <th>categories</th>\n",
       "      <th>id</th>\n",
       "      <th>price</th>\n",
       "      <th>user_reviews</th>\n",
       "      <th>all_reviews</th>\n",
       "      <th>all_review_total</th>\n",
       "      <th>user_review_total</th>\n",
       "      <th>units</th>\n",
       "    </tr>\n",
       "  </thead>\n",
       "  <tbody>\n",
       "    <tr>\n",
       "      <th>0</th>\n",
       "      <td>2018-11-16</td>\n",
       "      <td>Innersloth</td>\n",
       "      <td>Innersloth</td>\n",
       "      <td>{'sort': 'game', 'desc': 'About This Game Play...</td>\n",
       "      <td>[Multiplayer, Online, Space, Social, Deduction...</td>\n",
       "      <td>Among Us</td>\n",
       "      <td>[Online PvPLAN, PvPOnline Co-opLAN, Co-opCross...</td>\n",
       "      <td>945360</td>\n",
       "      <td>4.99</td>\n",
       "      <td>Overwhelmingly Positive(151,281)- 96% of the 1...</td>\n",
       "      <td>Overwhelmingly Positive(224,878)- 95% of the 2...</td>\n",
       "      <td>224878</td>\n",
       "      <td>151281</td>\n",
       "      <td>{10: 2248780, 20: 4497560, 30: 6746340, 40: 89...</td>\n",
       "    </tr>\n",
       "  </tbody>\n",
       "</table>\n",
       "</div>"
      ],
      "text/plain": [
       "        date   developer   publisher  \\\n",
       "0 2018-11-16  Innersloth  Innersloth   \n",
       "\n",
       "                                           full_desc  \\\n",
       "0  {'sort': 'game', 'desc': 'About This Game Play...   \n",
       "\n",
       "                                           popu_tags      name  \\\n",
       "0  [Multiplayer, Online, Space, Social, Deduction...  Among Us   \n",
       "\n",
       "                                          categories      id  price  \\\n",
       "0  [Online PvPLAN, PvPOnline Co-opLAN, Co-opCross...  945360   4.99   \n",
       "\n",
       "                                        user_reviews  \\\n",
       "0  Overwhelmingly Positive(151,281)- 96% of the 1...   \n",
       "\n",
       "                                         all_reviews  all_review_total  \\\n",
       "0  Overwhelmingly Positive(224,878)- 95% of the 2...            224878   \n",
       "\n",
       "   user_review_total                                              units  \n",
       "0             151281  {10: 2248780, 20: 4497560, 30: 6746340, 40: 89...  "
      ]
     },
     "execution_count": 34,
     "metadata": {},
     "output_type": "execute_result"
    }
   ],
   "source": [
    "clean_df.head(1)"
   ]
  },
  {
   "cell_type": "code",
   "execution_count": 35,
   "metadata": {},
   "outputs": [],
   "source": [
    "rate_value = []\n",
    "scaled_units = []\n",
    "for i in clean_df['units'][0].items():\n",
    "    rate_value.append(i[0])\n",
    "    scaled_units.append(i[1])"
   ]
  },
  {
   "cell_type": "code",
   "execution_count": 36,
   "metadata": {},
   "outputs": [
    {
     "name": "stderr",
     "output_type": "stream",
     "text": [
      "C:\\Users\\Heather\\AppData\\Local\\Temp\\ipykernel_6912\\4175190304.py:2: MatplotlibDeprecationWarning: The seaborn styles shipped by Matplotlib are deprecated since 3.6, as they no longer correspond to the styles shipped by seaborn. However, they will remain available as 'seaborn-v0_8-<style>'. Alternatively, directly use the seaborn API instead.\n",
      "  plt.style.use('seaborn-talk')\n"
     ]
    },
    {
     "data": {
      "image/png": "[encoded data removed]",
      "text/plain": [
       "<Figure size 1000x500 with 1 Axes>"
      ]
     },
     "metadata": {},
     "output_type": "display_data"
    }
   ],
   "source": [
    "fig, ax = plt.subplots(figsize=(10, 5))\n",
    "plt.style.use('seaborn-talk')\n",
    "g = sns.barplot(clean_df, x=rate_value, y=scaled_units);\n",
    "ax.set_title('Scaled Units VS Estimated Units Sold')\n",
    "ax.set_xlabel('Scaled Units')\n",
    "ax.set_ylabel('Estimated Units Sold')\n",
    "\n",
    "g.set(ylim = (0,25000000))\n",
    "xlabels = ['{:,.2f}'.format(x) + 'K' for x in g.get_xticks()/1000]"
   ]
  },
  {
   "cell_type": "markdown",
   "metadata": {},
   "source": [
    "We have a linear relationship between our scaling factor and number of units sold."
   ]
  },
  {
   "cell_type": "code",
   "execution_count": 37,
   "metadata": {},
   "outputs": [
    {
     "name": "stderr",
     "output_type": "stream",
     "text": [
      "C:\\Users\\Heather\\AppData\\Local\\Temp\\ipykernel_6912\\3377804675.py:1: FutureWarning: The default value of numeric_only in DataFrameGroupBy.mean is deprecated. In a future version, numeric_only will default to False. Either specify numeric_only or select only columns which should be valid for the function.\n",
      "  year_group = clean_df.groupby(clean_df.date.dt.year).mean()\n"
     ]
    },
    {
     "data": {
      "text/html": [
       "<div>\n",
       "<style scoped>\n",
       "    .dataframe tbody tr th:only-of-type {\n",
       "        vertical-align: middle;\n",
       "    }\n",
       "\n",
       "    .dataframe tbody tr th {\n",
       "        vertical-align: top;\n",
       "    }\n",
       "\n",
       "    .dataframe thead th {\n",
       "        text-align: right;\n",
       "    }\n",
       "</style>\n",
       "<table border=\"1\" class=\"dataframe\">\n",
       "  <thead>\n",
       "    <tr style=\"text-align: right;\">\n",
       "      <th></th>\n",
       "      <th>price</th>\n",
       "      <th>all_review_total</th>\n",
       "      <th>user_review_total</th>\n",
       "    </tr>\n",
       "    <tr>\n",
       "      <th>date</th>\n",
       "      <th></th>\n",
       "      <th></th>\n",
       "      <th></th>\n",
       "    </tr>\n",
       "  </thead>\n",
       "  <tbody>\n",
       "    <tr>\n",
       "      <th>1984</th>\n",
       "      <td>9.99</td>\n",
       "      <td>484.0</td>\n",
       "      <td>11.0</td>\n",
       "    </tr>\n",
       "    <tr>\n",
       "      <th>1989</th>\n",
       "      <td>1.99</td>\n",
       "      <td>656.0</td>\n",
       "      <td>28.0</td>\n",
       "    </tr>\n",
       "    <tr>\n",
       "      <th>1990</th>\n",
       "      <td>14.99</td>\n",
       "      <td>767.0</td>\n",
       "      <td>13.0</td>\n",
       "    </tr>\n",
       "    <tr>\n",
       "      <th>1991</th>\n",
       "      <td>19.99</td>\n",
       "      <td>623.0</td>\n",
       "      <td>12.0</td>\n",
       "    </tr>\n",
       "  </tbody>\n",
       "</table>\n",
       "</div>"
      ],
      "text/plain": [
       "      price  all_review_total  user_review_total\n",
       "date                                            \n",
       "1984   9.99             484.0               11.0\n",
       "1989   1.99             656.0               28.0\n",
       "1990  14.99             767.0               13.0\n",
       "1991  19.99             623.0               12.0"
      ]
     },
     "execution_count": 37,
     "metadata": {},
     "output_type": "execute_result"
    }
   ],
   "source": [
    "year_group = clean_df.groupby(clean_df.date.dt.year).mean()\n",
    "year_group.head(4)"
   ]
  },
  {
   "cell_type": "code",
   "execution_count": 38,
   "metadata": {},
   "outputs": [
    {
     "name": "stderr",
     "output_type": "stream",
     "text": [
      "C:\\Users\\Heather\\AppData\\Local\\Temp\\ipykernel_6912\\3404108856.py:4: UserWarning: FixedFormatter should only be used together with FixedLocator\n",
      "  ax.set_xticklabels(labels=year_group.index, rotation=45, ha='center')\n"
     ]
    },
    {
     "data": {
      "image/png": "[encoded data removed]",
      "text/plain": [
       "<Figure size 1000x1000 with 1 Axes>"
      ]
     },
     "metadata": {},
     "output_type": "display_data"
    }
   ],
   "source": [
    "fig, ax = plt.subplots(figsize=(10, 10))\n",
    "ax.set_ylabel(ylabel='Average Price', labelpad=10)\n",
    "ax.set_xlabel(xlabel='Year')\n",
    "ax.set_xticklabels(labels=year_group.index, rotation=45, ha='center')\n",
    "sns.barplot(x=year_group.index, y=year_group['price'], ax=ax);"
   ]
  },
  {
   "cell_type": "code",
   "execution_count": 39,
   "metadata": {},
   "outputs": [
    {
     "name": "stdout",
     "output_type": "stream",
     "text": [
      "                                 OLS Regression Results                                \n",
      "=======================================================================================\n",
      "Dep. Variable:                  price   R-squared (uncentered):                   0.924\n",
      "Model:                            OLS   Adj. R-squared (uncentered):              0.916\n",
      "Method:                 Least Squares   F-statistic:                              124.9\n",
      "Date:                Mon, 06 Mar 2023   Prob (F-statistic):                    2.15e-17\n",
      "Time:                        12:47:26   Log-Likelihood:                         -97.688\n",
      "No. Observations:                  34   AIC:                                      201.4\n",
      "Df Residuals:                      31   BIC:                                      206.0\n",
      "Df Model:                           3                                                  \n",
      "Covariance Type:            nonrobust                                                  \n",
      "=====================================================================================\n",
      "                        coef    std err          t      P>|t|      [0.025      0.975]\n",
      "-------------------------------------------------------------------------------------\n",
      "all_review_total  -8.984e-05      0.000     -0.484      0.632      -0.000       0.000\n",
      "user_review_total     0.0086      0.010      0.881      0.385      -0.011       0.029\n",
      "date                  0.0070      0.000     14.540      0.000       0.006       0.008\n",
      "==============================================================================\n",
      "Omnibus:                       14.615   Durbin-Watson:                   1.695\n",
      "Prob(Omnibus):                  0.001   Jarque-Bera (JB):               15.587\n",
      "Skew:                          -1.356   Prob(JB):                     0.000412\n",
      "Kurtosis:                       4.911   Cond. No.                         191.\n",
      "==============================================================================\n",
      "\n",
      "Notes:\n",
      "[1] R² is computed without centering (uncentered) since the model does not contain a constant.\n",
      "[2] Standard Errors assume that the covariance matrix of the errors is correctly specified.\n"
     ]
    }
   ],
   "source": [
    "feature_matrix = sm.add_constant(year_group, prepend=False)\n",
    "feature_matrix = feature_matrix.reset_index()\n",
    "X = feature_matrix[['all_review_total', 'user_review_total', 'date']]\n",
    "y = feature_matrix[['price']]\n",
    "model = sm.OLS(y, X)\n",
    "multiple_lr = model.fit()\n",
    "print(multiple_lr.summary())"
   ]
  },
  {
   "cell_type": "markdown",
   "metadata": {},
   "source": [
    "There is a strong correlation between how many reviews a game gets and how many units they’ve sold. However, this ratio does depend on other factors – game’s release year, popularity and even price. [2] With an R2 of over 90% there exists strong correlations between price and reviews. "
   ]
  },
  {
   "cell_type": "markdown",
   "metadata": {},
   "source": [
    "Here we're scoping down the issue to filter on only Indie made games with tag \"Indie\" from the popu_tags column."
   ]
  },
  {
   "cell_type": "code",
   "execution_count": 40,
   "metadata": {},
   "outputs": [
    {
     "name": "stdout",
     "output_type": "stream",
     "text": [
      "(1588, 14)\n"
     ]
    },
    {
     "data": {
      "text/html": [
       "<div>\n",
       "<style scoped>\n",
       "    .dataframe tbody tr th:only-of-type {\n",
       "        vertical-align: middle;\n",
       "    }\n",
       "\n",
       "    .dataframe tbody tr th {\n",
       "        vertical-align: top;\n",
       "    }\n",
       "\n",
       "    .dataframe thead th {\n",
       "        text-align: right;\n",
       "    }\n",
       "</style>\n",
       "<table border=\"1\" class=\"dataframe\">\n",
       "  <thead>\n",
       "    <tr style=\"text-align: right;\">\n",
       "      <th></th>\n",
       "      <th>date</th>\n",
       "      <th>developer</th>\n",
       "      <th>publisher</th>\n",
       "      <th>full_desc</th>\n",
       "      <th>popu_tags</th>\n",
       "      <th>name</th>\n",
       "      <th>categories</th>\n",
       "      <th>id</th>\n",
       "      <th>price</th>\n",
       "      <th>user_reviews</th>\n",
       "      <th>all_reviews</th>\n",
       "      <th>all_review_total</th>\n",
       "      <th>user_review_total</th>\n",
       "      <th>units</th>\n",
       "    </tr>\n",
       "  </thead>\n",
       "  <tbody>\n",
       "    <tr>\n",
       "      <th>0</th>\n",
       "      <td>2018-11-16</td>\n",
       "      <td>Innersloth</td>\n",
       "      <td>Innersloth</td>\n",
       "      <td>{'sort': 'game', 'desc': 'About This Game Play...</td>\n",
       "      <td>[Multiplayer, Online, Space, Social, Deduction...</td>\n",
       "      <td>Among Us</td>\n",
       "      <td>[Online PvPLAN, PvPOnline Co-opLAN, Co-opCross...</td>\n",
       "      <td>945360</td>\n",
       "      <td>4.99</td>\n",
       "      <td>Overwhelmingly Positive(151,281)- 96% of the 1...</td>\n",
       "      <td>Overwhelmingly Positive(224,878)- 95% of the 2...</td>\n",
       "      <td>224878</td>\n",
       "      <td>151281</td>\n",
       "      <td>{10: 2248780, 20: 4497560, 30: 6746340, 40: 89...</td>\n",
       "    </tr>\n",
       "  </tbody>\n",
       "</table>\n",
       "</div>"
      ],
      "text/plain": [
       "        date   developer   publisher  \\\n",
       "0 2018-11-16  Innersloth  Innersloth   \n",
       "\n",
       "                                           full_desc  \\\n",
       "0  {'sort': 'game', 'desc': 'About This Game Play...   \n",
       "\n",
       "                                           popu_tags      name  \\\n",
       "0  [Multiplayer, Online, Space, Social, Deduction...  Among Us   \n",
       "\n",
       "                                          categories      id  price  \\\n",
       "0  [Online PvPLAN, PvPOnline Co-opLAN, Co-opCross...  945360   4.99   \n",
       "\n",
       "                                        user_reviews  \\\n",
       "0  Overwhelmingly Positive(151,281)- 96% of the 1...   \n",
       "\n",
       "                                         all_reviews  all_review_total  \\\n",
       "0  Overwhelmingly Positive(224,878)- 95% of the 2...            224878   \n",
       "\n",
       "   user_review_total                                              units  \n",
       "0             151281  {10: 2248780, 20: 4497560, 30: 6746340, 40: 89...  "
      ]
     },
     "execution_count": 40,
     "metadata": {},
     "output_type": "execute_result"
    }
   ],
   "source": [
    "clean_df = clean_df[clean_df['popu_tags'].astype(str).str.contains(\"Indie\") == True]\n",
    "print(clean_df.shape)\n",
    "clean_df.head(1)"
   ]
  },
  {
   "cell_type": "code",
   "execution_count": 41,
   "metadata": {},
   "outputs": [
    {
     "name": "stdout",
     "output_type": "stream",
     "text": [
      "price  (0, 10]  (10, 15]  (15, 20]\n",
      "date                              \n",
      "1997         1         0         0\n",
      "1998         1         0         0\n",
      "2001         3         0         0\n",
      "2003         0         0         1\n",
      "2004         0         0         0\n",
      "2006         1         1         0\n",
      "2007         0         1         0\n",
      "2008         3         0         0\n",
      "2009         2         0         1\n",
      "2010         1         1         1\n",
      "2011         3         1         4\n",
      "2012         7         7         6\n",
      "2013        17         6         7\n",
      "2014        36        10        11\n",
      "2015        37        22        22\n",
      "2016        67        26        26\n",
      "2017        90        30        55\n",
      "2018        93        37        47\n",
      "2019       123        64        68\n",
      "2020       117        47        80\n"
     ]
    }
   ],
   "source": [
    "bins = [0, 10, 15, 20]\n",
    "price_group = clean_df.groupby([clean_df.date.dt.year, pd.cut(clean_df.price, bins)])\n",
    "print(price_group.size().unstack())"
   ]
  },
  {
   "cell_type": "code",
   "execution_count": 42,
   "metadata": {},
   "outputs": [
    {
     "data": {
      "image/png": "[encoded data removed]",
      "text/plain": [
       "<Figure size 1040x715 with 1 Axes>"
      ]
     },
     "metadata": {},
     "output_type": "display_data"
    }
   ],
   "source": [
    "price_group.size().unstack().plot(xlabel=\"year\", ylabel=\"count\");"
   ]
  },
  {
   "cell_type": "code",
   "execution_count": 43,
   "metadata": {},
   "outputs": [
    {
     "data": {
      "image/png": "[encoded data removed]",
      "text/plain": [
       "<Figure size 1040x715 with 1 Axes>"
      ]
     },
     "metadata": {},
     "output_type": "display_data"
    }
   ],
   "source": [
    "sns.boxplot(price_group.size().unstack());"
   ]
  },
  {
   "cell_type": "code",
   "execution_count": 44,
   "metadata": {},
   "outputs": [
    {
     "data": {
      "image/png": "[encoded data removed]",
      "text/plain": [
       "<Figure size 1040x715 with 1 Axes>"
      ]
     },
     "metadata": {},
     "output_type": "display_data"
    }
   ],
   "source": [
    "sns.kdeplot(price_group.size().unstack());"
   ]
  },
  {
   "cell_type": "markdown",
   "metadata": {},
   "source": [
    "### Model Pre-processing"
   ]
  },
  {
   "cell_type": "code",
   "execution_count": 45,
   "metadata": {},
   "outputs": [],
   "source": [
    "clean_df.drop(['id', 'user_reviews', 'all_reviews'], inplace=True, axis=1)"
   ]
  },
  {
   "attachments": {},
   "cell_type": "markdown",
   "metadata": {},
   "source": [
    "Feature Engineering: Add title length and scaled multiplier units."
   ]
  },
  {
   "cell_type": "code",
   "execution_count": 46,
   "metadata": {},
   "outputs": [],
   "source": [
    "clean_df['title_length'] = clean_df['name'].apply(lambda x: len(x))"
   ]
  },
  {
   "cell_type": "code",
   "execution_count": 47,
   "metadata": {},
   "outputs": [
    {
     "data": {
      "text/html": [
       "<div>\n",
       "<style scoped>\n",
       "    .dataframe tbody tr th:only-of-type {\n",
       "        vertical-align: middle;\n",
       "    }\n",
       "\n",
       "    .dataframe tbody tr th {\n",
       "        vertical-align: top;\n",
       "    }\n",
       "\n",
       "    .dataframe thead th {\n",
       "        text-align: right;\n",
       "    }\n",
       "</style>\n",
       "<table border=\"1\" class=\"dataframe\">\n",
       "  <thead>\n",
       "    <tr style=\"text-align: right;\">\n",
       "      <th></th>\n",
       "      <th>date</th>\n",
       "      <th>developer</th>\n",
       "      <th>publisher</th>\n",
       "      <th>full_desc</th>\n",
       "      <th>popu_tags</th>\n",
       "      <th>name</th>\n",
       "      <th>categories</th>\n",
       "      <th>price</th>\n",
       "      <th>all_review_total</th>\n",
       "      <th>user_review_total</th>\n",
       "      <th>units</th>\n",
       "      <th>title_length</th>\n",
       "    </tr>\n",
       "  </thead>\n",
       "  <tbody>\n",
       "    <tr>\n",
       "      <th>0</th>\n",
       "      <td>2018-11-16</td>\n",
       "      <td>Innersloth</td>\n",
       "      <td>Innersloth</td>\n",
       "      <td>{'sort': 'game', 'desc': 'About This Game Play...</td>\n",
       "      <td>[Multiplayer, Online, Space, Social, Deduction...</td>\n",
       "      <td>Among Us</td>\n",
       "      <td>[Online PvPLAN, PvPOnline Co-opLAN, Co-opCross...</td>\n",
       "      <td>4.99</td>\n",
       "      <td>224878</td>\n",
       "      <td>151281</td>\n",
       "      <td>{10: 2248780, 20: 4497560, 30: 6746340, 40: 89...</td>\n",
       "      <td>8</td>\n",
       "    </tr>\n",
       "  </tbody>\n",
       "</table>\n",
       "</div>"
      ],
      "text/plain": [
       "        date   developer   publisher  \\\n",
       "0 2018-11-16  Innersloth  Innersloth   \n",
       "\n",
       "                                           full_desc  \\\n",
       "0  {'sort': 'game', 'desc': 'About This Game Play...   \n",
       "\n",
       "                                           popu_tags      name  \\\n",
       "0  [Multiplayer, Online, Space, Social, Deduction...  Among Us   \n",
       "\n",
       "                                          categories  price  all_review_total  \\\n",
       "0  [Online PvPLAN, PvPOnline Co-opLAN, Co-opCross...   4.99            224878   \n",
       "\n",
       "   user_review_total                                              units  \\\n",
       "0             151281  {10: 2248780, 20: 4497560, 30: 6746340, 40: 89...   \n",
       "\n",
       "   title_length  \n",
       "0             8  "
      ]
     },
     "execution_count": 47,
     "metadata": {},
     "output_type": "execute_result"
    }
   ],
   "source": [
    "clean_df.head(1)"
   ]
  },
  {
   "cell_type": "code",
   "execution_count": 48,
   "metadata": {},
   "outputs": [],
   "source": [
    "categorical_df = clean_df[['full_desc', 'popu_tags', 'categories', 'developer', 'publisher', 'name']]\n",
    "clean_df.drop(['full_desc', 'popu_tags', 'categories', 'developer', 'publisher', 'name'], inplace=True, axis=1)"
   ]
  },
  {
   "cell_type": "code",
   "execution_count": 49,
   "metadata": {},
   "outputs": [
    {
     "data": {
      "text/html": [
       "<div>\n",
       "<style scoped>\n",
       "    .dataframe tbody tr th:only-of-type {\n",
       "        vertical-align: middle;\n",
       "    }\n",
       "\n",
       "    .dataframe tbody tr th {\n",
       "        vertical-align: top;\n",
       "    }\n",
       "\n",
       "    .dataframe thead th {\n",
       "        text-align: right;\n",
       "    }\n",
       "</style>\n",
       "<table border=\"1\" class=\"dataframe\">\n",
       "  <thead>\n",
       "    <tr style=\"text-align: right;\">\n",
       "      <th></th>\n",
       "      <th>date</th>\n",
       "      <th>price</th>\n",
       "      <th>all_review_total</th>\n",
       "      <th>user_review_total</th>\n",
       "      <th>units</th>\n",
       "      <th>title_length</th>\n",
       "    </tr>\n",
       "  </thead>\n",
       "  <tbody>\n",
       "    <tr>\n",
       "      <th>0</th>\n",
       "      <td>2018-11-16</td>\n",
       "      <td>4.99</td>\n",
       "      <td>224878</td>\n",
       "      <td>151281</td>\n",
       "      <td>{10: 2248780, 20: 4497560, 30: 6746340, 40: 89...</td>\n",
       "      <td>8</td>\n",
       "    </tr>\n",
       "  </tbody>\n",
       "</table>\n",
       "</div>"
      ],
      "text/plain": [
       "        date  price  all_review_total  user_review_total  \\\n",
       "0 2018-11-16   4.99            224878             151281   \n",
       "\n",
       "                                               units  title_length  \n",
       "0  {10: 2248780, 20: 4497560, 30: 6746340, 40: 89...             8  "
      ]
     },
     "execution_count": 49,
     "metadata": {},
     "output_type": "execute_result"
    }
   ],
   "source": [
    "clean_df.head(1)"
   ]
  },
  {
   "cell_type": "markdown",
   "metadata": {},
   "source": [
    "convert dict to header/value pairs"
   ]
  },
  {
   "cell_type": "code",
   "execution_count": 50,
   "metadata": {},
   "outputs": [
    {
     "name": "stdout",
     "output_type": "stream",
     "text": [
      "(414, 15)\n",
      "date                 datetime64[ns]\n",
      "price                       float64\n",
      "all_review_total            float64\n",
      "user_review_total           float64\n",
      "title_length                float64\n",
      "10                          float64\n",
      "20                          float64\n",
      "30                          float64\n",
      "40                          float64\n",
      "50                          float64\n",
      "60                          float64\n",
      "70                          float64\n",
      "80                          float64\n",
      "90                          float64\n",
      "100                         float64\n",
      "dtype: object\n"
     ]
    },
    {
     "data": {
      "text/html": [
       "<div>\n",
       "<style scoped>\n",
       "    .dataframe tbody tr th:only-of-type {\n",
       "        vertical-align: middle;\n",
       "    }\n",
       "\n",
       "    .dataframe tbody tr th {\n",
       "        vertical-align: top;\n",
       "    }\n",
       "\n",
       "    .dataframe thead th {\n",
       "        text-align: right;\n",
       "    }\n",
       "</style>\n",
       "<table border=\"1\" class=\"dataframe\">\n",
       "  <thead>\n",
       "    <tr style=\"text-align: right;\">\n",
       "      <th></th>\n",
       "      <th>date</th>\n",
       "      <th>price</th>\n",
       "      <th>all_review_total</th>\n",
       "      <th>user_review_total</th>\n",
       "      <th>title_length</th>\n",
       "      <th>10</th>\n",
       "      <th>20</th>\n",
       "      <th>30</th>\n",
       "      <th>40</th>\n",
       "      <th>50</th>\n",
       "      <th>60</th>\n",
       "      <th>70</th>\n",
       "      <th>80</th>\n",
       "      <th>90</th>\n",
       "      <th>100</th>\n",
       "    </tr>\n",
       "  </thead>\n",
       "  <tbody>\n",
       "    <tr>\n",
       "      <th>0</th>\n",
       "      <td>2018-11-16</td>\n",
       "      <td>4.99</td>\n",
       "      <td>224878.0</td>\n",
       "      <td>151281.0</td>\n",
       "      <td>8.0</td>\n",
       "      <td>2248780.0</td>\n",
       "      <td>4497560.0</td>\n",
       "      <td>6746340.0</td>\n",
       "      <td>8995120.0</td>\n",
       "      <td>11243900.0</td>\n",
       "      <td>13492680.0</td>\n",
       "      <td>15741460.0</td>\n",
       "      <td>17990240.0</td>\n",
       "      <td>20239020.0</td>\n",
       "      <td>22487800.0</td>\n",
       "    </tr>\n",
       "  </tbody>\n",
       "</table>\n",
       "</div>"
      ],
      "text/plain": [
       "        date  price  all_review_total  user_review_total  title_length  \\\n",
       "0 2018-11-16   4.99          224878.0           151281.0           8.0   \n",
       "\n",
       "          10         20         30         40          50          60  \\\n",
       "0  2248780.0  4497560.0  6746340.0  8995120.0  11243900.0  13492680.0   \n",
       "\n",
       "           70          80          90         100  \n",
       "0  15741460.0  17990240.0  20239020.0  22487800.0  "
      ]
     },
     "execution_count": 50,
     "metadata": {},
     "output_type": "execute_result"
    }
   ],
   "source": [
    "units_df = pd.DataFrame.from_records(data=clean_df.units, columns=[index for index in range(10,110,10)])\n",
    "clean_df = pd.concat([clean_df, units_df], axis=1)\n",
    "clean_df.drop('units', inplace=True, axis=1)\n",
    "clean_df.dropna(inplace=True)\n",
    "print(clean_df.shape)\n",
    "print(clean_df.dtypes)\n",
    "clean_df.head(1)"
   ]
  },
  {
   "cell_type": "code",
   "execution_count": 51,
   "metadata": {},
   "outputs": [
    {
     "data": {
      "image/png": "[encoded data removed]",
      "text/plain": [
       "<Figure size 1040x715 with 1 Axes>"
      ]
     },
     "metadata": {},
     "output_type": "display_data"
    }
   ],
   "source": [
    "calc_result = clean_df.apply(['mean', 'median'])\n",
    "calc_result.drop(['price', 'all_review_total', 'user_review_total', 'date'], axis=1, inplace=True)\n",
    "\n",
    "g = calc_result.T.plot.barh(title='Steam Units Sold & Review to Sales Multiplier')\n",
    "g.set_xlabel('Average Steam Units Sold')\n",
    "g.set_ylabel('Review Scale Multiplier');"
   ]
  },
  {
   "cell_type": "markdown",
   "metadata": {},
   "source": [
    "There are exceptions to this rule. For example, Elden Ring, which recently hit 17.5 million units sold across all platforms, has over 400,000 reviews on Steam. “It’s likely this is because Elden Ring is a ‘game that people want to talk about’ — with >90% Positive reviews,” Carless noted. “And so 1 in 20-25 players leave a review, compared to the 1 in 50-60 that is more normal with a large-scale game.” Which equtes to a <span style=\"color:red\">350</span> scaled multiplier! [1]"
   ]
  },
  {
   "attachments": {},
   "cell_type": "markdown",
   "metadata": {},
   "source": [
    "Check the target distribution rate"
   ]
  },
  {
   "cell_type": "code",
   "execution_count": 52,
   "metadata": {},
   "outputs": [
    {
     "data": {
      "image/png": "[encoded data removed]",
      "text/plain": [
       "<Figure size 1040x715 with 1 Axes>"
      ]
     },
     "metadata": {},
     "output_type": "display_data"
    }
   ],
   "source": [
    "clean_df['price'].value_counts().plot.bar(ylabel='count', xlabel='price');"
   ]
  },
  {
   "cell_type": "markdown",
   "metadata": {},
   "source": [
    "what is the estimated number of units sold at the median price of indie games?"
   ]
  },
  {
   "cell_type": "code",
   "execution_count": 53,
   "metadata": {},
   "outputs": [
    {
     "data": {
      "text/html": [
       "<div>\n",
       "<style scoped>\n",
       "    .dataframe tbody tr th:only-of-type {\n",
       "        vertical-align: middle;\n",
       "    }\n",
       "\n",
       "    .dataframe tbody tr th {\n",
       "        vertical-align: top;\n",
       "    }\n",
       "\n",
       "    .dataframe thead th {\n",
       "        text-align: right;\n",
       "    }\n",
       "</style>\n",
       "<table border=\"1\" class=\"dataframe\">\n",
       "  <thead>\n",
       "    <tr style=\"text-align: right;\">\n",
       "      <th></th>\n",
       "      <th>date</th>\n",
       "      <th>price</th>\n",
       "      <th>all_review_total</th>\n",
       "      <th>user_review_total</th>\n",
       "      <th>title_length</th>\n",
       "      <th>10</th>\n",
       "      <th>20</th>\n",
       "      <th>30</th>\n",
       "      <th>40</th>\n",
       "      <th>50</th>\n",
       "      <th>60</th>\n",
       "      <th>70</th>\n",
       "      <th>80</th>\n",
       "      <th>90</th>\n",
       "      <th>100</th>\n",
       "    </tr>\n",
       "  </thead>\n",
       "  <tbody>\n",
       "    <tr>\n",
       "      <th>median</th>\n",
       "      <td>2018-12-08 00:00:00</td>\n",
       "      <td>19.990000</td>\n",
       "      <td>5775.000000</td>\n",
       "      <td>136.000000</td>\n",
       "      <td>15.000000</td>\n",
       "      <td>15180.000000</td>\n",
       "      <td>30360.000000</td>\n",
       "      <td>45540.000000</td>\n",
       "      <td>6.072000e+04</td>\n",
       "      <td>7.590000e+04</td>\n",
       "      <td>9.108000e+04</td>\n",
       "      <td>1.062600e+05</td>\n",
       "      <td>1.214400e+05</td>\n",
       "      <td>1.366200e+05</td>\n",
       "      <td>1.518000e+05</td>\n",
       "    </tr>\n",
       "    <tr>\n",
       "      <th>mean</th>\n",
       "      <td>2018-03-27 17:13:02.608695552</td>\n",
       "      <td>23.363816</td>\n",
       "      <td>24727.178744</td>\n",
       "      <td>970.021739</td>\n",
       "      <td>18.376812</td>\n",
       "      <td>67271.932367</td>\n",
       "      <td>134543.864734</td>\n",
       "      <td>201815.797101</td>\n",
       "      <td>2.690877e+05</td>\n",
       "      <td>3.363597e+05</td>\n",
       "      <td>4.036316e+05</td>\n",
       "      <td>4.709035e+05</td>\n",
       "      <td>5.381755e+05</td>\n",
       "      <td>6.054474e+05</td>\n",
       "      <td>6.727193e+05</td>\n",
       "    </tr>\n",
       "    <tr>\n",
       "      <th>std</th>\n",
       "      <td>874 days 17:20:56.556752992</td>\n",
       "      <td>14.831215</td>\n",
       "      <td>83346.231652</td>\n",
       "      <td>7736.449473</td>\n",
       "      <td>11.054040</td>\n",
       "      <td>309887.323509</td>\n",
       "      <td>619774.647017</td>\n",
       "      <td>929661.970526</td>\n",
       "      <td>1.239549e+06</td>\n",
       "      <td>1.549437e+06</td>\n",
       "      <td>1.859324e+06</td>\n",
       "      <td>2.169211e+06</td>\n",
       "      <td>2.479099e+06</td>\n",
       "      <td>2.788986e+06</td>\n",
       "      <td>3.098873e+06</td>\n",
       "    </tr>\n",
       "  </tbody>\n",
       "</table>\n",
       "</div>"
      ],
      "text/plain": [
       "                                 date      price  all_review_total  \\\n",
       "median            2018-12-08 00:00:00  19.990000       5775.000000   \n",
       "mean    2018-03-27 17:13:02.608695552  23.363816      24727.178744   \n",
       "std       874 days 17:20:56.556752992  14.831215      83346.231652   \n",
       "\n",
       "        user_review_total  title_length             10             20  \\\n",
       "median         136.000000     15.000000   15180.000000   30360.000000   \n",
       "mean           970.021739     18.376812   67271.932367  134543.864734   \n",
       "std           7736.449473     11.054040  309887.323509  619774.647017   \n",
       "\n",
       "                   30            40            50            60            70  \\\n",
       "median   45540.000000  6.072000e+04  7.590000e+04  9.108000e+04  1.062600e+05   \n",
       "mean    201815.797101  2.690877e+05  3.363597e+05  4.036316e+05  4.709035e+05   \n",
       "std     929661.970526  1.239549e+06  1.549437e+06  1.859324e+06  2.169211e+06   \n",
       "\n",
       "                  80            90           100  \n",
       "median  1.214400e+05  1.366200e+05  1.518000e+05  \n",
       "mean    5.381755e+05  6.054474e+05  6.727193e+05  \n",
       "std     2.479099e+06  2.788986e+06  3.098873e+06  "
      ]
     },
     "execution_count": 53,
     "metadata": {},
     "output_type": "execute_result"
    }
   ],
   "source": [
    "median_price = clean_df.apply(['median', 'mean', 'std'])\n",
    "median_price"
   ]
  },
  {
   "cell_type": "code",
   "execution_count": 54,
   "metadata": {},
   "outputs": [
    {
     "data": {
      "text/plain": [
       "19.99"
      ]
     },
     "execution_count": 54,
     "metadata": {},
     "output_type": "execute_result"
    }
   ],
   "source": [
    "median_price.price['median']"
   ]
  },
  {
   "cell_type": "code",
   "execution_count": 55,
   "metadata": {},
   "outputs": [
    {
     "data": {
      "text/html": [
       "<div>\n",
       "<style scoped>\n",
       "    .dataframe tbody tr th:only-of-type {\n",
       "        vertical-align: middle;\n",
       "    }\n",
       "\n",
       "    .dataframe tbody tr th {\n",
       "        vertical-align: top;\n",
       "    }\n",
       "\n",
       "    .dataframe thead th {\n",
       "        text-align: right;\n",
       "    }\n",
       "</style>\n",
       "<table border=\"1\" class=\"dataframe\">\n",
       "  <thead>\n",
       "    <tr style=\"text-align: right;\">\n",
       "      <th></th>\n",
       "      <th>10</th>\n",
       "      <th>20</th>\n",
       "      <th>30</th>\n",
       "      <th>40</th>\n",
       "      <th>50</th>\n",
       "      <th>60</th>\n",
       "      <th>70</th>\n",
       "      <th>80</th>\n",
       "      <th>90</th>\n",
       "      <th>100</th>\n",
       "    </tr>\n",
       "  </thead>\n",
       "  <tbody>\n",
       "    <tr>\n",
       "      <th>median</th>\n",
       "      <td>15180.000000</td>\n",
       "      <td>30360.000000</td>\n",
       "      <td>45540.000000</td>\n",
       "      <td>6.072000e+04</td>\n",
       "      <td>7.590000e+04</td>\n",
       "      <td>9.108000e+04</td>\n",
       "      <td>1.062600e+05</td>\n",
       "      <td>1.214400e+05</td>\n",
       "      <td>1.366200e+05</td>\n",
       "      <td>1.518000e+05</td>\n",
       "    </tr>\n",
       "    <tr>\n",
       "      <th>mean</th>\n",
       "      <td>67271.932367</td>\n",
       "      <td>134543.864734</td>\n",
       "      <td>201815.797101</td>\n",
       "      <td>2.690877e+05</td>\n",
       "      <td>3.363597e+05</td>\n",
       "      <td>4.036316e+05</td>\n",
       "      <td>4.709035e+05</td>\n",
       "      <td>5.381755e+05</td>\n",
       "      <td>6.054474e+05</td>\n",
       "      <td>6.727193e+05</td>\n",
       "    </tr>\n",
       "    <tr>\n",
       "      <th>std</th>\n",
       "      <td>309887.323509</td>\n",
       "      <td>619774.647017</td>\n",
       "      <td>929661.970526</td>\n",
       "      <td>1.239549e+06</td>\n",
       "      <td>1.549437e+06</td>\n",
       "      <td>1.859324e+06</td>\n",
       "      <td>2.169211e+06</td>\n",
       "      <td>2.479099e+06</td>\n",
       "      <td>2.788986e+06</td>\n",
       "      <td>3.098873e+06</td>\n",
       "    </tr>\n",
       "  </tbody>\n",
       "</table>\n",
       "</div>"
      ],
      "text/plain": [
       "                   10             20             30            40  \\\n",
       "median   15180.000000   30360.000000   45540.000000  6.072000e+04   \n",
       "mean     67271.932367  134543.864734  201815.797101  2.690877e+05   \n",
       "std     309887.323509  619774.647017  929661.970526  1.239549e+06   \n",
       "\n",
       "                  50            60            70            80            90  \\\n",
       "median  7.590000e+04  9.108000e+04  1.062600e+05  1.214400e+05  1.366200e+05   \n",
       "mean    3.363597e+05  4.036316e+05  4.709035e+05  5.381755e+05  6.054474e+05   \n",
       "std     1.549437e+06  1.859324e+06  2.169211e+06  2.479099e+06  2.788986e+06   \n",
       "\n",
       "                 100  \n",
       "median  1.518000e+05  \n",
       "mean    6.727193e+05  \n",
       "std     3.098873e+06  "
      ]
     },
     "execution_count": 55,
     "metadata": {},
     "output_type": "execute_result"
    }
   ],
   "source": [
    "median_price.iloc[:, 5:]"
   ]
  },
  {
   "attachments": {},
   "cell_type": "markdown",
   "metadata": {},
   "source": [
    "Drop scaling multiplier"
   ]
  },
  {
   "cell_type": "code",
   "execution_count": 56,
   "metadata": {},
   "outputs": [],
   "source": [
    "clean_df.drop(clean_df.iloc[:, 5:], axis=1, inplace=True)"
   ]
  },
  {
   "cell_type": "code",
   "execution_count": 57,
   "metadata": {},
   "outputs": [],
   "source": [
    "# period = ['<2012', '2013-2016', '2017-2019', '2020>']\n",
    "# def time_period(date):\n",
    "#     if (date < pd.Timestamp(2012,1,1)):\n",
    "#         return '<2012'\n",
    "#     elif (date < pd.Timestamp(2017,1,1)):\n",
    "#         return '2013-2016'\n",
    "#     elif (date < pd.Timestamp(2020,1,1)):\n",
    "#         return '2017-2019'\n",
    "#     return '>2020'\n",
    "    \n",
    "\n",
    "# clean_df['period'] = clean_df.apply(lambda row: time_period(row.date), axis=1)\n",
    "\n",
    "# np.around(clean_df.groupby(clean_df.period).mean(), 2)\n",
    "# units_sold_year = clean_df.groupby([clean_df.date.dt.year, pd.cut(clean_df.iloc[:, 3], period)])\n",
    "# print(units_sold_year.size().unstack())"
   ]
  },
  {
   "cell_type": "markdown",
   "metadata": {},
   "source": [
    "### Scaling & Split the data before Model Selection"
   ]
  },
  {
   "cell_type": "code",
   "execution_count": 58,
   "metadata": {},
   "outputs": [],
   "source": [
    "y = clean_df[['price']]\n",
    "y = np.ravel(y)\n",
    "clean_df.drop(['price', 'date'], inplace=True, axis=1)\n",
    "\n",
    "X = clean_df\n",
    "X.columns = X.columns.astype(str)"
   ]
  },
  {
   "cell_type": "code",
   "execution_count": 59,
   "metadata": {},
   "outputs": [
    {
     "name": "stdout",
     "output_type": "stream",
     "text": [
      "(331, 3)\n",
      "(83, 3)\n",
      "(331,)\n",
      "(83,)\n",
      "[39.99] [0.]\n"
     ]
    }
   ],
   "source": [
    "# ss = StandardScaler()\n",
    "# minmax = MinMaxScaler()\n",
    "# scaled_x = minmax.fit_transform(X)\n",
    "# scaled_y = minmax.fit_transform(y.reshape(-1, 1))\n",
    "\n",
    "# scaled_y = np.ravel(scaled_y)\n",
    "\n",
    "x_train, x_test, y_train, y_test = train_test_split(X, y, test_size=.20, random_state=0)\n",
    "\n",
    "print(x_train.shape)\n",
    "print(x_test.shape)\n",
    "print(y_train.shape)\n",
    "print(y_test.shape)\n",
    "print(y_train[:1], y_test[:1])"
   ]
  },
  {
   "cell_type": "markdown",
   "metadata": {},
   "source": [
    "### Model Selection"
   ]
  },
  {
   "cell_type": "markdown",
   "metadata": {},
   "source": [
    "* Linear Regression\n",
    "* DecisionTree Regressor\n",
    "* Random Forest Regressor\n",
    "* Bayesian Ridge\n",
    "* SVM-R\n",
    "* Bagging Regressor"
   ]
  },
  {
   "cell_type": "code",
   "execution_count": 60,
   "metadata": {},
   "outputs": [
    {
     "name": "stdout",
     "output_type": "stream",
     "text": [
      "[23.46713775 23.24396569 23.30574277 23.33949254 23.19252033]\n",
      "Coefficients: \n",
      " [ 4.02577483e-07 -1.28636345e-04  4.90888240e-03]\n",
      "MSE: 211.10506879914269\n",
      "R2: 0.005510619010687279\n"
     ]
    }
   ],
   "source": [
    "prettytable = PrettyTable(field_names=[\"Model\", \"Score\"])\n",
    "\n",
    "lr = LinearRegression()\n",
    "lr_model = lr.fit(x_train, y_train)\n",
    "lr_train_pred = lr_model.predict(x_train)\n",
    "print(lr_train_pred[:5])\n",
    "\n",
    "mse = mean_squared_error(y_train, lr_train_pred)\n",
    "r_squared = lr_model.score(x_train, y_train)\n",
    "print(\"Coefficients: \\n\", lr_model.coef_)\n",
    "print('MSE:', mse)\n",
    "print('R2:', r_squared)\n",
    "\n",
    "prettytable.add_row(['Linear Regression', round(lr_model.score(X=x_train, y=y_train), 5)])"
   ]
  },
  {
   "cell_type": "code",
   "execution_count": 61,
   "metadata": {},
   "outputs": [
    {
     "name": "stdout",
     "output_type": "stream",
     "text": [
      "[39.99 39.99 19.99 34.99 59.99]\n"
     ]
    }
   ],
   "source": [
    "dt_r = DecisionTreeRegressor(random_state=0)\n",
    "dt_r = dt_r.fit(x_train, y_train)\n",
    "dtr_y_pred = dt_r.predict(x_train)\n",
    "print(dtr_y_pred[:5])\n",
    "\n",
    "prettytable.add_row(['Decision Tree Regressor', round(dt_r.score(x_train, y_train), 5)])"
   ]
  },
  {
   "cell_type": "code",
   "execution_count": 62,
   "metadata": {},
   "outputs": [
    {
     "name": "stdout",
     "output_type": "stream",
     "text": [
      "[34.2402 37.2903 23.5901 31.84   48.4504]\n"
     ]
    }
   ],
   "source": [
    "rfr = RandomForestRegressor(n_estimators=100, random_state=0)\n",
    "rfr = rfr.fit(x_train, y_train)\n",
    "rfr_pred = rfr.predict(x_train)\n",
    "print(rfr_pred[:5])\n",
    "\n",
    "prettytable.add_row(['Random Forest Regressor', round(rfr.score(x_train, y_train), 5)])"
   ]
  },
  {
   "cell_type": "code",
   "execution_count": 63,
   "metadata": {},
   "outputs": [
    {
     "name": "stdout",
     "output_type": "stream",
     "text": [
      "[23.36173839 23.31507978 23.35730567 23.34699112 23.21486845]\n"
     ]
    }
   ],
   "source": [
    "b_ridge = linear_model.BayesianRidge()\n",
    "b_ridge = b_ridge.fit(x_train, y_train)\n",
    "bridge_pred = b_ridge.predict(x_train)\n",
    "print(bridge_pred[:5])\n",
    "\n",
    "prettytable.add_row(['Bayesian Ridge', round(b_ridge.score(x_train, y_train), 5)])"
   ]
  },
  {
   "cell_type": "code",
   "execution_count": 64,
   "metadata": {},
   "outputs": [
    {
     "name": "stdout",
     "output_type": "stream",
     "text": [
      "[20.08989698 20.08928513 20.08986027 20.09022048 20.09076308]\n"
     ]
    }
   ],
   "source": [
    "regr_svm = svm.SVR()\n",
    "regr_svm.fit(x_train, y_train)\n",
    "regr_svm_pred = regr_svm.predict(x_train)\n",
    "print(regr_svm_pred[:5])\n",
    "\n",
    "prettytable.add_row(['SVM Regressor', round(regr_svm.score(x_train, y_train), 5)])"
   ]
  },
  {
   "cell_type": "code",
   "execution_count": 65,
   "metadata": {},
   "outputs": [
    {
     "name": "stdout",
     "output_type": "stream",
     "text": [
      "[22.09  36.99  20.991 30.39  48.991]\n"
     ]
    }
   ],
   "source": [
    "bgr = BaggingRegressor()\n",
    "\n",
    "bgr = bgr.fit(x_train, y_train)\n",
    "bgr_pred = bgr.predict(x_train)\n",
    "print(bgr_pred[:5])\n",
    "\n",
    "prettytable.add_row(['Bagging Regessor', round(bgr.score(x_train, y_train), 5)])"
   ]
  },
  {
   "cell_type": "code",
   "execution_count": null,
   "metadata": {},
   "outputs": [],
   "source": []
  },
  {
   "cell_type": "code",
   "execution_count": 66,
   "metadata": {},
   "outputs": [
    {
     "data": {
      "text/html": [
       "<table>\n",
       "    <thead>\n",
       "        <tr>\n",
       "            <th>Model</th>\n",
       "            <th>Score</th>\n",
       "        </tr>\n",
       "    </thead>\n",
       "    <tbody>\n",
       "        <tr>\n",
       "            <td>Linear Regression</td>\n",
       "            <td>0.00551</td>\n",
       "        </tr>\n",
       "        <tr>\n",
       "            <td>Decision Tree Regressor</td>\n",
       "            <td>1.0</td>\n",
       "        </tr>\n",
       "        <tr>\n",
       "            <td>Random Forest Regressor</td>\n",
       "            <td>0.84108</td>\n",
       "        </tr>\n",
       "        <tr>\n",
       "            <td>Bayesian Ridge</td>\n",
       "            <td>0.0055</td>\n",
       "        </tr>\n",
       "        <tr>\n",
       "            <td>SVM Regressor</td>\n",
       "            <td>-0.04555</td>\n",
       "        </tr>\n",
       "        <tr>\n",
       "            <td>Bagging Regessor</td>\n",
       "            <td>0.79241</td>\n",
       "        </tr>\n",
       "    </tbody>\n",
       "</table>"
      ],
      "text/plain": [
       "+-------------------------+----------+\n",
       "|          Model          |  Score   |\n",
       "+-------------------------+----------+\n",
       "|    Linear Regression    | 0.00551  |\n",
       "| Decision Tree Regressor |   1.0    |\n",
       "| Random Forest Regressor | 0.84108  |\n",
       "|      Bayesian Ridge     |  0.0055  |\n",
       "|      SVM Regressor      | -0.04555 |\n",
       "|     Bagging Regessor    | 0.79241  |\n",
       "+-------------------------+----------+"
      ]
     },
     "execution_count": 66,
     "metadata": {},
     "output_type": "execute_result"
    }
   ],
   "source": [
    "prettytable"
   ]
  },
  {
   "cell_type": "markdown",
   "metadata": {},
   "source": [
    "The decision tree regessor is overfitting, with random forest and bagging regressor following close behind."
   ]
  },
  {
   "cell_type": "markdown",
   "metadata": {},
   "source": [
    "### Select top 3 performing models and begin hyperparameter tuning"
   ]
  },
  {
   "cell_type": "code",
   "execution_count": 67,
   "metadata": {},
   "outputs": [
    {
     "name": "stderr",
     "output_type": "stream",
     "text": [
      "C:\\Users\\Heather\\AppData\\Local\\Temp\\ipykernel_6912\\3523219541.py:8: RuntimeWarning: invalid value encountered in sqrt\n",
      "  pretty2table.add_row([\"Random Forest Regressor\", sorted(np.sqrt(-scores_rfr), reverse=True)])\n"
     ]
    },
    {
     "data": {
      "text/html": [
       "<table>\n",
       "    <thead>\n",
       "        <tr>\n",
       "            <th>Field 1</th>\n",
       "            <th>Field 2</th>\n",
       "        </tr>\n",
       "    </thead>\n",
       "    <tbody>\n",
       "        <tr>\n",
       "            <td>Decision Tree Regressor</td>\n",
       "            <td>[1.0245871486160392, 0.962726659338193, 0.9339383047011439, 0.9100135731812169, 0.8830068231314846]</td>\n",
       "        </tr>\n",
       "        <tr>\n",
       "            <td>Random Forest Regressor</td>\n",
       "            <td>[0.5351242261016009, nan, 0.5183624623921633, 0.48488680809750606, 0.47174182172007834]</td>\n",
       "        </tr>\n",
       "        <tr>\n",
       "            <td>Bagging Regressor</td>\n",
       "            <td>[0.7140398853978354, 0.5401018167478344, 0.5058642173127043, 0.45151730571446347, 0.23679281053794857]</td>\n",
       "        </tr>\n",
       "    </tbody>\n",
       "</table>"
      ],
      "text/plain": [
       "+-------------------------+--------------------------------------------------------------------------------------------------------+\n",
       "|         Field 1         |                                                Field 2                                                 |\n",
       "+-------------------------+--------------------------------------------------------------------------------------------------------+\n",
       "| Decision Tree Regressor |  [1.0245871486160392, 0.962726659338193, 0.9339383047011439, 0.9100135731812169, 0.8830068231314846]   |\n",
       "| Random Forest Regressor |        [0.5351242261016009, nan, 0.5183624623921633, 0.48488680809750606, 0.47174182172007834]         |\n",
       "|    Bagging Regressor    | [0.7140398853978354, 0.5401018167478344, 0.5058642173127043, 0.45151730571446347, 0.23679281053794857] |\n",
       "+-------------------------+--------------------------------------------------------------------------------------------------------+"
      ]
     },
     "execution_count": 67,
     "metadata": {},
     "output_type": "execute_result"
    }
   ],
   "source": [
    "scores_dtr = cross_val_score(estimator=dt_r, X=x_train, y=y_train, cv=5, error_score='raise')\n",
    "scores_rfr = cross_val_score(estimator=rfr, X=x_train, y=y_train, cv=5, error_score='raise')\n",
    "scores_bag = cross_val_score(estimator=bgr, X=x_train, y=y_train, cv=5, error_score='raise')\n",
    "\n",
    "pretty2table = PrettyTable()\n",
    "\n",
    "pretty2table.add_row([\"Decision Tree Regressor\", sorted(np.sqrt(-scores_dtr), reverse=True)])\n",
    "pretty2table.add_row([\"Random Forest Regressor\", sorted(np.sqrt(-scores_rfr), reverse=True)])\n",
    "pretty2table.add_row([\"Bagging Regressor\", sorted(np.sqrt(-scores_bag), reverse=True)])\n",
    "\n",
    "pretty2table"
   ]
  },
  {
   "cell_type": "markdown",
   "metadata": {},
   "source": [
    "Our best model from the top three was Decision Tree Regressor."
   ]
  },
  {
   "cell_type": "code",
   "execution_count": 68,
   "metadata": {},
   "outputs": [
    {
     "name": "stdout",
     "output_type": "stream",
     "text": [
      "Fitting 8 folds for each of 24 candidates, totalling 192 fits\n"
     ]
    }
   ],
   "source": [
    "param_grid_search = [\n",
    "    {'criterion': ['friedman_mse', 'squared_error', 'absolute_error', 'poisson']},\n",
    "    {'splitter': ['best', 'random']}, \n",
    "    {'max_depth': [3, 5 ,7, 10, 15]},\n",
    "    {'min_samples_split': [8, 10, 12, 16, 20]}, \n",
    "    {'min_samples_leaf': [3, 5, 10, 15, 20]}, \n",
    "    {'max_features': ['auto', 'sqrt', 'log2']},\n",
    "]\n",
    "\n",
    "grid_search = GridSearchCV(estimator=dt_r, cv=8, param_grid=param_grid_search, error_score='raise', verbose=3, n_jobs=10)\n",
    "\n",
    "dt_model = grid_search.fit(x_train, y_train)"
   ]
  },
  {
   "cell_type": "code",
   "execution_count": 69,
   "metadata": {},
   "outputs": [
    {
     "data": {
      "text/html": [
       "<style>#sk-container-id-1 {color: black;background-color: white;}#sk-container-id-1 pre{padding: 0;}#sk-container-id-1 div.sk-toggleable {background-color: white;}#sk-container-id-1 label.sk-toggleable__label {cursor: pointer;display: block;width: 100%;margin-bottom: 0;padding: 0.3em;box-sizing: border-box;text-align: center;}#sk-container-id-1 label.sk-toggleable__label-arrow:before {content: \"▸\";float: left;margin-right: 0.25em;color: #696969;}#sk-container-id-1 label.sk-toggleable__label-arrow:hover:before {color: black;}#sk-container-id-1 div.sk-estimator:hover label.sk-toggleable__label-arrow:before {color: black;}#sk-container-id-1 div.sk-toggleable__content {max-height: 0;max-width: 0;overflow: hidden;text-align: left;background-color: #f0f8ff;}#sk-container-id-1 div.sk-toggleable__content pre {margin: 0.2em;color: black;border-radius: 0.25em;background-color: #f0f8ff;}#sk-container-id-1 input.sk-toggleable__control:checked~div.sk-toggleable__content {max-height: 200px;max-width: 100%;overflow: auto;}#sk-container-id-1 input.sk-toggleable__control:checked~label.sk-toggleable__label-arrow:before {content: \"▾\";}#sk-container-id-1 div.sk-estimator input.sk-toggleable__control:checked~label.sk-toggleable__label {background-color: #d4ebff;}#sk-container-id-1 div.sk-label input.sk-toggleable__control:checked~label.sk-toggleable__label {background-color: #d4ebff;}#sk-container-id-1 input.sk-hidden--visually {border: 0;clip: rect(1px 1px 1px 1px);clip: rect(1px, 1px, 1px, 1px);height: 1px;margin: -1px;overflow: hidden;padding: 0;position: absolute;width: 1px;}#sk-container-id-1 div.sk-estimator {font-family: monospace;background-color: #f0f8ff;border: 1px dotted black;border-radius: 0.25em;box-sizing: border-box;margin-bottom: 0.5em;}#sk-container-id-1 div.sk-estimator:hover {background-color: #d4ebff;}#sk-container-id-1 div.sk-parallel-item::after {content: \"\";width: 100%;border-bottom: 1px solid gray;flex-grow: 1;}#sk-container-id-1 div.sk-label:hover label.sk-toggleable__label {background-color: #d4ebff;}#sk-container-id-1 div.sk-serial::before {content: \"\";position: absolute;border-left: 1px solid gray;box-sizing: border-box;top: 0;bottom: 0;left: 50%;z-index: 0;}#sk-container-id-1 div.sk-serial {display: flex;flex-direction: column;align-items: center;background-color: white;padding-right: 0.2em;padding-left: 0.2em;position: relative;}#sk-container-id-1 div.sk-item {position: relative;z-index: 1;}#sk-container-id-1 div.sk-parallel {display: flex;align-items: stretch;justify-content: center;background-color: white;position: relative;}#sk-container-id-1 div.sk-item::before, #sk-container-id-1 div.sk-parallel-item::before {content: \"\";position: absolute;border-left: 1px solid gray;box-sizing: border-box;top: 0;bottom: 0;left: 50%;z-index: -1;}#sk-container-id-1 div.sk-parallel-item {display: flex;flex-direction: column;z-index: 1;position: relative;background-color: white;}#sk-container-id-1 div.sk-parallel-item:first-child::after {align-self: flex-end;width: 50%;}#sk-container-id-1 div.sk-parallel-item:last-child::after {align-self: flex-start;width: 50%;}#sk-container-id-1 div.sk-parallel-item:only-child::after {width: 0;}#sk-container-id-1 div.sk-dashed-wrapped {border: 1px dashed gray;margin: 0 0.4em 0.5em 0.4em;box-sizing: border-box;padding-bottom: 0.4em;background-color: white;}#sk-container-id-1 div.sk-label label {font-family: monospace;font-weight: bold;display: inline-block;line-height: 1.2em;}#sk-container-id-1 div.sk-label-container {text-align: center;}#sk-container-id-1 div.sk-container {/* jupyter's `normalize.less` sets `[hidden] { display: none; }` but bootstrap.min.css set `[hidden] { display: none !important; }` so we also need the `!important` here to be able to override the default hidden behavior on the sphinx rendered scikit-learn.org. See: https://github.com/scikit-learn/scikit-learn/issues/21755 */display: inline-block !important;position: relative;}#sk-container-id-1 div.sk-text-repr-fallback {display: none;}</style><div id=\"sk-container-id-1\" class=\"sk-top-container\"><div class=\"sk-text-repr-fallback\"><pre>DecisionTreeRegressor(max_depth=3, random_state=0)</pre><b>In a Jupyter environment, please rerun this cell to show the HTML representation or trust the notebook. <br />On GitHub, the HTML representation is unable to render, please try loading this page with nbviewer.org.</b></div><div class=\"sk-container\" hidden><div class=\"sk-item\"><div class=\"sk-estimator sk-toggleable\"><input class=\"sk-toggleable__control sk-hidden--visually\" id=\"sk-estimator-id-1\" type=\"checkbox\" checked><label for=\"sk-estimator-id-1\" class=\"sk-toggleable__label sk-toggleable__label-arrow\">DecisionTreeRegressor</label><div class=\"sk-toggleable__content\"><pre>DecisionTreeRegressor(max_depth=3, random_state=0)</pre></div></div></div></div></div>"
      ],
      "text/plain": [
       "DecisionTreeRegressor(max_depth=3, random_state=0)"
      ]
     },
     "execution_count": 69,
     "metadata": {},
     "output_type": "execute_result"
    }
   ],
   "source": [
    "dt_model.best_estimator_"
   ]
  },
  {
   "cell_type": "code",
   "execution_count": 70,
   "metadata": {},
   "outputs": [
    {
     "data": {
      "text/plain": [
       "{'max_depth': 3}"
      ]
     },
     "execution_count": 70,
     "metadata": {},
     "output_type": "execute_result"
    }
   ],
   "source": [
    "dt_model.best_params_"
   ]
  },
  {
   "cell_type": "code",
   "execution_count": 82,
   "metadata": {},
   "outputs": [
    {
     "data": {
      "text/plain": [
       "0.3584850834318223"
      ]
     },
     "execution_count": 82,
     "metadata": {},
     "output_type": "execute_result"
    }
   ],
   "source": [
    "np.sqrt(-dt_model.best_score_)"
   ]
  },
  {
   "cell_type": "code",
   "execution_count": 78,
   "metadata": {},
   "outputs": [
    {
     "data": {
      "text/plain": [
       "array([0.325175  , 0.30435081, 0.47884693, 0.56696089, 0.33855402])"
      ]
     },
     "execution_count": 78,
     "metadata": {},
     "output_type": "execute_result"
    }
   ],
   "source": [
    "best_dt_scores = cross_val_score(estimator=dt_model.best_estimator_, X=x_train, y=y_train)\n",
    "np.sqrt(-best_dt_scores)"
   ]
  },
  {
   "cell_type": "code",
   "execution_count": 86,
   "metadata": {},
   "outputs": [
    {
     "name": "stdout",
     "output_type": "stream",
     "text": [
      "Best Predictions:  [22.56 27.04 27.04 22.56 22.56]\n",
      "Compare Training Best Estimator Scores:\n",
      "R2 Score: 0.06\n",
      "MSE: 199.01\n",
      "RMSE: 14.11\n"
     ]
    }
   ],
   "source": [
    "best_model = grid_search.best_estimator_\n",
    "predictions = best_model.predict(x_train)\n",
    "print(\"Best Predictions: \", np.around(predictions[:5], 2))\n",
    "r2 = r2_score(y_train, predictions)\n",
    "mse = mean_squared_error(y_train, predictions)\n",
    "rmse = np.sqrt(mse)\n",
    "\n",
    "print(\"Compare Training Best Estimator Scores:\")\n",
    "print(\"R2 Score: %.2f\" % r2)\n",
    "print(\"MSE: %.2f\" % mse)\n",
    "print(\"RMSE: %.2f\" % rmse)"
   ]
  },
  {
   "attachments": {},
   "cell_type": "markdown",
   "metadata": {},
   "source": [
    "Cross validate score on best model with test set"
   ]
  },
  {
   "cell_type": "code",
   "execution_count": 88,
   "metadata": {},
   "outputs": [
    {
     "data": {
      "text/plain": [
       "array([0.51751688, 0.27651558, 1.29434183, 0.93873602, 0.43439773])"
      ]
     },
     "execution_count": 88,
     "metadata": {},
     "output_type": "execute_result"
    }
   ],
   "source": [
    "best_score = cross_val_score(estimator=best_model, X=x_test, y=y_test)\n",
    "np.sqrt(-best_score)"
   ]
  },
  {
   "cell_type": "code",
   "execution_count": 92,
   "metadata": {},
   "outputs": [
    {
     "data": {
      "text/plain": [
       "0.2818661114758256"
      ]
     },
     "execution_count": 92,
     "metadata": {},
     "output_type": "execute_result"
    }
   ],
   "source": [
    "np.sqrt(-best_model.score(x_test, y_test))"
   ]
  },
  {
   "cell_type": "code",
   "execution_count": 93,
   "metadata": {},
   "outputs": [
    {
     "data": {
      "text/plain": [
       "array([22.56, 22.56, 22.56, 22.56, 22.56])"
      ]
     },
     "execution_count": 93,
     "metadata": {},
     "output_type": "execute_result"
    }
   ],
   "source": [
    "final_predictions = best_model.predict(x_test)\n",
    "np.around(final_predictions[:5], 2)"
   ]
  },
  {
   "cell_type": "code",
   "execution_count": 94,
   "metadata": {},
   "outputs": [
    {
     "name": "stdout",
     "output_type": "stream",
     "text": [
      "Final Price Prediction:  22\n"
     ]
    }
   ],
   "source": [
    "# round down\n",
    "print(\"Final Price Prediction: \", math.floor(np.mean(final_predictions)))"
   ]
  },
  {
   "cell_type": "code",
   "execution_count": 77,
   "metadata": {},
   "outputs": [
    {
     "name": "stdout",
     "output_type": "stream",
     "text": [
      "Final Scores:\n",
      "R2 Score: -0.08\n",
      "MSE: 267.41\n",
      "RMSE: 16.35\n"
     ]
    }
   ],
   "source": [
    "final_r2 = r2_score(y_test, final_predictions)\n",
    "final_mse = mean_squared_error(y_test, final_predictions)\n",
    "final_rmse = np.sqrt(final_mse)\n",
    "\n",
    "print(\"Final Scores:\")\n",
    "print(\"R2 Score: %.2f\" % final_r2)\n",
    "print(\"MSE: %.2f\" % final_mse)\n",
    "print(\"RMSE: %.2f\" % final_rmse)"
   ]
  },
  {
   "attachments": {},
   "cell_type": "markdown",
   "metadata": {},
   "source": [
    "Answering our research question shows that Liquid Courage Studios should market their Indie game on Steam for $22.00"
   ]
  },
  {
   "cell_type": "markdown",
   "metadata": {},
   "source": [
    "We can confirm our accuracy through this third party website that tracks steam game unit sale estimations. https://steamdb.info/app/990080/charts/"
   ]
  },
  {
   "cell_type": "markdown",
   "metadata": {},
   "source": [
    "The most important feature in predicting price and if the game will sell well is timing. Timing is everything. \n",
    "It's also dependent upon Early Access, DLC, and genre. "
   ]
  },
  {
   "cell_type": "markdown",
   "metadata": {},
   "source": [
    "Other metrics to look at in the future include computer requirements, total number of active players, follower count, and times when other similar games go on sale. "
   ]
  },
  {
   "cell_type": "markdown",
   "metadata": {},
   "source": [
    "### References\n",
    "\n",
    "* [0] https://www.valvesoftware.com/en/about  \n",
    "* [1] https://gameworldobserver.com/2022/11/15/how-to-count-game-sales-steam-2022-review-multiplier \n",
    "* [2] https://vginsights.com/insights/article/further-analysis-into-steam-reviews-to-sales-ratio-how-to-estimate-video-game-sales \n",
    "* [3] https://hub.packtpub.com/difference-between-working-indie-and-aaa-game-development/ "
   ]
  }
 ],
 "metadata": {
  "kernelspec": {
   "display_name": "Python 3 (ipykernel)",
   "language": "python",
   "name": "python3"
  },
  "language_info": {
   "codemirror_mode": {
    "name": "ipython",
    "version": 3
   },
   "file_extension": ".py",
   "mimetype": "text/x-python",
   "name": "python",
   "nbconvert_exporter": "python",
   "pygments_lexer": "ipython3",
   "version": "3.11.1"
  },
  "vscode": {
   "interpreter": {
    "hash": "d879f583b607c711ed42a3f2837aa40f7823202ddc09639f4d71f44ad0908e9c"
   }
  }
 },
 "nbformat": 4,
 "nbformat_minor": 2
}
