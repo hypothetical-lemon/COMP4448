{
 "cells": [
  {
   "attachments": {},
   "cell_type": "markdown",
   "metadata": {},
   "source": [
    "## David Miranda & Heather Lemon \n",
    "### COMP 4448 Tools 2 Final Project Steam \n",
    "\n",
    "Dataset Location: \n",
    "https://www.kaggle.com/datasets/deepann/80000-steam-games-dataset \n",
    "\n",
    "\n",
    "**Steam** is a widely popular video game distribution platform. Currently there are over 50,000 different games \n",
    "available for purchase. It was launched as a software client in September 2003 as a way for Valve to provide automatic updates for their games, and expanded to distributing and offering third-party game publishers' titles in late 2005. [0] Steam sales data is not publicly availble, but we can use the number of reviews\n",
    "as a good estimate for units sold this is called the Boxleiter or New Boxleiter number method, estimating the number of Steam game unit sold based on the number of reviews they got. [1][2]\n",
    "\n",
    "[0] https://en.wikipedia.org/wiki/Steam_(service) \n",
    "\n",
    "[1] https://vginsights.com/insights/article/how-to-estimate-steam-video-game-sales \n",
    "\n",
    "[2] https://newsletter.gamediscover.co/p/how-that-game-sold-on-steam-using\n"
   ]
  },
  {
   "attachments": {},
   "cell_type": "markdown",
   "metadata": {},
   "source": [
    "#### Research Question\n",
    "Indie game developer Liquid Courage Studios wants to publish a new game called Ace Vendetta and wants to know how much to sell their game for? "
   ]
  },
  {
   "attachments": {},
   "cell_type": "markdown",
   "metadata": {},
   "source": [
    "![steam](steam.png)"
   ]
  },
  {
   "cell_type": "code",
   "execution_count": 181,
   "metadata": {},
   "outputs": [],
   "source": [
    "import pandas as pd \n",
    "import numpy as np\n",
    "import json\n",
    "from collections import namedtuple\n",
    "import seaborn as sns\n",
    "import matplotlib.pyplot as plt"
   ]
  },
  {
   "cell_type": "code",
   "execution_count": 182,
   "metadata": {},
   "outputs": [
    {
     "name": "stdout",
     "output_type": "stream",
     "text": [
      "(81048, 12)\n"
     ]
    },
    {
     "data": {
      "text/html": [
       "<div>\n",
       "<style scoped>\n",
       "    .dataframe tbody tr th:only-of-type {\n",
       "        vertical-align: middle;\n",
       "    }\n",
       "\n",
       "    .dataframe tbody tr th {\n",
       "        vertical-align: top;\n",
       "    }\n",
       "\n",
       "    .dataframe thead th {\n",
       "        text-align: right;\n",
       "    }\n",
       "</style>\n",
       "<table border=\"1\" class=\"dataframe\">\n",
       "  <thead>\n",
       "    <tr style=\"text-align: right;\">\n",
       "      <th></th>\n",
       "      <th>url</th>\n",
       "      <th>name</th>\n",
       "      <th>categories</th>\n",
       "      <th>img_url</th>\n",
       "      <th>user_reviews</th>\n",
       "      <th>all_reviews</th>\n",
       "      <th>date</th>\n",
       "      <th>developer</th>\n",
       "      <th>publisher</th>\n",
       "      <th>price</th>\n",
       "      <th>pegi</th>\n",
       "      <th>pegi_url</th>\n",
       "    </tr>\n",
       "  </thead>\n",
       "  <tbody>\n",
       "    <tr>\n",
       "      <th>0</th>\n",
       "      <td>https://store.steampowered.com/app/945360/Amon...</td>\n",
       "      <td>Among Us</td>\n",
       "      <td>Online PvPLAN PvPOnline Co-opLAN Co-opCross-Pl...</td>\n",
       "      <td>https://steamcdn-a.akamaihd.net/steam/apps/945...</td>\n",
       "      <td>Overwhelmingly Positive(151,281)- 96% of the 1...</td>\n",
       "      <td>Overwhelmingly Positive(224,878)- 95% of the 2...</td>\n",
       "      <td>Nov 16, 2018</td>\n",
       "      <td>Innersloth</td>\n",
       "      <td>Innersloth</td>\n",
       "      <td>Buy Among Us$4.99Add to Cart</td>\n",
       "      <td>-</td>\n",
       "      <td>-</td>\n",
       "    </tr>\n",
       "    <tr>\n",
       "      <th>1</th>\n",
       "      <td>https://store.steampowered.com/app/730/Counter...</td>\n",
       "      <td>Counter-Strike: Global Offensive</td>\n",
       "      <td>Steam AchievementsFull controller supportSteam...</td>\n",
       "      <td>https://steamcdn-a.akamaihd.net/steam/apps/730...</td>\n",
       "      <td>Very Positive(90,780)- 88% of the 90,780 user ...</td>\n",
       "      <td>Very Positive(4,843,904)- 87% of the 4,843,904...</td>\n",
       "      <td>Aug 21, 2012</td>\n",
       "      <td>Valve, Hidden Path Entertainment</td>\n",
       "      <td>Valve</td>\n",
       "      <td>Play Counter-Strike: Global OffensiveFree to P...</td>\n",
       "      <td>-</td>\n",
       "      <td>-</td>\n",
       "    </tr>\n",
       "    <tr>\n",
       "      <th>2</th>\n",
       "      <td>https://store.steampowered.com/app/1097150/Fal...</td>\n",
       "      <td>Fall Guys: Ultimate Knockout</td>\n",
       "      <td>MMOOnline PvPOnline Co-opSteam AchievementsFul...</td>\n",
       "      <td>https://steamcdn-a.akamaihd.net/steam/apps/109...</td>\n",
       "      <td>Very Positive(32,436)- 84% of the 32,436 user ...</td>\n",
       "      <td>Very Positive(223,706)- 80% of the 223,706 use...</td>\n",
       "      <td>Aug 3, 2020</td>\n",
       "      <td>Mediatonic</td>\n",
       "      <td>Devolver Digital</td>\n",
       "      <td>Buy Fall Guys$19.99Add to Cart</td>\n",
       "      <td>-</td>\n",
       "      <td>-</td>\n",
       "    </tr>\n",
       "  </tbody>\n",
       "</table>\n",
       "</div>"
      ],
      "text/plain": [
       "                                                 url  \\\n",
       "0  https://store.steampowered.com/app/945360/Amon...   \n",
       "1  https://store.steampowered.com/app/730/Counter...   \n",
       "2  https://store.steampowered.com/app/1097150/Fal...   \n",
       "\n",
       "                               name  \\\n",
       "0                          Among Us   \n",
       "1  Counter-Strike: Global Offensive   \n",
       "2      Fall Guys: Ultimate Knockout   \n",
       "\n",
       "                                          categories  \\\n",
       "0  Online PvPLAN PvPOnline Co-opLAN Co-opCross-Pl...   \n",
       "1  Steam AchievementsFull controller supportSteam...   \n",
       "2  MMOOnline PvPOnline Co-opSteam AchievementsFul...   \n",
       "\n",
       "                                             img_url  \\\n",
       "0  https://steamcdn-a.akamaihd.net/steam/apps/945...   \n",
       "1  https://steamcdn-a.akamaihd.net/steam/apps/730...   \n",
       "2  https://steamcdn-a.akamaihd.net/steam/apps/109...   \n",
       "\n",
       "                                        user_reviews  \\\n",
       "0  Overwhelmingly Positive(151,281)- 96% of the 1...   \n",
       "1  Very Positive(90,780)- 88% of the 90,780 user ...   \n",
       "2  Very Positive(32,436)- 84% of the 32,436 user ...   \n",
       "\n",
       "                                         all_reviews          date  \\\n",
       "0  Overwhelmingly Positive(224,878)- 95% of the 2...  Nov 16, 2018   \n",
       "1  Very Positive(4,843,904)- 87% of the 4,843,904...  Aug 21, 2012   \n",
       "2  Very Positive(223,706)- 80% of the 223,706 use...   Aug 3, 2020   \n",
       "\n",
       "                          developer         publisher  \\\n",
       "0                        Innersloth        Innersloth   \n",
       "1  Valve, Hidden Path Entertainment             Valve   \n",
       "2                        Mediatonic  Devolver Digital   \n",
       "\n",
       "                                               price pegi pegi_url  \n",
       "0                       Buy Among Us$4.99Add to Cart    -        -  \n",
       "1  Play Counter-Strike: Global OffensiveFree to P...    -        -  \n",
       "2                     Buy Fall Guys$19.99Add to Cart    -        -  "
      ]
     },
     "execution_count": 182,
     "metadata": {},
     "output_type": "execute_result"
    }
   ],
   "source": [
    "df = pd.read_csv('steam/steam_data.csv')\n",
    "print(df.shape)\n",
    "df.head(3)"
   ]
  },
  {
   "cell_type": "markdown",
   "metadata": {},
   "source": [
    "Parse URLS to uuid"
   ]
  },
  {
   "cell_type": "code",
   "execution_count": 183,
   "metadata": {},
   "outputs": [],
   "source": [
    "import re\n",
    "url_list = []\n",
    "\n",
    "def findid(row):\n",
    "    result = re.search(string=row, pattern=r'\\b/[0-9]*/')\n",
    "    if result is not None:\n",
    "        result2 = re.sub(string=result.group(0), pattern=r'/*', repl='')\n",
    "        if result2 is not None:\n",
    "            url_list.append(result2)\n",
    "\n",
    "df['url'].apply(lambda x: findid(x))\n",
    "steam_ids = pd.DataFrame(url_list, columns=['id'])"
   ]
  },
  {
   "cell_type": "code",
   "execution_count": 184,
   "metadata": {},
   "outputs": [
    {
     "data": {
      "text/html": [
       "<div>\n",
       "<style scoped>\n",
       "    .dataframe tbody tr th:only-of-type {\n",
       "        vertical-align: middle;\n",
       "    }\n",
       "\n",
       "    .dataframe tbody tr th {\n",
       "        vertical-align: top;\n",
       "    }\n",
       "\n",
       "    .dataframe thead th {\n",
       "        text-align: right;\n",
       "    }\n",
       "</style>\n",
       "<table border=\"1\" class=\"dataframe\">\n",
       "  <thead>\n",
       "    <tr style=\"text-align: right;\">\n",
       "      <th></th>\n",
       "      <th>id</th>\n",
       "    </tr>\n",
       "  </thead>\n",
       "  <tbody>\n",
       "    <tr>\n",
       "      <th>0</th>\n",
       "      <td>945360</td>\n",
       "    </tr>\n",
       "    <tr>\n",
       "      <th>1</th>\n",
       "      <td>730</td>\n",
       "    </tr>\n",
       "    <tr>\n",
       "      <th>2</th>\n",
       "      <td>1097150</td>\n",
       "    </tr>\n",
       "    <tr>\n",
       "      <th>3</th>\n",
       "      <td>1158310</td>\n",
       "    </tr>\n",
       "    <tr>\n",
       "      <th>4</th>\n",
       "      <td>1085660</td>\n",
       "    </tr>\n",
       "  </tbody>\n",
       "</table>\n",
       "</div>"
      ],
      "text/plain": [
       "        id\n",
       "0   945360\n",
       "1      730\n",
       "2  1097150\n",
       "3  1158310\n",
       "4  1085660"
      ]
     },
     "execution_count": 184,
     "metadata": {},
     "output_type": "execute_result"
    }
   ],
   "source": [
    "steam_ids.head()"
   ]
  },
  {
   "cell_type": "code",
   "execution_count": 185,
   "metadata": {},
   "outputs": [
    {
     "data": {
      "text/html": [
       "<div>\n",
       "<style scoped>\n",
       "    .dataframe tbody tr th:only-of-type {\n",
       "        vertical-align: middle;\n",
       "    }\n",
       "\n",
       "    .dataframe tbody tr th {\n",
       "        vertical-align: top;\n",
       "    }\n",
       "\n",
       "    .dataframe thead th {\n",
       "        text-align: right;\n",
       "    }\n",
       "</style>\n",
       "<table border=\"1\" class=\"dataframe\">\n",
       "  <thead>\n",
       "    <tr style=\"text-align: right;\">\n",
       "      <th></th>\n",
       "      <th>url</th>\n",
       "      <th>name</th>\n",
       "      <th>categories</th>\n",
       "      <th>img_url</th>\n",
       "      <th>user_reviews</th>\n",
       "      <th>all_reviews</th>\n",
       "      <th>date</th>\n",
       "      <th>developer</th>\n",
       "      <th>publisher</th>\n",
       "      <th>price</th>\n",
       "      <th>pegi</th>\n",
       "      <th>pegi_url</th>\n",
       "      <th>id</th>\n",
       "    </tr>\n",
       "  </thead>\n",
       "  <tbody>\n",
       "    <tr>\n",
       "      <th>0</th>\n",
       "      <td>https://store.steampowered.com/app/945360/Amon...</td>\n",
       "      <td>Among Us</td>\n",
       "      <td>Online PvPLAN PvPOnline Co-opLAN Co-opCross-Pl...</td>\n",
       "      <td>https://steamcdn-a.akamaihd.net/steam/apps/945...</td>\n",
       "      <td>Overwhelmingly Positive(151,281)- 96% of the 1...</td>\n",
       "      <td>Overwhelmingly Positive(224,878)- 95% of the 2...</td>\n",
       "      <td>Nov 16, 2018</td>\n",
       "      <td>Innersloth</td>\n",
       "      <td>Innersloth</td>\n",
       "      <td>Buy Among Us$4.99Add to Cart</td>\n",
       "      <td>-</td>\n",
       "      <td>-</td>\n",
       "      <td>945360</td>\n",
       "    </tr>\n",
       "    <tr>\n",
       "      <th>1</th>\n",
       "      <td>https://store.steampowered.com/app/730/Counter...</td>\n",
       "      <td>Counter-Strike: Global Offensive</td>\n",
       "      <td>Steam AchievementsFull controller supportSteam...</td>\n",
       "      <td>https://steamcdn-a.akamaihd.net/steam/apps/730...</td>\n",
       "      <td>Very Positive(90,780)- 88% of the 90,780 user ...</td>\n",
       "      <td>Very Positive(4,843,904)- 87% of the 4,843,904...</td>\n",
       "      <td>Aug 21, 2012</td>\n",
       "      <td>Valve, Hidden Path Entertainment</td>\n",
       "      <td>Valve</td>\n",
       "      <td>Play Counter-Strike: Global OffensiveFree to P...</td>\n",
       "      <td>-</td>\n",
       "      <td>-</td>\n",
       "      <td>730</td>\n",
       "    </tr>\n",
       "    <tr>\n",
       "      <th>2</th>\n",
       "      <td>https://store.steampowered.com/app/1097150/Fal...</td>\n",
       "      <td>Fall Guys: Ultimate Knockout</td>\n",
       "      <td>MMOOnline PvPOnline Co-opSteam AchievementsFul...</td>\n",
       "      <td>https://steamcdn-a.akamaihd.net/steam/apps/109...</td>\n",
       "      <td>Very Positive(32,436)- 84% of the 32,436 user ...</td>\n",
       "      <td>Very Positive(223,706)- 80% of the 223,706 use...</td>\n",
       "      <td>Aug 3, 2020</td>\n",
       "      <td>Mediatonic</td>\n",
       "      <td>Devolver Digital</td>\n",
       "      <td>Buy Fall Guys$19.99Add to Cart</td>\n",
       "      <td>-</td>\n",
       "      <td>-</td>\n",
       "      <td>1097150</td>\n",
       "    </tr>\n",
       "    <tr>\n",
       "      <th>3</th>\n",
       "      <td>https://store.steampowered.com/app/1158310/Cru...</td>\n",
       "      <td>Crusader Kings III</td>\n",
       "      <td>Single-playerOnline PvPSteam AchievementsSteam...</td>\n",
       "      <td>https://steamcdn-a.akamaihd.net/steam/apps/115...</td>\n",
       "      <td>Very Positive(5,359)- 91% of the 5,359 user re...</td>\n",
       "      <td>Very Positive(18,951)- 92% of the 18,951 user ...</td>\n",
       "      <td>Sep 1, 2020</td>\n",
       "      <td>Paradox Development Studio</td>\n",
       "      <td>Paradox Interactive</td>\n",
       "      <td>Buy Crusader Kings III$49.99Add to Cart</td>\n",
       "      <td>BloodLanguagePartial NuditySexual ThemesUse of...</td>\n",
       "      <td>https://steamstore-a.akamaihd.net/public/share...</td>\n",
       "      <td>1158310</td>\n",
       "    </tr>\n",
       "  </tbody>\n",
       "</table>\n",
       "</div>"
      ],
      "text/plain": [
       "                                                 url  \\\n",
       "0  https://store.steampowered.com/app/945360/Amon...   \n",
       "1  https://store.steampowered.com/app/730/Counter...   \n",
       "2  https://store.steampowered.com/app/1097150/Fal...   \n",
       "3  https://store.steampowered.com/app/1158310/Cru...   \n",
       "\n",
       "                               name  \\\n",
       "0                          Among Us   \n",
       "1  Counter-Strike: Global Offensive   \n",
       "2      Fall Guys: Ultimate Knockout   \n",
       "3                Crusader Kings III   \n",
       "\n",
       "                                          categories  \\\n",
       "0  Online PvPLAN PvPOnline Co-opLAN Co-opCross-Pl...   \n",
       "1  Steam AchievementsFull controller supportSteam...   \n",
       "2  MMOOnline PvPOnline Co-opSteam AchievementsFul...   \n",
       "3  Single-playerOnline PvPSteam AchievementsSteam...   \n",
       "\n",
       "                                             img_url  \\\n",
       "0  https://steamcdn-a.akamaihd.net/steam/apps/945...   \n",
       "1  https://steamcdn-a.akamaihd.net/steam/apps/730...   \n",
       "2  https://steamcdn-a.akamaihd.net/steam/apps/109...   \n",
       "3  https://steamcdn-a.akamaihd.net/steam/apps/115...   \n",
       "\n",
       "                                        user_reviews  \\\n",
       "0  Overwhelmingly Positive(151,281)- 96% of the 1...   \n",
       "1  Very Positive(90,780)- 88% of the 90,780 user ...   \n",
       "2  Very Positive(32,436)- 84% of the 32,436 user ...   \n",
       "3  Very Positive(5,359)- 91% of the 5,359 user re...   \n",
       "\n",
       "                                         all_reviews          date  \\\n",
       "0  Overwhelmingly Positive(224,878)- 95% of the 2...  Nov 16, 2018   \n",
       "1  Very Positive(4,843,904)- 87% of the 4,843,904...  Aug 21, 2012   \n",
       "2  Very Positive(223,706)- 80% of the 223,706 use...   Aug 3, 2020   \n",
       "3  Very Positive(18,951)- 92% of the 18,951 user ...   Sep 1, 2020   \n",
       "\n",
       "                          developer            publisher  \\\n",
       "0                        Innersloth           Innersloth   \n",
       "1  Valve, Hidden Path Entertainment                Valve   \n",
       "2                        Mediatonic     Devolver Digital   \n",
       "3        Paradox Development Studio  Paradox Interactive   \n",
       "\n",
       "                                               price  \\\n",
       "0                       Buy Among Us$4.99Add to Cart   \n",
       "1  Play Counter-Strike: Global OffensiveFree to P...   \n",
       "2                     Buy Fall Guys$19.99Add to Cart   \n",
       "3            Buy Crusader Kings III$49.99Add to Cart   \n",
       "\n",
       "                                                pegi  \\\n",
       "0                                                  -   \n",
       "1                                                  -   \n",
       "2                                                  -   \n",
       "3  BloodLanguagePartial NuditySexual ThemesUse of...   \n",
       "\n",
       "                                            pegi_url       id  \n",
       "0                                                  -   945360  \n",
       "1                                                  -      730  \n",
       "2                                                  -  1097150  \n",
       "3  https://steamstore-a.akamaihd.net/public/share...  1158310  "
      ]
     },
     "execution_count": 185,
     "metadata": {},
     "output_type": "execute_result"
    }
   ],
   "source": [
    "df = pd.concat([df, steam_ids], join='inner', copy=False, axis=1)\n",
    "df.head(4)"
   ]
  },
  {
   "cell_type": "code",
   "execution_count": 186,
   "metadata": {},
   "outputs": [
    {
     "name": "stdout",
     "output_type": "stream",
     "text": [
      "Record(img_url='https://steamcdn-a.akamaihd.net/steam/apps/945360/header.jpg?t=1598556351', date='Nov 16, 2018', developer='Innersloth', publisher='Innersloth', full_desc={'sort': 'game', 'desc': \"About This Game Play with 4-10 player online or via local WiFi as you attempt to prepare your spaceship for departure, but beware as one or more random players among the Crew are Impostors bent on killing everyone!Originally created as a party game, we recommend playing with friends at a LAN party or online using voice chat. Enjoy cross-platform play between Android, iOS and PC. Win by completing tasks to prepare the ship or ejecting all Impostors. React quickly to undo the Impostor's sabotages. Check the Admin map and Security cameras to keep tabs on other Crewmates. Report any dead bodies immediately to start discussion of who the suspected Impostor is. Call emergency meetings to discuss suspicious behavior. Vote to eject suspected Impostors. Kill crewmates and frame bystanders. Pretend to run tasks to blend in with the crewmates. Sneak through the vents to quickly move about the ship. Use sabotages to cause chaos and divide the crew. Close doors to trap victims and kill in private.Features Customization: Pick your color and hat. Lots of game options: Add more impostors, more tasks, and so much more! Quickly find a game online from the host list. In-game text chat. Rich discord integration. Cross-platform play between PC, Android, and iOS!\"}, requirements={'minimum': {'windows': {'processor': ' SSE2 instruction set support', 'memory': ' 1 ', 'graphics': '', 'os': ' Windows 7 SP1+'}}, 'recommended': {}}, popu_tags=['Multiplayer', 'Online', 'Space', 'Social', 'Deduction', 'Survival', 'Funny2', 'Psychological', 'Local', 'Multiplayer', 'Cartoony', 'Casual', 'Indie', 'Colorful', 'Minigames', 'Local', 'Down', 'Aliens+'], price='499', url_info={'url': 'https://store.steampowered.com/app/945360/Among_Us/?snr=1_7_7_230_150_1', 'id': '945360', 'type': 'app', 'url_name': 'Among Us'}, name='Among Us', categories=['Online PvPLAN', 'PvPOnline Co-opLAN', 'Co-opCross-Platform Multiplayer Remote', 'Play on', 'Phone Remote Play', 'on Tablet'])\n"
     ]
    }
   ],
   "source": [
    "class Field:\n",
    "    \"\"\"\n",
    "    Representational json from steam\n",
    "    \"\"\"\n",
    "    data = []\n",
    "\n",
    "    def __init__(self):\n",
    "        self._load_data()\n",
    "\n",
    "    def _load_data(self) -> None: \n",
    "        with open('final_data_new.json', 'r', encoding=\"utf-8\") as file:\n",
    "            for line in file:\n",
    "                json_line = json.loads(line,  object_hook=BlankDict)\n",
    "                for index in range(len(json_line)):\n",
    "                    if json_line[index]['publisher'] is not None:\n",
    "                        rec = Record.record(img_url=json_line[index]['img_url'], date=json_line[index]['date'], \n",
    "                                            developer=json_line[index]['developer'], publisher=json_line[index]['publisher'], \n",
    "                                            full_desc=json_line[index]['full_desc'], \n",
    "                                            requirements=json_line[index]['requirements'], popu_tags=json_line[index]['popu_tags'], \n",
    "                                            price=json_line[index]['price'], url_info=json_line[index]['url_info'], name=json_line[index]['name'], \n",
    "                                            categories=json_line[index]['categories'])\n",
    "                        self.data.append(rec)\n",
    "        file.close()\n",
    "\n",
    "class BlankDict(dict):\n",
    "    def __missing__(self, key):\n",
    "        return ''\n",
    "\n",
    "class Record: \n",
    "    \"\"\"\n",
    "    Representation of a record\n",
    "    \"\"\"\n",
    "    field = ['img_url', 'date', 'developer', 'publisher', 'full_desc', 'requirements', 'popu_tags', \n",
    "             'price', 'url_info', 'name', 'categories']\n",
    "    record = namedtuple('Record', field)\n",
    "\n",
    "field = Field()\n",
    "field.__init__()\n",
    "print(field.data[0])"
   ]
  },
  {
   "cell_type": "code",
   "execution_count": 187,
   "metadata": {},
   "outputs": [
    {
     "name": "stdout",
     "output_type": "stream",
     "text": [
      "(149642, 11)\n"
     ]
    }
   ],
   "source": [
    "clean_df = pd.DataFrame(field.data, dtype='object', columns=Record.field)\n",
    "print(clean_df.shape)\n",
    "clean_df = clean_df.drop_duplicates(subset=['img_url'])"
   ]
  },
  {
   "cell_type": "code",
   "execution_count": 188,
   "metadata": {},
   "outputs": [
    {
     "data": {
      "text/plain": [
       "(64344, 11)"
      ]
     },
     "execution_count": 188,
     "metadata": {},
     "output_type": "execute_result"
    }
   ],
   "source": [
    "clean_df.shape"
   ]
  },
  {
   "attachments": {},
   "cell_type": "markdown",
   "metadata": {},
   "source": [
    "#TODO how to get id into clean_df for merge from all_reviews"
   ]
  },
  {
   "cell_type": "code",
   "execution_count": 189,
   "metadata": {},
   "outputs": [
    {
     "data": {
      "text/html": [
       "<div>\n",
       "<style scoped>\n",
       "    .dataframe tbody tr th:only-of-type {\n",
       "        vertical-align: middle;\n",
       "    }\n",
       "\n",
       "    .dataframe tbody tr th {\n",
       "        vertical-align: top;\n",
       "    }\n",
       "\n",
       "    .dataframe thead th {\n",
       "        text-align: right;\n",
       "    }\n",
       "</style>\n",
       "<table border=\"1\" class=\"dataframe\">\n",
       "  <thead>\n",
       "    <tr style=\"text-align: right;\">\n",
       "      <th></th>\n",
       "      <th>img_url</th>\n",
       "      <th>date</th>\n",
       "      <th>developer</th>\n",
       "      <th>publisher</th>\n",
       "      <th>full_desc</th>\n",
       "      <th>requirements</th>\n",
       "      <th>popu_tags</th>\n",
       "      <th>price</th>\n",
       "      <th>url_info</th>\n",
       "      <th>name</th>\n",
       "      <th>categories</th>\n",
       "      <th>id</th>\n",
       "    </tr>\n",
       "  </thead>\n",
       "  <tbody>\n",
       "    <tr>\n",
       "      <th>0</th>\n",
       "      <td>https://steamcdn-a.akamaihd.net/steam/apps/945...</td>\n",
       "      <td>Nov 16, 2018</td>\n",
       "      <td>Innersloth</td>\n",
       "      <td>Innersloth</td>\n",
       "      <td>{'sort': 'game', 'desc': 'About This Game Play...</td>\n",
       "      <td>{'minimum': {'windows': {'processor': ' SSE2 i...</td>\n",
       "      <td>[Multiplayer, Online, Space, Social, Deduction...</td>\n",
       "      <td>499</td>\n",
       "      <td>{'url': 'https://store.steampowered.com/app/94...</td>\n",
       "      <td>Among Us</td>\n",
       "      <td>[Online PvPLAN, PvPOnline Co-opLAN, Co-opCross...</td>\n",
       "      <td>945360</td>\n",
       "    </tr>\n",
       "  </tbody>\n",
       "</table>\n",
       "</div>"
      ],
      "text/plain": [
       "                                             img_url          date  \\\n",
       "0  https://steamcdn-a.akamaihd.net/steam/apps/945...  Nov 16, 2018   \n",
       "\n",
       "    developer   publisher                                          full_desc  \\\n",
       "0  Innersloth  Innersloth  {'sort': 'game', 'desc': 'About This Game Play...   \n",
       "\n",
       "                                        requirements  \\\n",
       "0  {'minimum': {'windows': {'processor': ' SSE2 i...   \n",
       "\n",
       "                                           popu_tags price  \\\n",
       "0  [Multiplayer, Online, Space, Social, Deduction...   499   \n",
       "\n",
       "                                            url_info      name  \\\n",
       "0  {'url': 'https://store.steampowered.com/app/94...  Among Us   \n",
       "\n",
       "                                          categories      id  \n",
       "0  [Online PvPLAN, PvPOnline Co-opLAN, Co-opCross...  945360  "
      ]
     },
     "execution_count": 189,
     "metadata": {},
     "output_type": "execute_result"
    }
   ],
   "source": [
    "clean_df = pd.concat([clean_df, df[['id']]], axis=1)\n",
    "clean_df.head(1)"
   ]
  },
  {
   "cell_type": "code",
   "execution_count": 190,
   "metadata": {},
   "outputs": [
    {
     "data": {
      "text/html": [
       "<div>\n",
       "<style scoped>\n",
       "    .dataframe tbody tr th:only-of-type {\n",
       "        vertical-align: middle;\n",
       "    }\n",
       "\n",
       "    .dataframe tbody tr th {\n",
       "        vertical-align: top;\n",
       "    }\n",
       "\n",
       "    .dataframe thead th {\n",
       "        text-align: right;\n",
       "    }\n",
       "</style>\n",
       "<table border=\"1\" class=\"dataframe\">\n",
       "  <thead>\n",
       "    <tr style=\"text-align: right;\">\n",
       "      <th></th>\n",
       "      <th>img_url</th>\n",
       "      <th>date</th>\n",
       "      <th>developer</th>\n",
       "      <th>publisher</th>\n",
       "      <th>full_desc</th>\n",
       "      <th>requirements</th>\n",
       "      <th>popu_tags</th>\n",
       "      <th>price</th>\n",
       "      <th>url_info</th>\n",
       "      <th>name</th>\n",
       "      <th>categories</th>\n",
       "      <th>id</th>\n",
       "    </tr>\n",
       "  </thead>\n",
       "  <tbody>\n",
       "    <tr>\n",
       "      <th>0</th>\n",
       "      <td>https://steamcdn-a.akamaihd.net/steam/apps/945...</td>\n",
       "      <td>Nov 16, 2018</td>\n",
       "      <td>Innersloth</td>\n",
       "      <td>Innersloth</td>\n",
       "      <td>{'sort': 'game', 'desc': 'About This Game Play...</td>\n",
       "      <td>{'minimum': {'windows': {'processor': ' SSE2 i...</td>\n",
       "      <td>[Multiplayer, Online, Space, Social, Deduction...</td>\n",
       "      <td>499</td>\n",
       "      <td>{'url': 'https://store.steampowered.com/app/94...</td>\n",
       "      <td>Among Us</td>\n",
       "      <td>[Online PvPLAN, PvPOnline Co-opLAN, Co-opCross...</td>\n",
       "      <td>945360</td>\n",
       "    </tr>\n",
       "  </tbody>\n",
       "</table>\n",
       "</div>"
      ],
      "text/plain": [
       "                                             img_url          date  \\\n",
       "0  https://steamcdn-a.akamaihd.net/steam/apps/945...  Nov 16, 2018   \n",
       "\n",
       "    developer   publisher                                          full_desc  \\\n",
       "0  Innersloth  Innersloth  {'sort': 'game', 'desc': 'About This Game Play...   \n",
       "\n",
       "                                        requirements  \\\n",
       "0  {'minimum': {'windows': {'processor': ' SSE2 i...   \n",
       "\n",
       "                                           popu_tags price  \\\n",
       "0  [Multiplayer, Online, Space, Social, Deduction...   499   \n",
       "\n",
       "                                            url_info      name  \\\n",
       "0  {'url': 'https://store.steampowered.com/app/94...  Among Us   \n",
       "\n",
       "                                          categories      id  \n",
       "0  [Online PvPLAN, PvPOnline Co-opLAN, Co-opCross...  945360  "
      ]
     },
     "execution_count": 190,
     "metadata": {},
     "output_type": "execute_result"
    }
   ],
   "source": [
    "clean_df.head(1)"
   ]
  },
  {
   "cell_type": "code",
   "execution_count": 191,
   "metadata": {},
   "outputs": [
    {
     "data": {
      "text/html": [
       "<div>\n",
       "<style scoped>\n",
       "    .dataframe tbody tr th:only-of-type {\n",
       "        vertical-align: middle;\n",
       "    }\n",
       "\n",
       "    .dataframe tbody tr th {\n",
       "        vertical-align: top;\n",
       "    }\n",
       "\n",
       "    .dataframe thead th {\n",
       "        text-align: right;\n",
       "    }\n",
       "</style>\n",
       "<table border=\"1\" class=\"dataframe\">\n",
       "  <thead>\n",
       "    <tr style=\"text-align: right;\">\n",
       "      <th></th>\n",
       "      <th>img_url</th>\n",
       "      <th>date</th>\n",
       "      <th>developer</th>\n",
       "      <th>publisher</th>\n",
       "      <th>full_desc</th>\n",
       "      <th>requirements</th>\n",
       "      <th>popu_tags</th>\n",
       "      <th>price</th>\n",
       "      <th>url_info</th>\n",
       "      <th>name</th>\n",
       "      <th>categories</th>\n",
       "      <th>id</th>\n",
       "    </tr>\n",
       "  </thead>\n",
       "  <tbody>\n",
       "    <tr>\n",
       "      <th>0</th>\n",
       "      <td>https://steamcdn-a.akamaihd.net/steam/apps/945...</td>\n",
       "      <td>Nov 16, 2018</td>\n",
       "      <td>Innersloth</td>\n",
       "      <td>Innersloth</td>\n",
       "      <td>{'sort': 'game', 'desc': 'About This Game Play...</td>\n",
       "      <td>{'minimum': {'windows': {'processor': ' SSE2 i...</td>\n",
       "      <td>[Multiplayer, Online, Space, Social, Deduction...</td>\n",
       "      <td>499</td>\n",
       "      <td>{'url': 'https://store.steampowered.com/app/94...</td>\n",
       "      <td>Among Us</td>\n",
       "      <td>[Online PvPLAN, PvPOnline Co-opLAN, Co-opCross...</td>\n",
       "      <td>945360</td>\n",
       "    </tr>\n",
       "  </tbody>\n",
       "</table>\n",
       "</div>"
      ],
      "text/plain": [
       "                                             img_url          date  \\\n",
       "0  https://steamcdn-a.akamaihd.net/steam/apps/945...  Nov 16, 2018   \n",
       "\n",
       "    developer   publisher                                          full_desc  \\\n",
       "0  Innersloth  Innersloth  {'sort': 'game', 'desc': 'About This Game Play...   \n",
       "\n",
       "                                        requirements  \\\n",
       "0  {'minimum': {'windows': {'processor': ' SSE2 i...   \n",
       "\n",
       "                                           popu_tags price  \\\n",
       "0  [Multiplayer, Online, Space, Social, Deduction...   499   \n",
       "\n",
       "                                            url_info      name  \\\n",
       "0  {'url': 'https://store.steampowered.com/app/94...  Among Us   \n",
       "\n",
       "                                          categories      id  \n",
       "0  [Online PvPLAN, PvPOnline Co-opLAN, Co-opCross...  945360  "
      ]
     },
     "execution_count": 191,
     "metadata": {},
     "output_type": "execute_result"
    }
   ],
   "source": [
    "clean_df.head(1)"
   ]
  },
  {
   "cell_type": "code",
   "execution_count": 192,
   "metadata": {},
   "outputs": [
    {
     "name": "stdout",
     "output_type": "stream",
     "text": [
      "(81047, 12)\n"
     ]
    }
   ],
   "source": [
    "clean_df.reindex()\n",
    "print(clean_df.shape)"
   ]
  },
  {
   "cell_type": "code",
   "execution_count": 193,
   "metadata": {},
   "outputs": [
    {
     "data": {
      "text/plain": [
       "img_url         object\n",
       "date            object\n",
       "developer       object\n",
       "publisher       object\n",
       "full_desc       object\n",
       "requirements    object\n",
       "popu_tags       object\n",
       "price           object\n",
       "url_info        object\n",
       "name            object\n",
       "categories      object\n",
       "id              object\n",
       "dtype: object"
      ]
     },
     "execution_count": 193,
     "metadata": {},
     "output_type": "execute_result"
    }
   ],
   "source": [
    "clean_df.dtypes"
   ]
  },
  {
   "cell_type": "code",
   "execution_count": 194,
   "metadata": {},
   "outputs": [
    {
     "data": {
      "text/html": [
       "<div>\n",
       "<style scoped>\n",
       "    .dataframe tbody tr th:only-of-type {\n",
       "        vertical-align: middle;\n",
       "    }\n",
       "\n",
       "    .dataframe tbody tr th {\n",
       "        vertical-align: top;\n",
       "    }\n",
       "\n",
       "    .dataframe thead th {\n",
       "        text-align: right;\n",
       "    }\n",
       "</style>\n",
       "<table border=\"1\" class=\"dataframe\">\n",
       "  <thead>\n",
       "    <tr style=\"text-align: right;\">\n",
       "      <th></th>\n",
       "      <th>date</th>\n",
       "      <th>developer</th>\n",
       "      <th>publisher</th>\n",
       "      <th>full_desc</th>\n",
       "      <th>requirements</th>\n",
       "      <th>popu_tags</th>\n",
       "      <th>price</th>\n",
       "      <th>url_info</th>\n",
       "      <th>name</th>\n",
       "      <th>categories</th>\n",
       "      <th>id</th>\n",
       "    </tr>\n",
       "  </thead>\n",
       "  <tbody>\n",
       "    <tr>\n",
       "      <th>0</th>\n",
       "      <td>Nov 16, 2018</td>\n",
       "      <td>Innersloth</td>\n",
       "      <td>Innersloth</td>\n",
       "      <td>{'sort': 'game', 'desc': 'About This Game Play...</td>\n",
       "      <td>{'minimum': {'windows': {'processor': ' SSE2 i...</td>\n",
       "      <td>[Multiplayer, Online, Space, Social, Deduction...</td>\n",
       "      <td>499</td>\n",
       "      <td>{'url': 'https://store.steampowered.com/app/94...</td>\n",
       "      <td>Among Us</td>\n",
       "      <td>[Online PvPLAN, PvPOnline Co-opLAN, Co-opCross...</td>\n",
       "      <td>945360</td>\n",
       "    </tr>\n",
       "  </tbody>\n",
       "</table>\n",
       "</div>"
      ],
      "text/plain": [
       "           date   developer   publisher  \\\n",
       "0  Nov 16, 2018  Innersloth  Innersloth   \n",
       "\n",
       "                                           full_desc  \\\n",
       "0  {'sort': 'game', 'desc': 'About This Game Play...   \n",
       "\n",
       "                                        requirements  \\\n",
       "0  {'minimum': {'windows': {'processor': ' SSE2 i...   \n",
       "\n",
       "                                           popu_tags price  \\\n",
       "0  [Multiplayer, Online, Space, Social, Deduction...   499   \n",
       "\n",
       "                                            url_info      name  \\\n",
       "0  {'url': 'https://store.steampowered.com/app/94...  Among Us   \n",
       "\n",
       "                                          categories      id  \n",
       "0  [Online PvPLAN, PvPOnline Co-opLAN, Co-opCross...  945360  "
      ]
     },
     "execution_count": 194,
     "metadata": {},
     "output_type": "execute_result"
    }
   ],
   "source": [
    "clean_df.drop('img_url', inplace=True, axis=1)\n",
    "clean_df.head(1)"
   ]
  },
  {
   "cell_type": "code",
   "execution_count": 195,
   "metadata": {},
   "outputs": [
    {
     "data": {
      "text/html": [
       "<div>\n",
       "<style scoped>\n",
       "    .dataframe tbody tr th:only-of-type {\n",
       "        vertical-align: middle;\n",
       "    }\n",
       "\n",
       "    .dataframe tbody tr th {\n",
       "        vertical-align: top;\n",
       "    }\n",
       "\n",
       "    .dataframe thead th {\n",
       "        text-align: right;\n",
       "    }\n",
       "</style>\n",
       "<table border=\"1\" class=\"dataframe\">\n",
       "  <thead>\n",
       "    <tr style=\"text-align: right;\">\n",
       "      <th></th>\n",
       "      <th>date</th>\n",
       "      <th>developer</th>\n",
       "      <th>publisher</th>\n",
       "      <th>full_desc</th>\n",
       "      <th>requirements</th>\n",
       "      <th>popu_tags</th>\n",
       "      <th>price</th>\n",
       "      <th>url_info</th>\n",
       "      <th>name</th>\n",
       "      <th>categories</th>\n",
       "      <th>id</th>\n",
       "    </tr>\n",
       "  </thead>\n",
       "  <tbody>\n",
       "    <tr>\n",
       "      <th>0</th>\n",
       "      <td>2018-11-16</td>\n",
       "      <td>Innersloth</td>\n",
       "      <td>Innersloth</td>\n",
       "      <td>{'sort': 'game', 'desc': 'About This Game Play...</td>\n",
       "      <td>{'minimum': {'windows': {'processor': ' SSE2 i...</td>\n",
       "      <td>[Multiplayer, Online, Space, Social, Deduction...</td>\n",
       "      <td>499</td>\n",
       "      <td>{'url': 'https://store.steampowered.com/app/94...</td>\n",
       "      <td>Among Us</td>\n",
       "      <td>[Online PvPLAN, PvPOnline Co-opLAN, Co-opCross...</td>\n",
       "      <td>945360</td>\n",
       "    </tr>\n",
       "  </tbody>\n",
       "</table>\n",
       "</div>"
      ],
      "text/plain": [
       "        date   developer   publisher  \\\n",
       "0 2018-11-16  Innersloth  Innersloth   \n",
       "\n",
       "                                           full_desc  \\\n",
       "0  {'sort': 'game', 'desc': 'About This Game Play...   \n",
       "\n",
       "                                        requirements  \\\n",
       "0  {'minimum': {'windows': {'processor': ' SSE2 i...   \n",
       "\n",
       "                                           popu_tags price  \\\n",
       "0  [Multiplayer, Online, Space, Social, Deduction...   499   \n",
       "\n",
       "                                            url_info      name  \\\n",
       "0  {'url': 'https://store.steampowered.com/app/94...  Among Us   \n",
       "\n",
       "                                          categories      id  \n",
       "0  [Online PvPLAN, PvPOnline Co-opLAN, Co-opCross...  945360  "
      ]
     },
     "execution_count": 195,
     "metadata": {},
     "output_type": "execute_result"
    }
   ],
   "source": [
    "clean_df['date'] = pd.to_datetime(clean_df['date'], errors='coerce')\n",
    "clean_df.head(1)"
   ]
  },
  {
   "cell_type": "code",
   "execution_count": 196,
   "metadata": {},
   "outputs": [
    {
     "data": {
      "text/plain": [
       "date            datetime64[ns]\n",
       "developer               object\n",
       "publisher               object\n",
       "full_desc               object\n",
       "requirements            object\n",
       "popu_tags               object\n",
       "price                   object\n",
       "url_info                object\n",
       "name                    object\n",
       "categories              object\n",
       "id                      object\n",
       "dtype: object"
      ]
     },
     "execution_count": 196,
     "metadata": {},
     "output_type": "execute_result"
    }
   ],
   "source": [
    "clean_df.dtypes"
   ]
  },
  {
   "attachments": {},
   "cell_type": "markdown",
   "metadata": {},
   "source": [
    "#TODO fix price column as that was parsed incorrectly, take for example Borderlands 3 is 59.99 \n",
    "but it shows 599 as the cleaned json price which is wrong. Also merge back reviews from original df\n",
    "Also reviews never made it into the cleaned json"
   ]
  },
  {
   "cell_type": "code",
   "execution_count": 197,
   "metadata": {},
   "outputs": [
    {
     "data": {
      "text/plain": [
       "0     499\n",
       "1    free\n",
       "2     199\n",
       "3     499\n",
       "Name: price, dtype: object"
      ]
     },
     "execution_count": 197,
     "metadata": {},
     "output_type": "execute_result"
    }
   ],
   "source": [
    "clean_df['price'].head(4)"
   ]
  },
  {
   "cell_type": "code",
   "execution_count": 198,
   "metadata": {},
   "outputs": [
    {
     "data": {
      "text/html": [
       "<div>\n",
       "<style scoped>\n",
       "    .dataframe tbody tr th:only-of-type {\n",
       "        vertical-align: middle;\n",
       "    }\n",
       "\n",
       "    .dataframe tbody tr th {\n",
       "        vertical-align: top;\n",
       "    }\n",
       "\n",
       "    .dataframe thead th {\n",
       "        text-align: right;\n",
       "    }\n",
       "</style>\n",
       "<table border=\"1\" class=\"dataframe\">\n",
       "  <thead>\n",
       "    <tr style=\"text-align: right;\">\n",
       "      <th></th>\n",
       "      <th>date</th>\n",
       "      <th>developer</th>\n",
       "      <th>publisher</th>\n",
       "      <th>full_desc</th>\n",
       "      <th>requirements</th>\n",
       "      <th>popu_tags</th>\n",
       "      <th>url_info</th>\n",
       "      <th>name</th>\n",
       "      <th>categories</th>\n",
       "      <th>id</th>\n",
       "      <th>price</th>\n",
       "    </tr>\n",
       "  </thead>\n",
       "  <tbody>\n",
       "    <tr>\n",
       "      <th>0</th>\n",
       "      <td>2018-11-16</td>\n",
       "      <td>Innersloth</td>\n",
       "      <td>Innersloth</td>\n",
       "      <td>{'sort': 'game', 'desc': 'About This Game Play...</td>\n",
       "      <td>{'minimum': {'windows': {'processor': ' SSE2 i...</td>\n",
       "      <td>[Multiplayer, Online, Space, Social, Deduction...</td>\n",
       "      <td>{'url': 'https://store.steampowered.com/app/94...</td>\n",
       "      <td>Among Us</td>\n",
       "      <td>[Online PvPLAN, PvPOnline Co-opLAN, Co-opCross...</td>\n",
       "      <td>945360</td>\n",
       "      <td>4.99</td>\n",
       "    </tr>\n",
       "    <tr>\n",
       "      <th>1</th>\n",
       "      <td>2012-08-21</td>\n",
       "      <td>Valve, Hidden Path Entertainment</td>\n",
       "      <td>Valve</td>\n",
       "      <td>{'sort': 'game', 'desc': 'About This Game Coun...</td>\n",
       "      <td>{'minimum': {'windows': {'processor': ' Intel®...</td>\n",
       "      <td>[Shooter, Multiplayer, Competitive, Action, Te...</td>\n",
       "      <td>{'url': 'https://store.steampowered.com/app/73...</td>\n",
       "      <td>Counter-Strike: Global Offensive</td>\n",
       "      <td>[Steam Achievements Full, controller supportSt...</td>\n",
       "      <td>730</td>\n",
       "      <td>0.00</td>\n",
       "    </tr>\n",
       "    <tr>\n",
       "      <th>2</th>\n",
       "      <td>2020-08-03</td>\n",
       "      <td>Mediatonic</td>\n",
       "      <td>Devolver Digital</td>\n",
       "      <td>{'sort': 'game', 'desc': 'About This Game Fall...</td>\n",
       "      <td>{}</td>\n",
       "      <td>[Multiplayer, Funny, Battle, Royale, Online, F...</td>\n",
       "      <td>{'url': 'https://store.steampowered.com/app/10...</td>\n",
       "      <td>Fall Guys: Ultimate Knockout</td>\n",
       "      <td>[MMOOnline PvPOnline, Co-opSteam Achievements ...</td>\n",
       "      <td>1097150</td>\n",
       "      <td>19.99</td>\n",
       "    </tr>\n",
       "  </tbody>\n",
       "</table>\n",
       "</div>"
      ],
      "text/plain": [
       "        date                         developer         publisher  \\\n",
       "0 2018-11-16                        Innersloth        Innersloth   \n",
       "1 2012-08-21  Valve, Hidden Path Entertainment             Valve   \n",
       "2 2020-08-03                        Mediatonic  Devolver Digital   \n",
       "\n",
       "                                           full_desc  \\\n",
       "0  {'sort': 'game', 'desc': 'About This Game Play...   \n",
       "1  {'sort': 'game', 'desc': 'About This Game Coun...   \n",
       "2  {'sort': 'game', 'desc': 'About This Game Fall...   \n",
       "\n",
       "                                        requirements  \\\n",
       "0  {'minimum': {'windows': {'processor': ' SSE2 i...   \n",
       "1  {'minimum': {'windows': {'processor': ' Intel®...   \n",
       "2                                                 {}   \n",
       "\n",
       "                                           popu_tags  \\\n",
       "0  [Multiplayer, Online, Space, Social, Deduction...   \n",
       "1  [Shooter, Multiplayer, Competitive, Action, Te...   \n",
       "2  [Multiplayer, Funny, Battle, Royale, Online, F...   \n",
       "\n",
       "                                            url_info  \\\n",
       "0  {'url': 'https://store.steampowered.com/app/94...   \n",
       "1  {'url': 'https://store.steampowered.com/app/73...   \n",
       "2  {'url': 'https://store.steampowered.com/app/10...   \n",
       "\n",
       "                               name  \\\n",
       "0                          Among Us   \n",
       "1  Counter-Strike: Global Offensive   \n",
       "2      Fall Guys: Ultimate Knockout   \n",
       "\n",
       "                                          categories       id  price  \n",
       "0  [Online PvPLAN, PvPOnline Co-opLAN, Co-opCross...   945360   4.99  \n",
       "1  [Steam Achievements Full, controller supportSt...      730   0.00  \n",
       "2  [MMOOnline PvPOnline, Co-opSteam Achievements ...  1097150  19.99  "
      ]
     },
     "execution_count": 198,
     "metadata": {},
     "output_type": "execute_result"
    }
   ],
   "source": [
    "def clean_price(x): \n",
    "    result = re.search(pattern=r'[0-9]+\\.[0-9][0-9]', string=x)\n",
    "    if result is None: \n",
    "        result = re.search(pattern=r'Free to Play', string=x)\n",
    "        if result is not None: \n",
    "            return 0.00\n",
    "    if result is not None:\n",
    "        return result[0]\n",
    "    else:\n",
    "        return result\n",
    "\n",
    "clean_df['clean_price'] = df['price'].apply(lambda x: clean_price(x))\n",
    "clean_df['clean_price'] = clean_df['clean_price'].astype('float64')\n",
    "clean_df.drop('price', inplace=True, axis=1)\n",
    "clean_df.rename(columns={'clean_price': 'price'}, inplace=True)\n",
    "clean_df.head(3)"
   ]
  },
  {
   "cell_type": "code",
   "execution_count": 199,
   "metadata": {},
   "outputs": [
    {
     "data": {
      "text/plain": [
       "date            datetime64[ns]\n",
       "developer               object\n",
       "publisher               object\n",
       "full_desc               object\n",
       "requirements            object\n",
       "popu_tags               object\n",
       "url_info                object\n",
       "name                    object\n",
       "categories              object\n",
       "id                      object\n",
       "price                  float64\n",
       "dtype: object"
      ]
     },
     "execution_count": 199,
     "metadata": {},
     "output_type": "execute_result"
    }
   ],
   "source": [
    "clean_df.dtypes"
   ]
  },
  {
   "cell_type": "code",
   "execution_count": 200,
   "metadata": {},
   "outputs": [],
   "source": [
    "clean_df.drop(['url_info', 'requirements'], inplace=True, axis=1)"
   ]
  },
  {
   "cell_type": "code",
   "execution_count": 201,
   "metadata": {},
   "outputs": [
    {
     "data": {
      "text/html": [
       "<div>\n",
       "<style scoped>\n",
       "    .dataframe tbody tr th:only-of-type {\n",
       "        vertical-align: middle;\n",
       "    }\n",
       "\n",
       "    .dataframe tbody tr th {\n",
       "        vertical-align: top;\n",
       "    }\n",
       "\n",
       "    .dataframe thead th {\n",
       "        text-align: right;\n",
       "    }\n",
       "</style>\n",
       "<table border=\"1\" class=\"dataframe\">\n",
       "  <thead>\n",
       "    <tr style=\"text-align: right;\">\n",
       "      <th></th>\n",
       "      <th>date</th>\n",
       "      <th>developer</th>\n",
       "      <th>publisher</th>\n",
       "      <th>full_desc</th>\n",
       "      <th>popu_tags</th>\n",
       "      <th>name</th>\n",
       "      <th>categories</th>\n",
       "      <th>id</th>\n",
       "      <th>price</th>\n",
       "      <th>user_reviews</th>\n",
       "      <th>all_reviews</th>\n",
       "    </tr>\n",
       "  </thead>\n",
       "  <tbody>\n",
       "    <tr>\n",
       "      <th>0</th>\n",
       "      <td>2018-11-16</td>\n",
       "      <td>Innersloth</td>\n",
       "      <td>Innersloth</td>\n",
       "      <td>{'sort': 'game', 'desc': 'About This Game Play...</td>\n",
       "      <td>[Multiplayer, Online, Space, Social, Deduction...</td>\n",
       "      <td>Among Us</td>\n",
       "      <td>[Online PvPLAN, PvPOnline Co-opLAN, Co-opCross...</td>\n",
       "      <td>945360</td>\n",
       "      <td>4.99</td>\n",
       "      <td>Overwhelmingly Positive(151,281)- 96% of the 1...</td>\n",
       "      <td>Overwhelmingly Positive(224,878)- 95% of the 2...</td>\n",
       "    </tr>\n",
       "    <tr>\n",
       "      <th>1</th>\n",
       "      <td>2012-08-21</td>\n",
       "      <td>Valve, Hidden Path Entertainment</td>\n",
       "      <td>Valve</td>\n",
       "      <td>{'sort': 'game', 'desc': 'About This Game Coun...</td>\n",
       "      <td>[Shooter, Multiplayer, Competitive, Action, Te...</td>\n",
       "      <td>Counter-Strike: Global Offensive</td>\n",
       "      <td>[Steam Achievements Full, controller supportSt...</td>\n",
       "      <td>730</td>\n",
       "      <td>0.00</td>\n",
       "      <td>Very Positive(90,780)- 88% of the 90,780 user ...</td>\n",
       "      <td>Very Positive(4,843,904)- 87% of the 4,843,904...</td>\n",
       "    </tr>\n",
       "    <tr>\n",
       "      <th>2</th>\n",
       "      <td>2020-08-03</td>\n",
       "      <td>Mediatonic</td>\n",
       "      <td>Devolver Digital</td>\n",
       "      <td>{'sort': 'game', 'desc': 'About This Game Fall...</td>\n",
       "      <td>[Multiplayer, Funny, Battle, Royale, Online, F...</td>\n",
       "      <td>Fall Guys: Ultimate Knockout</td>\n",
       "      <td>[MMOOnline PvPOnline, Co-opSteam Achievements ...</td>\n",
       "      <td>1097150</td>\n",
       "      <td>19.99</td>\n",
       "      <td>Very Positive(32,436)- 84% of the 32,436 user ...</td>\n",
       "      <td>Very Positive(223,706)- 80% of the 223,706 use...</td>\n",
       "    </tr>\n",
       "  </tbody>\n",
       "</table>\n",
       "</div>"
      ],
      "text/plain": [
       "        date                         developer         publisher  \\\n",
       "0 2018-11-16                        Innersloth        Innersloth   \n",
       "1 2012-08-21  Valve, Hidden Path Entertainment             Valve   \n",
       "2 2020-08-03                        Mediatonic  Devolver Digital   \n",
       "\n",
       "                                           full_desc  \\\n",
       "0  {'sort': 'game', 'desc': 'About This Game Play...   \n",
       "1  {'sort': 'game', 'desc': 'About This Game Coun...   \n",
       "2  {'sort': 'game', 'desc': 'About This Game Fall...   \n",
       "\n",
       "                                           popu_tags  \\\n",
       "0  [Multiplayer, Online, Space, Social, Deduction...   \n",
       "1  [Shooter, Multiplayer, Competitive, Action, Te...   \n",
       "2  [Multiplayer, Funny, Battle, Royale, Online, F...   \n",
       "\n",
       "                               name  \\\n",
       "0                          Among Us   \n",
       "1  Counter-Strike: Global Offensive   \n",
       "2      Fall Guys: Ultimate Knockout   \n",
       "\n",
       "                                          categories       id  price  \\\n",
       "0  [Online PvPLAN, PvPOnline Co-opLAN, Co-opCross...   945360   4.99   \n",
       "1  [Steam Achievements Full, controller supportSt...      730   0.00   \n",
       "2  [MMOOnline PvPOnline, Co-opSteam Achievements ...  1097150  19.99   \n",
       "\n",
       "                                        user_reviews  \\\n",
       "0  Overwhelmingly Positive(151,281)- 96% of the 1...   \n",
       "1  Very Positive(90,780)- 88% of the 90,780 user ...   \n",
       "2  Very Positive(32,436)- 84% of the 32,436 user ...   \n",
       "\n",
       "                                         all_reviews  \n",
       "0  Overwhelmingly Positive(224,878)- 95% of the 2...  \n",
       "1  Very Positive(4,843,904)- 87% of the 4,843,904...  \n",
       "2  Very Positive(223,706)- 80% of the 223,706 use...  "
      ]
     },
     "execution_count": 201,
     "metadata": {},
     "output_type": "execute_result"
    }
   ],
   "source": [
    "clean_df = pd.concat([clean_df, df[['user_reviews', 'all_reviews']]], axis=1, join='inner')\n",
    "clean_df.head(3)"
   ]
  },
  {
   "cell_type": "code",
   "execution_count": 202,
   "metadata": {},
   "outputs": [],
   "source": [
    "clean_df.drop_duplicates(subset=['id'], inplace=True)\n",
    "clean_df.dropna(inplace=True)"
   ]
  },
  {
   "cell_type": "code",
   "execution_count": 203,
   "metadata": {},
   "outputs": [
    {
     "data": {
      "text/plain": [
       "(46248, 11)"
      ]
     },
     "execution_count": 203,
     "metadata": {},
     "output_type": "execute_result"
    }
   ],
   "source": [
    "clean_df.shape"
   ]
  },
  {
   "attachments": {},
   "cell_type": "markdown",
   "metadata": {},
   "source": [
    "Something to note is price change, there could have been a steam sale that week when the data was initially pulled and \n",
    "when you go look at that game today, the price can change it could be cheaper or completely removed. "
   ]
  },
  {
   "attachments": {},
   "cell_type": "markdown",
   "metadata": {},
   "source": [
    "Exploratory Data Analysis"
   ]
  },
  {
   "attachments": {},
   "cell_type": "markdown",
   "metadata": {},
   "source": [
    "What is the average price of a steam game?"
   ]
  },
  {
   "cell_type": "code",
   "execution_count": 204,
   "metadata": {},
   "outputs": [
    {
     "data": {
      "text/plain": [
       "10.99"
      ]
     },
     "execution_count": 204,
     "metadata": {},
     "output_type": "execute_result"
    }
   ],
   "source": [
    "np.around(clean_df['price'].sum()/clean_df['price'].size, 2)"
   ]
  },
  {
   "attachments": {},
   "cell_type": "markdown",
   "metadata": {},
   "source": [
    "Average price without free to play"
   ]
  },
  {
   "cell_type": "code",
   "execution_count": 205,
   "metadata": {},
   "outputs": [
    {
     "data": {
      "text/plain": [
       "11.16"
      ]
     },
     "execution_count": 205,
     "metadata": {},
     "output_type": "execute_result"
    }
   ],
   "source": [
    "without_free_price = clean_df[clean_df['price']>0]\n",
    "np.around(without_free_price['price'].sum()/without_free_price['price'].size, 2)"
   ]
  },
  {
   "attachments": {},
   "cell_type": "markdown",
   "metadata": {},
   "source": [
    "Steam recently added a reviews chart and looks like this..."
   ]
  },
  {
   "attachments": {},
   "cell_type": "markdown",
   "metadata": {},
   "source": [
    "![chart](chart.jpeg)"
   ]
  },
  {
   "attachments": {},
   "cell_type": "markdown",
   "metadata": {},
   "source": [
    "Extract All Reviews Number"
   ]
  },
  {
   "cell_type": "code",
   "execution_count": 206,
   "metadata": {},
   "outputs": [
    {
     "data": {
      "text/html": [
       "<div>\n",
       "<style scoped>\n",
       "    .dataframe tbody tr th:only-of-type {\n",
       "        vertical-align: middle;\n",
       "    }\n",
       "\n",
       "    .dataframe tbody tr th {\n",
       "        vertical-align: top;\n",
       "    }\n",
       "\n",
       "    .dataframe thead th {\n",
       "        text-align: right;\n",
       "    }\n",
       "</style>\n",
       "<table border=\"1\" class=\"dataframe\">\n",
       "  <thead>\n",
       "    <tr style=\"text-align: right;\">\n",
       "      <th></th>\n",
       "      <th>date</th>\n",
       "      <th>developer</th>\n",
       "      <th>publisher</th>\n",
       "      <th>full_desc</th>\n",
       "      <th>popu_tags</th>\n",
       "      <th>name</th>\n",
       "      <th>categories</th>\n",
       "      <th>id</th>\n",
       "      <th>price</th>\n",
       "      <th>user_reviews</th>\n",
       "      <th>all_reviews</th>\n",
       "      <th>all_review_total</th>\n",
       "      <th>user_review_total</th>\n",
       "    </tr>\n",
       "  </thead>\n",
       "  <tbody>\n",
       "    <tr>\n",
       "      <th>0</th>\n",
       "      <td>2018-11-16</td>\n",
       "      <td>Innersloth</td>\n",
       "      <td>Innersloth</td>\n",
       "      <td>{'sort': 'game', 'desc': 'About This Game Play...</td>\n",
       "      <td>[Multiplayer, Online, Space, Social, Deduction...</td>\n",
       "      <td>Among Us</td>\n",
       "      <td>[Online PvPLAN, PvPOnline Co-opLAN, Co-opCross...</td>\n",
       "      <td>945360</td>\n",
       "      <td>4.99</td>\n",
       "      <td>Overwhelmingly Positive(151,281)- 96% of the 1...</td>\n",
       "      <td>Overwhelmingly Positive(224,878)- 95% of the 2...</td>\n",
       "      <td>224878</td>\n",
       "      <td>151281</td>\n",
       "    </tr>\n",
       "    <tr>\n",
       "      <th>1</th>\n",
       "      <td>2012-08-21</td>\n",
       "      <td>Valve, Hidden Path Entertainment</td>\n",
       "      <td>Valve</td>\n",
       "      <td>{'sort': 'game', 'desc': 'About This Game Coun...</td>\n",
       "      <td>[Shooter, Multiplayer, Competitive, Action, Te...</td>\n",
       "      <td>Counter-Strike: Global Offensive</td>\n",
       "      <td>[Steam Achievements Full, controller supportSt...</td>\n",
       "      <td>730</td>\n",
       "      <td>0.00</td>\n",
       "      <td>Very Positive(90,780)- 88% of the 90,780 user ...</td>\n",
       "      <td>Very Positive(4,843,904)- 87% of the 4,843,904...</td>\n",
       "      <td>4843904</td>\n",
       "      <td>90780</td>\n",
       "    </tr>\n",
       "    <tr>\n",
       "      <th>2</th>\n",
       "      <td>2020-08-03</td>\n",
       "      <td>Mediatonic</td>\n",
       "      <td>Devolver Digital</td>\n",
       "      <td>{'sort': 'game', 'desc': 'About This Game Fall...</td>\n",
       "      <td>[Multiplayer, Funny, Battle, Royale, Online, F...</td>\n",
       "      <td>Fall Guys: Ultimate Knockout</td>\n",
       "      <td>[MMOOnline PvPOnline, Co-opSteam Achievements ...</td>\n",
       "      <td>1097150</td>\n",
       "      <td>19.99</td>\n",
       "      <td>Very Positive(32,436)- 84% of the 32,436 user ...</td>\n",
       "      <td>Very Positive(223,706)- 80% of the 223,706 use...</td>\n",
       "      <td>223706</td>\n",
       "      <td>32436</td>\n",
       "    </tr>\n",
       "    <tr>\n",
       "      <th>3</th>\n",
       "      <td>2020-09-01</td>\n",
       "      <td>Paradox Development Studio</td>\n",
       "      <td>Paradox Interactive</td>\n",
       "      <td>{'sort': 'game', 'desc': 'About This Game Para...</td>\n",
       "      <td>[Strategy, Simulation, Medieval, Grand, Strate...</td>\n",
       "      <td>Crusader Kings III</td>\n",
       "      <td>[Single-playerOnline PvPSteam, Achievements St...</td>\n",
       "      <td>1158310</td>\n",
       "      <td>49.99</td>\n",
       "      <td>Very Positive(5,359)- 91% of the 5,359 user re...</td>\n",
       "      <td>Very Positive(18,951)- 92% of the 18,951 user ...</td>\n",
       "      <td>18951</td>\n",
       "      <td>5359</td>\n",
       "    </tr>\n",
       "  </tbody>\n",
       "</table>\n",
       "</div>"
      ],
      "text/plain": [
       "        date                         developer            publisher  \\\n",
       "0 2018-11-16                        Innersloth           Innersloth   \n",
       "1 2012-08-21  Valve, Hidden Path Entertainment                Valve   \n",
       "2 2020-08-03                        Mediatonic     Devolver Digital   \n",
       "3 2020-09-01        Paradox Development Studio  Paradox Interactive   \n",
       "\n",
       "                                           full_desc  \\\n",
       "0  {'sort': 'game', 'desc': 'About This Game Play...   \n",
       "1  {'sort': 'game', 'desc': 'About This Game Coun...   \n",
       "2  {'sort': 'game', 'desc': 'About This Game Fall...   \n",
       "3  {'sort': 'game', 'desc': 'About This Game Para...   \n",
       "\n",
       "                                           popu_tags  \\\n",
       "0  [Multiplayer, Online, Space, Social, Deduction...   \n",
       "1  [Shooter, Multiplayer, Competitive, Action, Te...   \n",
       "2  [Multiplayer, Funny, Battle, Royale, Online, F...   \n",
       "3  [Strategy, Simulation, Medieval, Grand, Strate...   \n",
       "\n",
       "                               name  \\\n",
       "0                          Among Us   \n",
       "1  Counter-Strike: Global Offensive   \n",
       "2      Fall Guys: Ultimate Knockout   \n",
       "3                Crusader Kings III   \n",
       "\n",
       "                                          categories       id  price  \\\n",
       "0  [Online PvPLAN, PvPOnline Co-opLAN, Co-opCross...   945360   4.99   \n",
       "1  [Steam Achievements Full, controller supportSt...      730   0.00   \n",
       "2  [MMOOnline PvPOnline, Co-opSteam Achievements ...  1097150  19.99   \n",
       "3  [Single-playerOnline PvPSteam, Achievements St...  1158310  49.99   \n",
       "\n",
       "                                        user_reviews  \\\n",
       "0  Overwhelmingly Positive(151,281)- 96% of the 1...   \n",
       "1  Very Positive(90,780)- 88% of the 90,780 user ...   \n",
       "2  Very Positive(32,436)- 84% of the 32,436 user ...   \n",
       "3  Very Positive(5,359)- 91% of the 5,359 user re...   \n",
       "\n",
       "                                         all_reviews all_review_total  \\\n",
       "0  Overwhelmingly Positive(224,878)- 95% of the 2...           224878   \n",
       "1  Very Positive(4,843,904)- 87% of the 4,843,904...          4843904   \n",
       "2  Very Positive(223,706)- 80% of the 223,706 use...           223706   \n",
       "3  Very Positive(18,951)- 92% of the 18,951 user ...            18951   \n",
       "\n",
       "  user_review_total  \n",
       "0            151281  \n",
       "1             90780  \n",
       "2             32436  \n",
       "3              5359  "
      ]
     },
     "execution_count": 206,
     "metadata": {},
     "output_type": "execute_result"
    }
   ],
   "source": [
    "def getreviewtotal(x):\n",
    "    \"\"\"\n",
    "    Get user and total reviews \n",
    "    Params x - the string \n",
    "    Return result - str the regex searched string or 0 if there \n",
    "    were no reviews found\n",
    "    \"\"\"\n",
    "    result = re.search(pattern=r'^.*\\((.*)\\)-.*$', string=x)\n",
    "    if result is not None:\n",
    "        return result.group(1).replace(\",\", \"\")\n",
    "    else: \n",
    "        return None\n",
    "\n",
    "clean_df['all_review_total'] = clean_df['all_reviews'].apply(lambda x: getreviewtotal(x))\n",
    "clean_df['user_review_total'] = clean_df['user_reviews'].apply(lambda x: getreviewtotal(x))\n",
    "clean_df['all_review_total'].astype('float64')\n",
    "clean_df['user_review_total'].astype('float64')\n",
    "clean_df.head(4)"
   ]
  },
  {
   "cell_type": "code",
   "execution_count": 207,
   "metadata": {},
   "outputs": [
    {
     "data": {
      "text/plain": [
       "(46248, 13)"
      ]
     },
     "execution_count": 207,
     "metadata": {},
     "output_type": "execute_result"
    }
   ],
   "source": [
    "clean_df.shape"
   ]
  },
  {
   "cell_type": "code",
   "execution_count": 208,
   "metadata": {},
   "outputs": [
    {
     "data": {
      "text/plain": [
       "date                     0\n",
       "developer                0\n",
       "publisher                0\n",
       "full_desc                0\n",
       "popu_tags                0\n",
       "name                     0\n",
       "categories               0\n",
       "id                       0\n",
       "price                    0\n",
       "user_reviews             0\n",
       "all_reviews              0\n",
       "all_review_total     42739\n",
       "user_review_total    22590\n",
       "dtype: int64"
      ]
     },
     "execution_count": 208,
     "metadata": {},
     "output_type": "execute_result"
    }
   ],
   "source": [
    "clean_df.isnull().sum()"
   ]
  },
  {
   "cell_type": "code",
   "execution_count": 209,
   "metadata": {},
   "outputs": [
    {
     "name": "stdout",
     "output_type": "stream",
     "text": [
      "all_review_total     42739\n",
      "user_review_total    22590\n",
      "dtype: int64\n",
      "RATIOS\n",
      "92.41264\n",
      "48.84536\n"
     ]
    },
    {
     "data": {
      "text/plain": [
       "all_review_total     None\n",
       "user_review_total    None\n",
       "dtype: object"
      ]
     },
     "execution_count": 209,
     "metadata": {},
     "output_type": "execute_result"
    }
   ],
   "source": [
    "\n",
    "nullseries = clean_df.isnull().sum()\n",
    "nullseries = nullseries[nullseries > 0]\n",
    "print(nullseries)\n",
    "print(\"RATIOS\")\n",
    "\n",
    "nullseries.apply(lambda z: print(f\"{round((z/clean_df.shape[0])*100, 5)}\"))"
   ]
  },
  {
   "cell_type": "code",
   "execution_count": 210,
   "metadata": {},
   "outputs": [],
   "source": [
    "clean_df.dropna(inplace=True)"
   ]
  },
  {
   "cell_type": "code",
   "execution_count": 211,
   "metadata": {},
   "outputs": [
    {
     "data": {
      "text/plain": [
       "(3509, 13)"
      ]
     },
     "execution_count": 211,
     "metadata": {},
     "output_type": "execute_result"
    }
   ],
   "source": [
    "clean_df.shape"
   ]
  },
  {
   "cell_type": "code",
   "execution_count": 212,
   "metadata": {},
   "outputs": [],
   "source": [
    "clean_df['all_review_total'] = clean_df['all_review_total'].astype('int64')\n",
    "clean_df['user_review_total'] = clean_df['user_review_total'].astype('int64')"
   ]
  },
  {
   "cell_type": "code",
   "execution_count": 213,
   "metadata": {},
   "outputs": [
    {
     "data": {
      "text/plain": [
       "date                 datetime64[ns]\n",
       "developer                    object\n",
       "publisher                    object\n",
       "full_desc                    object\n",
       "popu_tags                    object\n",
       "name                         object\n",
       "categories                   object\n",
       "id                           object\n",
       "price                       float64\n",
       "user_reviews                 object\n",
       "all_reviews                  object\n",
       "all_review_total              int64\n",
       "user_review_total             int64\n",
       "dtype: object"
      ]
     },
     "execution_count": 213,
     "metadata": {},
     "output_type": "execute_result"
    }
   ],
   "source": [
    "clean_df.dtypes"
   ]
  },
  {
   "attachments": {},
   "cell_type": "markdown",
   "metadata": {},
   "source": [
    "Boxlieter's number\n",
    "\n",
    "How much you should multiply a game’s review count by in order to estimate number of units sold\n"
   ]
  },
  {
   "cell_type": "code",
   "execution_count": 214,
   "metadata": {},
   "outputs": [],
   "source": [
    "Boxlieter = [index for index in range(10,110,10)]\n",
    "# predicted units sold\n",
    "def calculate_units_sold(x): \n",
    "    units = {}\n",
    "    for i in Boxlieter: \n",
    "        units[i] = (i * x)\n",
    "    return units \n",
    "\n",
    "clean_df['units'] = clean_df['all_review_total'].apply(lambda x: calculate_units_sold(x))"
   ]
  },
  {
   "cell_type": "code",
   "execution_count": 215,
   "metadata": {},
   "outputs": [
    {
     "data": {
      "text/plain": [
       "0    {10: 2248780, 20: 4497560, 30: 6746340, 40: 89...\n",
       "1    {10: 48439040, 20: 96878080, 30: 145317120, 40...\n",
       "2    {10: 2237060, 20: 4474120, 30: 6711180, 40: 89...\n",
       "3    {10: 189510, 20: 379020, 30: 568530, 40: 75804...\n",
       "Name: units, dtype: object"
      ]
     },
     "execution_count": 215,
     "metadata": {},
     "output_type": "execute_result"
    }
   ],
   "source": [
    "clean_df['units'].head(4)"
   ]
  },
  {
   "cell_type": "code",
   "execution_count": 216,
   "metadata": {},
   "outputs": [
    {
     "data": {
      "text/plain": [
       "dict_items([(10, 2248780), (20, 4497560), (30, 6746340), (40, 8995120), (50, 11243900), (60, 13492680), (70, 15741460), (80, 17990240), (90, 20239020), (100, 22487800)])"
      ]
     },
     "execution_count": 216,
     "metadata": {},
     "output_type": "execute_result"
    }
   ],
   "source": [
    "clean_df['units'][0].items()"
   ]
  },
  {
   "cell_type": "code",
   "execution_count": 217,
   "metadata": {},
   "outputs": [
    {
     "data": {
      "text/plain": [
       "<pandas.core.groupby.generic.SeriesGroupBy object at 0x0000021F24AE0290>"
      ]
     },
     "execution_count": 217,
     "metadata": {},
     "output_type": "execute_result"
    }
   ],
   "source": [
    "year_group = clean_df.groupby(clean_df.date.dt.year)['units']\n",
    "year_group"
   ]
  },
  {
   "cell_type": "code",
   "execution_count": 218,
   "metadata": {},
   "outputs": [
    {
     "data": {
      "text/html": [
       "<div>\n",
       "<style scoped>\n",
       "    .dataframe tbody tr th:only-of-type {\n",
       "        vertical-align: middle;\n",
       "    }\n",
       "\n",
       "    .dataframe tbody tr th {\n",
       "        vertical-align: top;\n",
       "    }\n",
       "\n",
       "    .dataframe thead th {\n",
       "        text-align: right;\n",
       "    }\n",
       "</style>\n",
       "<table border=\"1\" class=\"dataframe\">\n",
       "  <thead>\n",
       "    <tr style=\"text-align: right;\">\n",
       "      <th></th>\n",
       "      <th>date</th>\n",
       "      <th>developer</th>\n",
       "      <th>publisher</th>\n",
       "      <th>full_desc</th>\n",
       "      <th>popu_tags</th>\n",
       "      <th>name</th>\n",
       "      <th>categories</th>\n",
       "      <th>id</th>\n",
       "      <th>price</th>\n",
       "      <th>user_reviews</th>\n",
       "      <th>all_reviews</th>\n",
       "      <th>all_review_total</th>\n",
       "      <th>user_review_total</th>\n",
       "      <th>units</th>\n",
       "    </tr>\n",
       "  </thead>\n",
       "  <tbody>\n",
       "    <tr>\n",
       "      <th>0</th>\n",
       "      <td>2018-11-16</td>\n",
       "      <td>Innersloth</td>\n",
       "      <td>Innersloth</td>\n",
       "      <td>{'sort': 'game', 'desc': 'About This Game Play...</td>\n",
       "      <td>[Multiplayer, Online, Space, Social, Deduction...</td>\n",
       "      <td>Among Us</td>\n",
       "      <td>[Online PvPLAN, PvPOnline Co-opLAN, Co-opCross...</td>\n",
       "      <td>945360</td>\n",
       "      <td>4.99</td>\n",
       "      <td>Overwhelmingly Positive(151,281)- 96% of the 1...</td>\n",
       "      <td>Overwhelmingly Positive(224,878)- 95% of the 2...</td>\n",
       "      <td>224878</td>\n",
       "      <td>151281</td>\n",
       "      <td>{10: 2248780, 20: 4497560, 30: 6746340, 40: 89...</td>\n",
       "    </tr>\n",
       "  </tbody>\n",
       "</table>\n",
       "</div>"
      ],
      "text/plain": [
       "        date   developer   publisher  \\\n",
       "0 2018-11-16  Innersloth  Innersloth   \n",
       "\n",
       "                                           full_desc  \\\n",
       "0  {'sort': 'game', 'desc': 'About This Game Play...   \n",
       "\n",
       "                                           popu_tags      name  \\\n",
       "0  [Multiplayer, Online, Space, Social, Deduction...  Among Us   \n",
       "\n",
       "                                          categories      id  price  \\\n",
       "0  [Online PvPLAN, PvPOnline Co-opLAN, Co-opCross...  945360   4.99   \n",
       "\n",
       "                                        user_reviews  \\\n",
       "0  Overwhelmingly Positive(151,281)- 96% of the 1...   \n",
       "\n",
       "                                         all_reviews  all_review_total  \\\n",
       "0  Overwhelmingly Positive(224,878)- 95% of the 2...            224878   \n",
       "\n",
       "   user_review_total                                              units  \n",
       "0             151281  {10: 2248780, 20: 4497560, 30: 6746340, 40: 89...  "
      ]
     },
     "execution_count": 218,
     "metadata": {},
     "output_type": "execute_result"
    }
   ],
   "source": [
    "clean_df.head(1)"
   ]
  },
  {
   "cell_type": "code",
   "execution_count": 219,
   "metadata": {},
   "outputs": [],
   "source": [
    "rate_value = []\n",
    "scaled_units = []\n",
    "for i in clean_df['units'][0].items():\n",
    "    rate_value.append(i[0])\n",
    "    scaled_units.append(i[1])"
   ]
  },
  {
   "cell_type": "code",
   "execution_count": 220,
   "metadata": {},
   "outputs": [
    {
     "data": {
      "image/png": "[encoded data removed]",
      "text/plain": [
       "<Figure size 1000x500 with 1 Axes>"
      ]
     },
     "metadata": {},
     "output_type": "display_data"
    }
   ],
   "source": [
    "fig, ax = plt.subplots(figsize=(10, 5))\n",
    "palette = sns.color_palette(\"bright\", 4)\n",
    "g = sns.barplot(clean_df, x=rate_value, y=scaled_units, palette= palette);\n",
    "ax.set_title('Scaled Units VS Estimated units sold')\n",
    "g.set(ylim = (0,25000000))\n",
    "xlabels = ['{:,.2f}'.format(x) + 'K' for x in g.get_xticks()/1000]"
   ]
  },
  {
   "attachments": {},
   "cell_type": "markdown",
   "metadata": {},
   "source": [
    "We have a linear relationship between our scaling factor and number of units sold."
   ]
  },
  {
   "cell_type": "code",
   "execution_count": 221,
   "metadata": {},
   "outputs": [
    {
     "name": "stderr",
     "output_type": "stream",
     "text": [
      "C:\\Users\\Heather\\AppData\\Local\\Temp\\ipykernel_17892\\3377804675.py:1: FutureWarning: The default value of numeric_only in DataFrameGroupBy.mean is deprecated. In a future version, numeric_only will default to False. Either specify numeric_only or select only columns which should be valid for the function.\n",
      "  year_group = clean_df.groupby(clean_df.date.dt.year).mean()\n"
     ]
    },
    {
     "data": {
      "text/html": [
       "<div>\n",
       "<style scoped>\n",
       "    .dataframe tbody tr th:only-of-type {\n",
       "        vertical-align: middle;\n",
       "    }\n",
       "\n",
       "    .dataframe tbody tr th {\n",
       "        vertical-align: top;\n",
       "    }\n",
       "\n",
       "    .dataframe thead th {\n",
       "        text-align: right;\n",
       "    }\n",
       "</style>\n",
       "<table border=\"1\" class=\"dataframe\">\n",
       "  <thead>\n",
       "    <tr style=\"text-align: right;\">\n",
       "      <th></th>\n",
       "      <th>price</th>\n",
       "      <th>all_review_total</th>\n",
       "      <th>user_review_total</th>\n",
       "    </tr>\n",
       "    <tr>\n",
       "      <th>date</th>\n",
       "      <th></th>\n",
       "      <th></th>\n",
       "      <th></th>\n",
       "    </tr>\n",
       "  </thead>\n",
       "  <tbody>\n",
       "    <tr>\n",
       "      <th>1984</th>\n",
       "      <td>9.99</td>\n",
       "      <td>484.0</td>\n",
       "      <td>11.0</td>\n",
       "    </tr>\n",
       "    <tr>\n",
       "      <th>1989</th>\n",
       "      <td>1.99</td>\n",
       "      <td>656.0</td>\n",
       "      <td>28.0</td>\n",
       "    </tr>\n",
       "    <tr>\n",
       "      <th>1990</th>\n",
       "      <td>14.99</td>\n",
       "      <td>767.0</td>\n",
       "      <td>13.0</td>\n",
       "    </tr>\n",
       "    <tr>\n",
       "      <th>1991</th>\n",
       "      <td>19.99</td>\n",
       "      <td>623.0</td>\n",
       "      <td>12.0</td>\n",
       "    </tr>\n",
       "  </tbody>\n",
       "</table>\n",
       "</div>"
      ],
      "text/plain": [
       "      price  all_review_total  user_review_total\n",
       "date                                            \n",
       "1984   9.99             484.0               11.0\n",
       "1989   1.99             656.0               28.0\n",
       "1990  14.99             767.0               13.0\n",
       "1991  19.99             623.0               12.0"
      ]
     },
     "execution_count": 221,
     "metadata": {},
     "output_type": "execute_result"
    }
   ],
   "source": [
    "year_group = clean_df.groupby(clean_df.date.dt.year).mean()\n",
    "year_group.head(4)"
   ]
  },
  {
   "cell_type": "code",
   "execution_count": 232,
   "metadata": {},
   "outputs": [
    {
     "name": "stderr",
     "output_type": "stream",
     "text": [
      "C:\\Users\\Heather\\AppData\\Local\\Temp\\ipykernel_17892\\156220396.py:4: UserWarning: FixedFormatter should only be used together with FixedLocator\n",
      "  ax.set_xticklabels(labels=year_group.index, rotation=40, ha='center')\n"
     ]
    },
    {
     "data": {
      "image/png": "[encoded data removed]",
      "text/plain": [
       "<Figure size 1000x1000 with 1 Axes>"
      ]
     },
     "metadata": {},
     "output_type": "display_data"
    }
   ],
   "source": [
    "fig, ax = plt.subplots(figsize=(10, 10))\n",
    "ax.set_ylabel(ylabel='average price')\n",
    "ax.set_xlabel(xlabel='year')\n",
    "ax.set_xticklabels(labels=year_group.index, rotation=40, ha='center')\n",
    "sns.barplot(x=year_group.index, y=year_group['price'], ax=ax);"
   ]
  },
  {
   "cell_type": "code",
   "execution_count": 176,
   "metadata": {},
   "outputs": [
    {
     "data": {
      "text/plain": [
       "<AxesSubplot: xlabel='date', ylabel='price'>"
      ]
     },
     "execution_count": 176,
     "metadata": {},
     "output_type": "execute_result"
    },
    {
     "data": {
      "image/png": "[encoded data removed]",
      "text/plain": [
       "<Figure size 640x480 with 1 Axes>"
      ]
     },
     "metadata": {},
     "output_type": "display_data"
    }
   ],
   "source": [
    "sns.scatterplot(x=year_group.index, y=year_group['price'])"
   ]
  },
  {
   "cell_type": "code",
   "execution_count": null,
   "metadata": {},
   "outputs": [],
   "source": []
  },
  {
   "cell_type": "code",
   "execution_count": null,
   "metadata": {},
   "outputs": [],
   "source": []
  },
  {
   "cell_type": "code",
   "execution_count": null,
   "metadata": {},
   "outputs": [],
   "source": []
  },
  {
   "cell_type": "code",
   "execution_count": null,
   "metadata": {},
   "outputs": [],
   "source": []
  },
  {
   "cell_type": "code",
   "execution_count": 177,
   "metadata": {},
   "outputs": [],
   "source": [
    "# fig = plt.figure(figsize=(12, 9))\n",
    "\n",
    "# gs = fig.add_gridspec(3, 4)\n",
    "# ax0 = plt.subplot(gs[:2, :2])\n",
    "# ax1 = plt.subplot(gs[2:, :2])\n",
    "# ax2 = plt.subplot(gs[:3, 2:])\n",
    "\n",
    "# sns.scatterplot(data=clean_df, x='date',\n",
    "#                 y='clean_price',\n",
    "#                 ax=ax0)\n",
    "\n",
    "# sns.histplot(data=clean_df, x='user_review_total', bins=20,\n",
    "#              ax=ax1)\n",
    "\n",
    "# sns.boxplot(data=clean_df, x='date', y='clean_price', ax=ax2)\n",
    "\n",
    "# ax2.set_xlabel('year')\n",
    "\n",
    "# fig.suptitle('Steam Game Year and Price', fontsize=18)\n",
    "# plt.tight_layout()"
   ]
  },
  {
   "cell_type": "code",
   "execution_count": 178,
   "metadata": {},
   "outputs": [],
   "source": [
    "# from steam import Steam\n",
    "# import requests\n",
    "# import json\n",
    "\n",
    "\n",
    "# file = open('./env.txt')\n",
    "# STEAM_KEY = file.read() \n",
    "# data = []\n",
    "# steam = Steam(STEAM_KEY)\n",
    "# uuid='945360'\n",
    "\n",
    "# def getgamereviews(uuid): \n",
    "#     result = requests.get('https://store.steampowered.com/appreviews/'+uuid+'?json=1cursor=20')\n",
    "#     return result.text\n",
    "\n",
    "# data.append(getgamereviews(uuid='945360'))\n",
    "# with open('test.json', 'w', encoding=\"utf-8\") as f:\n",
    "#     json.dump(data, f)\n",
    "# comments = []\n",
    "# comments_dict = {}\n",
    "# for row in data: \n",
    "#     json_line = json.loads(row)\n",
    "#     for index in range(20):\n",
    "#         comments.append(json_line['reviews'][index]['review'])\n",
    "#     comments_dict[uuid] = comments\n",
    "# pd.set_option('display.max_columns', None)\n",
    "# pd.set_option('display.max_rows', None)\n",
    "# comments_df = pd.Series(comments_dict, name='comments')\n",
    "# comments_df"
   ]
  },
  {
   "cell_type": "markdown",
   "metadata": {},
   "source": []
  },
  {
   "attachments": {},
   "cell_type": "markdown",
   "metadata": {},
   "source": [
    "We can confirm our accuracy through this third party website that tracks steam game unit sale estimations. https://steamdb.info/app/990080/charts/"
   ]
  },
  {
   "attachments": {},
   "cell_type": "markdown",
   "metadata": {},
   "source": [
    "The most important feature in predicting price and if the game will sell well is timing. Timing is everything. \n",
    "It's also dependent upon Early Access, DLC, and genre. "
   ]
  },
  {
   "attachments": {},
   "cell_type": "markdown",
   "metadata": {},
   "source": [
    "Other metrics to look at in the future include computer requirements, total number of active players, follower count, and times when other similar games go on sale. "
   ]
  },
  {
   "cell_type": "markdown",
   "metadata": {},
   "source": []
  }
 ],
 "metadata": {
  "kernelspec": {
   "display_name": "venvtools2",
   "language": "python",
   "name": "python3"
  },
  "language_info": {
   "codemirror_mode": {
    "name": "ipython",
    "version": 3
   },
   "file_extension": ".py",
   "mimetype": "text/x-python",
   "name": "python",
   "nbconvert_exporter": "python",
   "pygments_lexer": "ipython3",
   "version": "3.11.1"
  },
  "vscode": {
   "interpreter": {
    "hash": "d879f583b607c711ed42a3f2837aa40f7823202ddc09639f4d71f44ad0908e9c"
   }
  }
 },
 "nbformat": 4,
 "nbformat_minor": 2
}
