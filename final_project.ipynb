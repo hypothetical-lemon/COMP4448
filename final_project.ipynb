{
 "cells": [
  {
   "cell_type": "code",
   "execution_count": 39,
   "metadata": {},
   "outputs": [],
   "source": [
    "import pandas as pd \n",
    "import numpy as np\n",
    "import json\n",
    "from collections import namedtuple\n",
    "from os.path import exists"
   ]
  },
  {
   "cell_type": "code",
   "execution_count": 40,
   "metadata": {},
   "outputs": [
    {
     "data": {
      "text/html": [
       "<div>\n",
       "<style scoped>\n",
       "    .dataframe tbody tr th:only-of-type {\n",
       "        vertical-align: middle;\n",
       "    }\n",
       "\n",
       "    .dataframe tbody tr th {\n",
       "        vertical-align: top;\n",
       "    }\n",
       "\n",
       "    .dataframe thead th {\n",
       "        text-align: right;\n",
       "    }\n",
       "</style>\n",
       "<table border=\"1\" class=\"dataframe\">\n",
       "  <thead>\n",
       "    <tr style=\"text-align: right;\">\n",
       "      <th></th>\n",
       "      <th>url</th>\n",
       "      <th>name</th>\n",
       "      <th>categories</th>\n",
       "      <th>img_url</th>\n",
       "      <th>user_reviews</th>\n",
       "      <th>all_reviews</th>\n",
       "      <th>date</th>\n",
       "      <th>developer</th>\n",
       "      <th>publisher</th>\n",
       "      <th>price</th>\n",
       "      <th>pegi</th>\n",
       "      <th>pegi_url</th>\n",
       "    </tr>\n",
       "  </thead>\n",
       "  <tbody>\n",
       "    <tr>\n",
       "      <th>0</th>\n",
       "      <td>https://store.steampowered.com/app/945360/Amon...</td>\n",
       "      <td>Among Us</td>\n",
       "      <td>Online PvPLAN PvPOnline Co-opLAN Co-opCross-Pl...</td>\n",
       "      <td>https://steamcdn-a.akamaihd.net/steam/apps/945...</td>\n",
       "      <td>Overwhelmingly Positive(151,281)- 96% of the 1...</td>\n",
       "      <td>Overwhelmingly Positive(224,878)- 95% of the 2...</td>\n",
       "      <td>Nov 16, 2018</td>\n",
       "      <td>Innersloth</td>\n",
       "      <td>Innersloth</td>\n",
       "      <td>Buy Among Us$4.99Add to Cart</td>\n",
       "      <td>-</td>\n",
       "      <td>-</td>\n",
       "    </tr>\n",
       "    <tr>\n",
       "      <th>1</th>\n",
       "      <td>https://store.steampowered.com/app/730/Counter...</td>\n",
       "      <td>Counter-Strike: Global Offensive</td>\n",
       "      <td>Steam AchievementsFull controller supportSteam...</td>\n",
       "      <td>https://steamcdn-a.akamaihd.net/steam/apps/730...</td>\n",
       "      <td>Very Positive(90,780)- 88% of the 90,780 user ...</td>\n",
       "      <td>Very Positive(4,843,904)- 87% of the 4,843,904...</td>\n",
       "      <td>Aug 21, 2012</td>\n",
       "      <td>Valve, Hidden Path Entertainment</td>\n",
       "      <td>Valve</td>\n",
       "      <td>Play Counter-Strike: Global OffensiveFree to P...</td>\n",
       "      <td>-</td>\n",
       "      <td>-</td>\n",
       "    </tr>\n",
       "    <tr>\n",
       "      <th>2</th>\n",
       "      <td>https://store.steampowered.com/app/1097150/Fal...</td>\n",
       "      <td>Fall Guys: Ultimate Knockout</td>\n",
       "      <td>MMOOnline PvPOnline Co-opSteam AchievementsFul...</td>\n",
       "      <td>https://steamcdn-a.akamaihd.net/steam/apps/109...</td>\n",
       "      <td>Very Positive(32,436)- 84% of the 32,436 user ...</td>\n",
       "      <td>Very Positive(223,706)- 80% of the 223,706 use...</td>\n",
       "      <td>Aug 3, 2020</td>\n",
       "      <td>Mediatonic</td>\n",
       "      <td>Devolver Digital</td>\n",
       "      <td>Buy Fall Guys$19.99Add to Cart</td>\n",
       "      <td>-</td>\n",
       "      <td>-</td>\n",
       "    </tr>\n",
       "  </tbody>\n",
       "</table>\n",
       "</div>"
      ],
      "text/plain": [
       "                                                 url  \\\n",
       "0  https://store.steampowered.com/app/945360/Amon...   \n",
       "1  https://store.steampowered.com/app/730/Counter...   \n",
       "2  https://store.steampowered.com/app/1097150/Fal...   \n",
       "\n",
       "                               name  \\\n",
       "0                          Among Us   \n",
       "1  Counter-Strike: Global Offensive   \n",
       "2      Fall Guys: Ultimate Knockout   \n",
       "\n",
       "                                          categories  \\\n",
       "0  Online PvPLAN PvPOnline Co-opLAN Co-opCross-Pl...   \n",
       "1  Steam AchievementsFull controller supportSteam...   \n",
       "2  MMOOnline PvPOnline Co-opSteam AchievementsFul...   \n",
       "\n",
       "                                             img_url  \\\n",
       "0  https://steamcdn-a.akamaihd.net/steam/apps/945...   \n",
       "1  https://steamcdn-a.akamaihd.net/steam/apps/730...   \n",
       "2  https://steamcdn-a.akamaihd.net/steam/apps/109...   \n",
       "\n",
       "                                        user_reviews  \\\n",
       "0  Overwhelmingly Positive(151,281)- 96% of the 1...   \n",
       "1  Very Positive(90,780)- 88% of the 90,780 user ...   \n",
       "2  Very Positive(32,436)- 84% of the 32,436 user ...   \n",
       "\n",
       "                                         all_reviews          date  \\\n",
       "0  Overwhelmingly Positive(224,878)- 95% of the 2...  Nov 16, 2018   \n",
       "1  Very Positive(4,843,904)- 87% of the 4,843,904...  Aug 21, 2012   \n",
       "2  Very Positive(223,706)- 80% of the 223,706 use...   Aug 3, 2020   \n",
       "\n",
       "                          developer         publisher  \\\n",
       "0                        Innersloth        Innersloth   \n",
       "1  Valve, Hidden Path Entertainment             Valve   \n",
       "2                        Mediatonic  Devolver Digital   \n",
       "\n",
       "                                               price pegi pegi_url  \n",
       "0                       Buy Among Us$4.99Add to Cart    -        -  \n",
       "1  Play Counter-Strike: Global OffensiveFree to P...    -        -  \n",
       "2                     Buy Fall Guys$19.99Add to Cart    -        -  "
      ]
     },
     "execution_count": 40,
     "metadata": {},
     "output_type": "execute_result"
    }
   ],
   "source": [
    "df = pd.read_csv('steam/steam_data.csv')\n",
    "df.head(3)"
   ]
  },
  {
   "cell_type": "markdown",
   "metadata": {},
   "source": [
    "Parse URLS to uuid"
   ]
  },
  {
   "cell_type": "code",
   "execution_count": 41,
   "metadata": {},
   "outputs": [],
   "source": [
    "import re\n",
    "url_list = []\n",
    "\n",
    "def findid(row):\n",
    "    result = re.search(string=row, pattern=r'\\b/[0-9]*/')\n",
    "    if result is not None:\n",
    "        result2 = re.sub(string=result.group(0), pattern=r'/*', repl='')\n",
    "        if result2 is not None:\n",
    "            url_list.append(result2)\n",
    "\n",
    "df['url'].apply(lambda x: findid(x))\n",
    "steam_ids = pd.DataFrame(url_list)"
   ]
  },
  {
   "cell_type": "code",
   "execution_count": 42,
   "metadata": {},
   "outputs": [
    {
     "data": {
      "text/html": [
       "<div>\n",
       "<style scoped>\n",
       "    .dataframe tbody tr th:only-of-type {\n",
       "        vertical-align: middle;\n",
       "    }\n",
       "\n",
       "    .dataframe tbody tr th {\n",
       "        vertical-align: top;\n",
       "    }\n",
       "\n",
       "    .dataframe thead th {\n",
       "        text-align: right;\n",
       "    }\n",
       "</style>\n",
       "<table border=\"1\" class=\"dataframe\">\n",
       "  <thead>\n",
       "    <tr style=\"text-align: right;\">\n",
       "      <th></th>\n",
       "      <th>0</th>\n",
       "    </tr>\n",
       "  </thead>\n",
       "  <tbody>\n",
       "    <tr>\n",
       "      <th>0</th>\n",
       "      <td>945360</td>\n",
       "    </tr>\n",
       "    <tr>\n",
       "      <th>1</th>\n",
       "      <td>730</td>\n",
       "    </tr>\n",
       "    <tr>\n",
       "      <th>2</th>\n",
       "      <td>1097150</td>\n",
       "    </tr>\n",
       "    <tr>\n",
       "      <th>3</th>\n",
       "      <td>1158310</td>\n",
       "    </tr>\n",
       "    <tr>\n",
       "      <th>4</th>\n",
       "      <td>1085660</td>\n",
       "    </tr>\n",
       "  </tbody>\n",
       "</table>\n",
       "</div>"
      ],
      "text/plain": [
       "         0\n",
       "0   945360\n",
       "1      730\n",
       "2  1097150\n",
       "3  1158310\n",
       "4  1085660"
      ]
     },
     "execution_count": 42,
     "metadata": {},
     "output_type": "execute_result"
    }
   ],
   "source": [
    "steam_ids.head()"
   ]
  },
  {
   "cell_type": "code",
   "execution_count": 43,
   "metadata": {},
   "outputs": [],
   "source": [
    "# from steam import Steam\n",
    "# import requests\n",
    "# import json\n",
    "\n",
    "\n",
    "# file = open('./env.txt')\n",
    "# STEAM_KEY = file.read() \n",
    "# data = []\n",
    "# steam = Steam(STEAM_KEY)\n",
    "# uuid='945360'\n",
    "\n",
    "# def getgamereviews(uuid): \n",
    "#     result = requests.get('https://store.steampowered.com/appreviews/'+uuid+'?json=1cursor=20')\n",
    "#     return result.text\n",
    "\n",
    "# data.append(getgamereviews(uuid='945360'))\n",
    "# with open('test.json', 'w', encoding=\"utf-8\") as f:\n",
    "#     json.dump(data, f)"
   ]
  },
  {
   "cell_type": "code",
   "execution_count": 44,
   "metadata": {},
   "outputs": [],
   "source": [
    "# comments = []\n",
    "# comments_dict = {}\n",
    "# for row in data: \n",
    "#     json_line = json.loads(row)\n",
    "#     for index in range(20):\n",
    "#         comments.append(json_line['reviews'][index]['review'])\n",
    "#     comments_dict[uuid] = comments"
   ]
  },
  {
   "cell_type": "code",
   "execution_count": 45,
   "metadata": {},
   "outputs": [],
   "source": [
    "# pd.set_option('display.max_columns', None)\n",
    "# pd.set_option('display.max_rows', None)\n",
    "# comments_df = pd.Series(comments_dict, name='comments')\n",
    "# comments_df"
   ]
  },
  {
   "cell_type": "code",
   "execution_count": 46,
   "metadata": {},
   "outputs": [
    {
     "name": "stdout",
     "output_type": "stream",
     "text": [
      "Record(img_url='https://steamcdn-a.akamaihd.net/steam/apps/945360/header.jpg?t=1598556351', date='Nov 16, 2018', developer='Innersloth', publisher='Innersloth', full_desc={'sort': 'game', 'desc': \"About This Game Play with 4-10 player online or via local WiFi as you attempt to prepare your spaceship for departure, but beware as one or more random players among the Crew are Impostors bent on killing everyone!Originally created as a party game, we recommend playing with friends at a LAN party or online using voice chat. Enjoy cross-platform play between Android, iOS and PC. Win by completing tasks to prepare the ship or ejecting all Impostors. React quickly to undo the Impostor's sabotages. Check the Admin map and Security cameras to keep tabs on other Crewmates. Report any dead bodies immediately to start discussion of who the suspected Impostor is. Call emergency meetings to discuss suspicious behavior. Vote to eject suspected Impostors. Kill crewmates and frame bystanders. Pretend to run tasks to blend in with the crewmates. Sneak through the vents to quickly move about the ship. Use sabotages to cause chaos and divide the crew. Close doors to trap victims and kill in private.Features Customization: Pick your color and hat. Lots of game options: Add more impostors, more tasks, and so much more! Quickly find a game online from the host list. In-game text chat. Rich discord integration. Cross-platform play between PC, Android, and iOS!\"}, requirements={'minimum': {'windows': {'processor': ' SSE2 instruction set support', 'memory': ' 1 ', 'graphics': '', 'os': ' Windows 7 SP1+'}}, 'recommended': {}}, popu_tags=['Multiplayer', 'Online', 'Space', 'Social', 'Deduction', 'Survival', 'Funny2', 'Psychological', 'Local', 'Multiplayer', 'Cartoony', 'Casual', 'Indie', 'Colorful', 'Minigames', 'Local', 'Down', 'Aliens+'], price='499', url_info={'url': 'https://store.steampowered.com/app/945360/Among_Us/?snr=1_7_7_230_150_1', 'id': '945360', 'type': 'app', 'url_name': 'Among Us'}, name='Among Us', categories=['Online PvPLAN', 'PvPOnline Co-opLAN', 'Co-opCross-Platform Multiplayer Remote', 'Play on', 'Phone Remote Play', 'on Tablet'])\n"
     ]
    }
   ],
   "source": [
    "class Field:\n",
    "    \"\"\"\n",
    "    Representational json from steam\n",
    "    \"\"\"\n",
    "    data = []\n",
    "\n",
    "    def __init__(self):\n",
    "        self._load_data()\n",
    "\n",
    "    def _load_data(self) -> None: \n",
    "        with open('final_data_new.json', 'r', encoding=\"utf-8\") as file:\n",
    "            for line in file:\n",
    "                json_line = json.loads(line,  object_hook=BlankDict)\n",
    "                for index in range(len(json_line)):\n",
    "                    if json_line[index]['publisher'] is not None:\n",
    "\n",
    "                        rec = Record.record(img_url=json_line[index]['img_url'], date=json_line[index]['date'], \n",
    "                                            developer=json_line[index]['developer'], publisher=json_line[index]['publisher'], \n",
    "                                            full_desc=json_line[index]['full_desc'], \n",
    "                                            requirements=json_line[index]['requirements'], popu_tags=json_line[index]['popu_tags'], \n",
    "                                            price=json_line[index]['price'], url_info=json_line[index]['url_info'], name=json_line[index]['name'], \n",
    "                                            categories=json_line[index]['categories'])\n",
    "                        self.data.append(rec)\n",
    "        file.close()\n",
    "\n",
    "class BlankDict(dict):\n",
    "    def __missing__(self, key):\n",
    "        return ''\n",
    "\n",
    "class Record: \n",
    "    \"\"\"\n",
    "    Representation of a record\n",
    "    \"\"\"\n",
    "    field = ['img_url', 'date', 'developer', 'publisher', 'full_desc', 'requirements', 'popu_tags', \n",
    "             'price', 'url_info', 'name', 'categories']\n",
    "    record = namedtuple('Record', field)\n",
    "\n",
    "field = Field()\n",
    "field.__init__()\n",
    "print(field.data[0])"
   ]
  },
  {
   "cell_type": "code",
   "execution_count": 47,
   "metadata": {},
   "outputs": [
    {
     "name": "stdout",
     "output_type": "stream",
     "text": [
      "(149642, 11)\n"
     ]
    }
   ],
   "source": [
    "clean_df = pd.DataFrame(field.data, dtype='object', columns=Record.field)\n",
    "print(clean_df.shape)\n",
    "clean_df = clean_df.drop_duplicates(subset=['img_url'])"
   ]
  },
  {
   "cell_type": "code",
   "execution_count": 48,
   "metadata": {},
   "outputs": [
    {
     "data": {
      "text/plain": [
       "(64344, 11)"
      ]
     },
     "execution_count": 48,
     "metadata": {},
     "output_type": "execute_result"
    }
   ],
   "source": [
    "clean_df.shape"
   ]
  },
  {
   "cell_type": "code",
   "execution_count": 49,
   "metadata": {},
   "outputs": [
    {
     "data": {
      "text/html": [
       "<div>\n",
       "<style scoped>\n",
       "    .dataframe tbody tr th:only-of-type {\n",
       "        vertical-align: middle;\n",
       "    }\n",
       "\n",
       "    .dataframe tbody tr th {\n",
       "        vertical-align: top;\n",
       "    }\n",
       "\n",
       "    .dataframe thead th {\n",
       "        text-align: right;\n",
       "    }\n",
       "</style>\n",
       "<table border=\"1\" class=\"dataframe\">\n",
       "  <thead>\n",
       "    <tr style=\"text-align: right;\">\n",
       "      <th></th>\n",
       "      <th>img_url</th>\n",
       "      <th>date</th>\n",
       "      <th>developer</th>\n",
       "      <th>publisher</th>\n",
       "      <th>full_desc</th>\n",
       "      <th>requirements</th>\n",
       "      <th>popu_tags</th>\n",
       "      <th>price</th>\n",
       "      <th>url_info</th>\n",
       "      <th>name</th>\n",
       "      <th>categories</th>\n",
       "    </tr>\n",
       "  </thead>\n",
       "  <tbody>\n",
       "    <tr>\n",
       "      <th>0</th>\n",
       "      <td>https://steamcdn-a.akamaihd.net/steam/apps/945...</td>\n",
       "      <td>Nov 16, 2018</td>\n",
       "      <td>Innersloth</td>\n",
       "      <td>Innersloth</td>\n",
       "      <td>{'sort': 'game', 'desc': 'About This Game Play...</td>\n",
       "      <td>{'minimum': {'windows': {'processor': ' SSE2 i...</td>\n",
       "      <td>[Multiplayer, Online, Space, Social, Deduction...</td>\n",
       "      <td>499</td>\n",
       "      <td>{'url': 'https://store.steampowered.com/app/94...</td>\n",
       "      <td>Among Us</td>\n",
       "      <td>[Online PvPLAN, PvPOnline Co-opLAN, Co-opCross...</td>\n",
       "    </tr>\n",
       "  </tbody>\n",
       "</table>\n",
       "</div>"
      ],
      "text/plain": [
       "                                             img_url          date  \\\n",
       "0  https://steamcdn-a.akamaihd.net/steam/apps/945...  Nov 16, 2018   \n",
       "\n",
       "    developer   publisher                                          full_desc  \\\n",
       "0  Innersloth  Innersloth  {'sort': 'game', 'desc': 'About This Game Play...   \n",
       "\n",
       "                                        requirements  \\\n",
       "0  {'minimum': {'windows': {'processor': ' SSE2 i...   \n",
       "\n",
       "                                           popu_tags price  \\\n",
       "0  [Multiplayer, Online, Space, Social, Deduction...   499   \n",
       "\n",
       "                                            url_info      name  \\\n",
       "0  {'url': 'https://store.steampowered.com/app/94...  Among Us   \n",
       "\n",
       "                                          categories  \n",
       "0  [Online PvPLAN, PvPOnline Co-opLAN, Co-opCross...  "
      ]
     },
     "execution_count": 49,
     "metadata": {},
     "output_type": "execute_result"
    }
   ],
   "source": [
    "clean_df.head(1)"
   ]
  },
  {
   "cell_type": "code",
   "execution_count": 50,
   "metadata": {},
   "outputs": [
    {
     "data": {
      "text/html": [
       "<div>\n",
       "<style scoped>\n",
       "    .dataframe tbody tr th:only-of-type {\n",
       "        vertical-align: middle;\n",
       "    }\n",
       "\n",
       "    .dataframe tbody tr th {\n",
       "        vertical-align: top;\n",
       "    }\n",
       "\n",
       "    .dataframe thead th {\n",
       "        text-align: right;\n",
       "    }\n",
       "</style>\n",
       "<table border=\"1\" class=\"dataframe\">\n",
       "  <thead>\n",
       "    <tr style=\"text-align: right;\">\n",
       "      <th></th>\n",
       "      <th>img_url</th>\n",
       "      <th>date</th>\n",
       "      <th>developer</th>\n",
       "      <th>publisher</th>\n",
       "      <th>full_desc</th>\n",
       "      <th>requirements</th>\n",
       "      <th>popu_tags</th>\n",
       "      <th>price</th>\n",
       "      <th>url_info</th>\n",
       "      <th>name</th>\n",
       "      <th>categories</th>\n",
       "    </tr>\n",
       "  </thead>\n",
       "  <tbody>\n",
       "    <tr>\n",
       "      <th>74805</th>\n",
       "      <td>https://steamcdn-a.akamaihd.net/steam/apps/134...</td>\n",
       "      <td>Coming Soon</td>\n",
       "      <td>Pathea Games</td>\n",
       "      <td></td>\n",
       "      <td>{'sort': 'game', 'desc': 'About This Game Abou...</td>\n",
       "      <td>{'minimum': {'windows': {'processor': ' Intel ...</td>\n",
       "      <td>[Sports, Multiplayer, Online, Casual, Team-, B...</td>\n",
       "      <td>free</td>\n",
       "      <td>{'url': 'https://store.steampowered.com/app/13...</td>\n",
       "      <td>Super Buckyball Tournament Preseason</td>\n",
       "      <td>[Online PvPOnline, Co-opFull controller, suppo...</td>\n",
       "    </tr>\n",
       "    <tr>\n",
       "      <th>74806</th>\n",
       "      <td>https://steamcdn-a.akamaihd.net/steam/apps/134...</td>\n",
       "      <td>TBA</td>\n",
       "      <td>Yumenamakon</td>\n",
       "      <td></td>\n",
       "      <td>{'sort': 'game', 'desc': 'About This Game Tire...</td>\n",
       "      <td>{'minimum': {'windows': {'processor': ' Intel ...</td>\n",
       "      <td>[Adventure, Anime, Singleplayer, Pixel, Graphi...</td>\n",
       "      <td></td>\n",
       "      <td></td>\n",
       "      <td>Lisa and the Grimoire</td>\n",
       "      <td>[Single-playerSteam Cloud]</td>\n",
       "    </tr>\n",
       "    <tr>\n",
       "      <th>74807</th>\n",
       "      <td>https://steamcdn-a.akamaihd.net/steam/apps/134...</td>\n",
       "      <td>1 Dec, 2020</td>\n",
       "      <td>Carlos Coronado</td>\n",
       "      <td></td>\n",
       "      <td>{'sort': 'game', 'desc': 'About This Game 7th ...</td>\n",
       "      <td>{'minimum': {'windows': {'processor': ' Intel ...</td>\n",
       "      <td>[Psychological, Horror, Horror, Action-, Adven...</td>\n",
       "      <td></td>\n",
       "      <td></td>\n",
       "      <td>HORROR TALES: The Beggar</td>\n",
       "      <td>[Single-playerSteam Achievements Full, control...</td>\n",
       "    </tr>\n",
       "  </tbody>\n",
       "</table>\n",
       "</div>"
      ],
      "text/plain": [
       "                                                 img_url         date  \\\n",
       "74805  https://steamcdn-a.akamaihd.net/steam/apps/134...  Coming Soon   \n",
       "74806  https://steamcdn-a.akamaihd.net/steam/apps/134...          TBA   \n",
       "74807  https://steamcdn-a.akamaihd.net/steam/apps/134...  1 Dec, 2020   \n",
       "\n",
       "             developer publisher  \\\n",
       "74805     Pathea Games             \n",
       "74806      Yumenamakon             \n",
       "74807  Carlos Coronado             \n",
       "\n",
       "                                               full_desc  \\\n",
       "74805  {'sort': 'game', 'desc': 'About This Game Abou...   \n",
       "74806  {'sort': 'game', 'desc': 'About This Game Tire...   \n",
       "74807  {'sort': 'game', 'desc': 'About This Game 7th ...   \n",
       "\n",
       "                                            requirements  \\\n",
       "74805  {'minimum': {'windows': {'processor': ' Intel ...   \n",
       "74806  {'minimum': {'windows': {'processor': ' Intel ...   \n",
       "74807  {'minimum': {'windows': {'processor': ' Intel ...   \n",
       "\n",
       "                                               popu_tags price  \\\n",
       "74805  [Sports, Multiplayer, Online, Casual, Team-, B...  free   \n",
       "74806  [Adventure, Anime, Singleplayer, Pixel, Graphi...         \n",
       "74807  [Psychological, Horror, Horror, Action-, Adven...         \n",
       "\n",
       "                                                url_info  \\\n",
       "74805  {'url': 'https://store.steampowered.com/app/13...   \n",
       "74806                                                      \n",
       "74807                                                      \n",
       "\n",
       "                                       name  \\\n",
       "74805  Super Buckyball Tournament Preseason   \n",
       "74806                 Lisa and the Grimoire   \n",
       "74807              HORROR TALES: The Beggar   \n",
       "\n",
       "                                              categories  \n",
       "74805  [Online PvPOnline, Co-opFull controller, suppo...  \n",
       "74806                         [Single-playerSteam Cloud]  \n",
       "74807  [Single-playerSteam Achievements Full, control...  "
      ]
     },
     "execution_count": 50,
     "metadata": {},
     "output_type": "execute_result"
    }
   ],
   "source": [
    "clean_df.tail(3)"
   ]
  },
  {
   "cell_type": "code",
   "execution_count": 51,
   "metadata": {},
   "outputs": [
    {
     "name": "stdout",
     "output_type": "stream",
     "text": [
      "(64344, 11)\n"
     ]
    }
   ],
   "source": [
    "clean_df.reindex()\n",
    "print(clean_df.shape)"
   ]
  },
  {
   "cell_type": "code",
   "execution_count": 52,
   "metadata": {},
   "outputs": [
    {
     "data": {
      "text/plain": [
       "img_url         object\n",
       "date            object\n",
       "developer       object\n",
       "publisher       object\n",
       "full_desc       object\n",
       "requirements    object\n",
       "popu_tags       object\n",
       "price           object\n",
       "url_info        object\n",
       "name            object\n",
       "categories      object\n",
       "dtype: object"
      ]
     },
     "execution_count": 52,
     "metadata": {},
     "output_type": "execute_result"
    }
   ],
   "source": [
    "clean_df.dtypes"
   ]
  },
  {
   "cell_type": "code",
   "execution_count": 53,
   "metadata": {},
   "outputs": [
    {
     "data": {
      "text/html": [
       "<div>\n",
       "<style scoped>\n",
       "    .dataframe tbody tr th:only-of-type {\n",
       "        vertical-align: middle;\n",
       "    }\n",
       "\n",
       "    .dataframe tbody tr th {\n",
       "        vertical-align: top;\n",
       "    }\n",
       "\n",
       "    .dataframe thead th {\n",
       "        text-align: right;\n",
       "    }\n",
       "</style>\n",
       "<table border=\"1\" class=\"dataframe\">\n",
       "  <thead>\n",
       "    <tr style=\"text-align: right;\">\n",
       "      <th></th>\n",
       "      <th>date</th>\n",
       "      <th>developer</th>\n",
       "      <th>publisher</th>\n",
       "      <th>full_desc</th>\n",
       "      <th>requirements</th>\n",
       "      <th>popu_tags</th>\n",
       "      <th>price</th>\n",
       "      <th>url_info</th>\n",
       "      <th>name</th>\n",
       "      <th>categories</th>\n",
       "    </tr>\n",
       "  </thead>\n",
       "  <tbody>\n",
       "    <tr>\n",
       "      <th>0</th>\n",
       "      <td>Nov 16, 2018</td>\n",
       "      <td>Innersloth</td>\n",
       "      <td>Innersloth</td>\n",
       "      <td>{'sort': 'game', 'desc': 'About This Game Play...</td>\n",
       "      <td>{'minimum': {'windows': {'processor': ' SSE2 i...</td>\n",
       "      <td>[Multiplayer, Online, Space, Social, Deduction...</td>\n",
       "      <td>499</td>\n",
       "      <td>{'url': 'https://store.steampowered.com/app/94...</td>\n",
       "      <td>Among Us</td>\n",
       "      <td>[Online PvPLAN, PvPOnline Co-opLAN, Co-opCross...</td>\n",
       "    </tr>\n",
       "  </tbody>\n",
       "</table>\n",
       "</div>"
      ],
      "text/plain": [
       "           date   developer   publisher  \\\n",
       "0  Nov 16, 2018  Innersloth  Innersloth   \n",
       "\n",
       "                                           full_desc  \\\n",
       "0  {'sort': 'game', 'desc': 'About This Game Play...   \n",
       "\n",
       "                                        requirements  \\\n",
       "0  {'minimum': {'windows': {'processor': ' SSE2 i...   \n",
       "\n",
       "                                           popu_tags price  \\\n",
       "0  [Multiplayer, Online, Space, Social, Deduction...   499   \n",
       "\n",
       "                                            url_info      name  \\\n",
       "0  {'url': 'https://store.steampowered.com/app/94...  Among Us   \n",
       "\n",
       "                                          categories  \n",
       "0  [Online PvPLAN, PvPOnline Co-opLAN, Co-opCross...  "
      ]
     },
     "execution_count": 53,
     "metadata": {},
     "output_type": "execute_result"
    }
   ],
   "source": [
    "clean_df.drop('img_url', inplace=True, axis=1)\n",
    "clean_df.head(1)"
   ]
  },
  {
   "cell_type": "code",
   "execution_count": 54,
   "metadata": {},
   "outputs": [
    {
     "data": {
      "text/html": [
       "<div>\n",
       "<style scoped>\n",
       "    .dataframe tbody tr th:only-of-type {\n",
       "        vertical-align: middle;\n",
       "    }\n",
       "\n",
       "    .dataframe tbody tr th {\n",
       "        vertical-align: top;\n",
       "    }\n",
       "\n",
       "    .dataframe thead th {\n",
       "        text-align: right;\n",
       "    }\n",
       "</style>\n",
       "<table border=\"1\" class=\"dataframe\">\n",
       "  <thead>\n",
       "    <tr style=\"text-align: right;\">\n",
       "      <th></th>\n",
       "      <th>date</th>\n",
       "      <th>developer</th>\n",
       "      <th>publisher</th>\n",
       "      <th>full_desc</th>\n",
       "      <th>requirements</th>\n",
       "      <th>popu_tags</th>\n",
       "      <th>price</th>\n",
       "      <th>url_info</th>\n",
       "      <th>name</th>\n",
       "      <th>categories</th>\n",
       "    </tr>\n",
       "  </thead>\n",
       "  <tbody>\n",
       "    <tr>\n",
       "      <th>0</th>\n",
       "      <td>2018-11-16</td>\n",
       "      <td>Innersloth</td>\n",
       "      <td>Innersloth</td>\n",
       "      <td>{'sort': 'game', 'desc': 'About This Game Play...</td>\n",
       "      <td>{'minimum': {'windows': {'processor': ' SSE2 i...</td>\n",
       "      <td>[Multiplayer, Online, Space, Social, Deduction...</td>\n",
       "      <td>499</td>\n",
       "      <td>{'url': 'https://store.steampowered.com/app/94...</td>\n",
       "      <td>Among Us</td>\n",
       "      <td>[Online PvPLAN, PvPOnline Co-opLAN, Co-opCross...</td>\n",
       "    </tr>\n",
       "  </tbody>\n",
       "</table>\n",
       "</div>"
      ],
      "text/plain": [
       "        date   developer   publisher  \\\n",
       "0 2018-11-16  Innersloth  Innersloth   \n",
       "\n",
       "                                           full_desc  \\\n",
       "0  {'sort': 'game', 'desc': 'About This Game Play...   \n",
       "\n",
       "                                        requirements  \\\n",
       "0  {'minimum': {'windows': {'processor': ' SSE2 i...   \n",
       "\n",
       "                                           popu_tags price  \\\n",
       "0  [Multiplayer, Online, Space, Social, Deduction...   499   \n",
       "\n",
       "                                            url_info      name  \\\n",
       "0  {'url': 'https://store.steampowered.com/app/94...  Among Us   \n",
       "\n",
       "                                          categories  \n",
       "0  [Online PvPLAN, PvPOnline Co-opLAN, Co-opCross...  "
      ]
     },
     "execution_count": 54,
     "metadata": {},
     "output_type": "execute_result"
    }
   ],
   "source": [
    "clean_df['date'] = pd.to_datetime(clean_df['date'], errors='coerce')\n",
    "clean_df.head(1)"
   ]
  },
  {
   "cell_type": "code",
   "execution_count": 55,
   "metadata": {},
   "outputs": [
    {
     "data": {
      "text/plain": [
       "date            datetime64[ns]\n",
       "developer               object\n",
       "publisher               object\n",
       "full_desc               object\n",
       "requirements            object\n",
       "popu_tags               object\n",
       "price                   object\n",
       "url_info                object\n",
       "name                    object\n",
       "categories              object\n",
       "dtype: object"
      ]
     },
     "execution_count": 55,
     "metadata": {},
     "output_type": "execute_result"
    }
   ],
   "source": [
    "clean_df.dtypes"
   ]
  },
  {
   "attachments": {},
   "cell_type": "markdown",
   "metadata": {},
   "source": [
    "#TODO fix price column as that was parsed incorrectly, take for example Borderlands 3 is 59.99 \n",
    "but it shows 599 as the cleaned json price which is wrong. Also merge back reviews from original df"
   ]
  },
  {
   "cell_type": "code",
   "execution_count": 56,
   "metadata": {},
   "outputs": [
    {
     "data": {
      "text/plain": [
       "0     499\n",
       "1    free\n",
       "2     199\n",
       "3     499\n",
       "Name: price, dtype: object"
      ]
     },
     "execution_count": 56,
     "metadata": {},
     "output_type": "execute_result"
    }
   ],
   "source": [
    "clean_df['price'].head(4)"
   ]
  },
  {
   "attachments": {},
   "cell_type": "markdown",
   "metadata": {},
   "source": [
    "#TODO doesnt match since were using df vs clean_df"
   ]
  },
  {
   "cell_type": "code",
   "execution_count": 82,
   "metadata": {},
   "outputs": [
    {
     "ename": "KeyError",
     "evalue": "'945360'",
     "output_type": "error",
     "traceback": [
      "\u001b[1;31m---------------------------------------------------------------------------\u001b[0m",
      "\u001b[1;31mKeyError\u001b[0m                                  Traceback (most recent call last)",
      "File \u001b[1;32mh:\\UniversityOfDenver\\COMP4448-tool2\\venvtools2\\Lib\\site-packages\\pandas\\core\\indexes\\base.py:3803\u001b[0m, in \u001b[0;36mIndex.get_loc\u001b[1;34m(self, key, method, tolerance)\u001b[0m\n\u001b[0;32m   3802\u001b[0m \u001b[39mtry\u001b[39;00m:\n\u001b[1;32m-> 3803\u001b[0m     \u001b[39mreturn\u001b[39;00m \u001b[39mself\u001b[39;49m\u001b[39m.\u001b[39;49m_engine\u001b[39m.\u001b[39;49mget_loc(casted_key)\n\u001b[0;32m   3804\u001b[0m \u001b[39mexcept\u001b[39;00m \u001b[39mKeyError\u001b[39;00m \u001b[39mas\u001b[39;00m err:\n",
      "File \u001b[1;32mh:\\UniversityOfDenver\\COMP4448-tool2\\venvtools2\\Lib\\site-packages\\pandas\\_libs\\index.pyx:138\u001b[0m, in \u001b[0;36mpandas._libs.index.IndexEngine.get_loc\u001b[1;34m()\u001b[0m\n",
      "File \u001b[1;32mh:\\UniversityOfDenver\\COMP4448-tool2\\venvtools2\\Lib\\site-packages\\pandas\\_libs\\index.pyx:146\u001b[0m, in \u001b[0;36mpandas._libs.index.IndexEngine.get_loc\u001b[1;34m()\u001b[0m\n",
      "File \u001b[1;32mpandas\\_libs\\index_class_helper.pxi:49\u001b[0m, in \u001b[0;36mpandas._libs.index.Int64Engine._check_type\u001b[1;34m()\u001b[0m\n",
      "\u001b[1;31mKeyError\u001b[0m: '945360'",
      "\nThe above exception was the direct cause of the following exception:\n",
      "\u001b[1;31mKeyError\u001b[0m                                  Traceback (most recent call last)",
      "Cell \u001b[1;32mIn[82], line 2\u001b[0m\n\u001b[0;32m      1\u001b[0m s_index \u001b[39m=\u001b[39m clean_df\u001b[39m.\u001b[39mindex\u001b[39m.\u001b[39mto_series()\n\u001b[1;32m----> 2\u001b[0m clean_df[\u001b[39m'\u001b[39m\u001b[39mid\u001b[39m\u001b[39m'\u001b[39m] \u001b[39m=\u001b[39m clean_df[\u001b[39m'\u001b[39;49m\u001b[39murl_info\u001b[39;49m\u001b[39m'\u001b[39;49m]\u001b[39m.\u001b[39;49mapply(\u001b[39mlambda\u001b[39;49;00m y: clean_df[\u001b[39m'\u001b[39;49m\u001b[39murl_info\u001b[39;49m\u001b[39m'\u001b[39;49m][y[\u001b[39m'\u001b[39;49m\u001b[39mid\u001b[39;49m\u001b[39m'\u001b[39;49m]])\n\u001b[0;32m      3\u001b[0m clean_df\u001b[39m.\u001b[39mhead(\u001b[39m4\u001b[39m)\n",
      "File \u001b[1;32mh:\\UniversityOfDenver\\COMP4448-tool2\\venvtools2\\Lib\\site-packages\\pandas\\core\\series.py:4771\u001b[0m, in \u001b[0;36mSeries.apply\u001b[1;34m(self, func, convert_dtype, args, **kwargs)\u001b[0m\n\u001b[0;32m   4661\u001b[0m \u001b[39mdef\u001b[39;00m \u001b[39mapply\u001b[39m(\n\u001b[0;32m   4662\u001b[0m     \u001b[39mself\u001b[39m,\n\u001b[0;32m   4663\u001b[0m     func: AggFuncType,\n\u001b[1;32m   (...)\u001b[0m\n\u001b[0;32m   4666\u001b[0m     \u001b[39m*\u001b[39m\u001b[39m*\u001b[39mkwargs,\n\u001b[0;32m   4667\u001b[0m ) \u001b[39m-\u001b[39m\u001b[39m>\u001b[39m DataFrame \u001b[39m|\u001b[39m Series:\n\u001b[0;32m   4668\u001b[0m \u001b[39m    \u001b[39m\u001b[39m\"\"\"\u001b[39;00m\n\u001b[0;32m   4669\u001b[0m \u001b[39m    Invoke function on values of Series.\u001b[39;00m\n\u001b[0;32m   4670\u001b[0m \n\u001b[1;32m   (...)\u001b[0m\n\u001b[0;32m   4769\u001b[0m \u001b[39m    dtype: float64\u001b[39;00m\n\u001b[0;32m   4770\u001b[0m \u001b[39m    \"\"\"\u001b[39;00m\n\u001b[1;32m-> 4771\u001b[0m     \u001b[39mreturn\u001b[39;00m SeriesApply(\u001b[39mself\u001b[39;49m, func, convert_dtype, args, kwargs)\u001b[39m.\u001b[39;49mapply()\n",
      "File \u001b[1;32mh:\\UniversityOfDenver\\COMP4448-tool2\\venvtools2\\Lib\\site-packages\\pandas\\core\\apply.py:1105\u001b[0m, in \u001b[0;36mSeriesApply.apply\u001b[1;34m(self)\u001b[0m\n\u001b[0;32m   1102\u001b[0m     \u001b[39mreturn\u001b[39;00m \u001b[39mself\u001b[39m\u001b[39m.\u001b[39mapply_str()\n\u001b[0;32m   1104\u001b[0m \u001b[39m# self.f is Callable\u001b[39;00m\n\u001b[1;32m-> 1105\u001b[0m \u001b[39mreturn\u001b[39;00m \u001b[39mself\u001b[39;49m\u001b[39m.\u001b[39;49mapply_standard()\n",
      "File \u001b[1;32mh:\\UniversityOfDenver\\COMP4448-tool2\\venvtools2\\Lib\\site-packages\\pandas\\core\\apply.py:1156\u001b[0m, in \u001b[0;36mSeriesApply.apply_standard\u001b[1;34m(self)\u001b[0m\n\u001b[0;32m   1154\u001b[0m     \u001b[39melse\u001b[39;00m:\n\u001b[0;32m   1155\u001b[0m         values \u001b[39m=\u001b[39m obj\u001b[39m.\u001b[39mastype(\u001b[39mobject\u001b[39m)\u001b[39m.\u001b[39m_values\n\u001b[1;32m-> 1156\u001b[0m         mapped \u001b[39m=\u001b[39m lib\u001b[39m.\u001b[39;49mmap_infer(\n\u001b[0;32m   1157\u001b[0m             values,\n\u001b[0;32m   1158\u001b[0m             f,\n\u001b[0;32m   1159\u001b[0m             convert\u001b[39m=\u001b[39;49m\u001b[39mself\u001b[39;49m\u001b[39m.\u001b[39;49mconvert_dtype,\n\u001b[0;32m   1160\u001b[0m         )\n\u001b[0;32m   1162\u001b[0m \u001b[39mif\u001b[39;00m \u001b[39mlen\u001b[39m(mapped) \u001b[39mand\u001b[39;00m \u001b[39misinstance\u001b[39m(mapped[\u001b[39m0\u001b[39m], ABCSeries):\n\u001b[0;32m   1163\u001b[0m     \u001b[39m# GH#43986 Need to do list(mapped) in order to get treated as nested\u001b[39;00m\n\u001b[0;32m   1164\u001b[0m     \u001b[39m#  See also GH#25959 regarding EA support\u001b[39;00m\n\u001b[0;32m   1165\u001b[0m     \u001b[39mreturn\u001b[39;00m obj\u001b[39m.\u001b[39m_constructor_expanddim(\u001b[39mlist\u001b[39m(mapped), index\u001b[39m=\u001b[39mobj\u001b[39m.\u001b[39mindex)\n",
      "File \u001b[1;32mh:\\UniversityOfDenver\\COMP4448-tool2\\venvtools2\\Lib\\site-packages\\pandas\\_libs\\lib.pyx:2918\u001b[0m, in \u001b[0;36mpandas._libs.lib.map_infer\u001b[1;34m()\u001b[0m\n",
      "Cell \u001b[1;32mIn[82], line 2\u001b[0m, in \u001b[0;36m<lambda>\u001b[1;34m(y)\u001b[0m\n\u001b[0;32m      1\u001b[0m s_index \u001b[39m=\u001b[39m clean_df\u001b[39m.\u001b[39mindex\u001b[39m.\u001b[39mto_series()\n\u001b[1;32m----> 2\u001b[0m clean_df[\u001b[39m'\u001b[39m\u001b[39mid\u001b[39m\u001b[39m'\u001b[39m] \u001b[39m=\u001b[39m clean_df[\u001b[39m'\u001b[39m\u001b[39murl_info\u001b[39m\u001b[39m'\u001b[39m]\u001b[39m.\u001b[39mapply(\u001b[39mlambda\u001b[39;00m y: clean_df[\u001b[39m'\u001b[39;49m\u001b[39murl_info\u001b[39;49m\u001b[39m'\u001b[39;49m][y[\u001b[39m'\u001b[39;49m\u001b[39mid\u001b[39;49m\u001b[39m'\u001b[39;49m]])\n\u001b[0;32m      3\u001b[0m clean_df\u001b[39m.\u001b[39mhead(\u001b[39m4\u001b[39m)\n",
      "File \u001b[1;32mh:\\UniversityOfDenver\\COMP4448-tool2\\venvtools2\\Lib\\site-packages\\pandas\\core\\series.py:981\u001b[0m, in \u001b[0;36mSeries.__getitem__\u001b[1;34m(self, key)\u001b[0m\n\u001b[0;32m    978\u001b[0m     \u001b[39mreturn\u001b[39;00m \u001b[39mself\u001b[39m\u001b[39m.\u001b[39m_values[key]\n\u001b[0;32m    980\u001b[0m \u001b[39melif\u001b[39;00m key_is_scalar:\n\u001b[1;32m--> 981\u001b[0m     \u001b[39mreturn\u001b[39;00m \u001b[39mself\u001b[39;49m\u001b[39m.\u001b[39;49m_get_value(key)\n\u001b[0;32m    983\u001b[0m \u001b[39mif\u001b[39;00m is_hashable(key):\n\u001b[0;32m    984\u001b[0m     \u001b[39m# Otherwise index.get_value will raise InvalidIndexError\u001b[39;00m\n\u001b[0;32m    985\u001b[0m     \u001b[39mtry\u001b[39;00m:\n\u001b[0;32m    986\u001b[0m         \u001b[39m# For labels that don't resolve as scalars like tuples and frozensets\u001b[39;00m\n",
      "File \u001b[1;32mh:\\UniversityOfDenver\\COMP4448-tool2\\venvtools2\\Lib\\site-packages\\pandas\\core\\series.py:1089\u001b[0m, in \u001b[0;36mSeries._get_value\u001b[1;34m(self, label, takeable)\u001b[0m\n\u001b[0;32m   1086\u001b[0m     \u001b[39mreturn\u001b[39;00m \u001b[39mself\u001b[39m\u001b[39m.\u001b[39m_values[label]\n\u001b[0;32m   1088\u001b[0m \u001b[39m# Similar to Index.get_value, but we do not fall back to positional\u001b[39;00m\n\u001b[1;32m-> 1089\u001b[0m loc \u001b[39m=\u001b[39m \u001b[39mself\u001b[39;49m\u001b[39m.\u001b[39;49mindex\u001b[39m.\u001b[39;49mget_loc(label)\n\u001b[0;32m   1090\u001b[0m \u001b[39mreturn\u001b[39;00m \u001b[39mself\u001b[39m\u001b[39m.\u001b[39mindex\u001b[39m.\u001b[39m_get_values_for_loc(\u001b[39mself\u001b[39m, loc, label)\n",
      "File \u001b[1;32mh:\\UniversityOfDenver\\COMP4448-tool2\\venvtools2\\Lib\\site-packages\\pandas\\core\\indexes\\base.py:3805\u001b[0m, in \u001b[0;36mIndex.get_loc\u001b[1;34m(self, key, method, tolerance)\u001b[0m\n\u001b[0;32m   3803\u001b[0m     \u001b[39mreturn\u001b[39;00m \u001b[39mself\u001b[39m\u001b[39m.\u001b[39m_engine\u001b[39m.\u001b[39mget_loc(casted_key)\n\u001b[0;32m   3804\u001b[0m \u001b[39mexcept\u001b[39;00m \u001b[39mKeyError\u001b[39;00m \u001b[39mas\u001b[39;00m err:\n\u001b[1;32m-> 3805\u001b[0m     \u001b[39mraise\u001b[39;00m \u001b[39mKeyError\u001b[39;00m(key) \u001b[39mfrom\u001b[39;00m \u001b[39merr\u001b[39;00m\n\u001b[0;32m   3806\u001b[0m \u001b[39mexcept\u001b[39;00m \u001b[39mTypeError\u001b[39;00m:\n\u001b[0;32m   3807\u001b[0m     \u001b[39m# If we have a listlike key, _check_indexing_error will raise\u001b[39;00m\n\u001b[0;32m   3808\u001b[0m     \u001b[39m#  InvalidIndexError. Otherwise we fall through and re-raise\u001b[39;00m\n\u001b[0;32m   3809\u001b[0m     \u001b[39m#  the TypeError.\u001b[39;00m\n\u001b[0;32m   3810\u001b[0m     \u001b[39mself\u001b[39m\u001b[39m.\u001b[39m_check_indexing_error(key)\n",
      "\u001b[1;31mKeyError\u001b[0m: '945360'"
     ]
    }
   ],
   "source": [
    "s_index = clean_df.index.to_series()\n",
    "clean_df['id'] = clean_df['url_info'].apply(lambda y: clean_df['url_info'][y['id']])\n",
    "clean_df.head(4)"
   ]
  },
  {
   "cell_type": "code",
   "execution_count": 58,
   "metadata": {},
   "outputs": [
    {
     "data": {
      "text/html": [
       "<div>\n",
       "<style scoped>\n",
       "    .dataframe tbody tr th:only-of-type {\n",
       "        vertical-align: middle;\n",
       "    }\n",
       "\n",
       "    .dataframe tbody tr th {\n",
       "        vertical-align: top;\n",
       "    }\n",
       "\n",
       "    .dataframe thead th {\n",
       "        text-align: right;\n",
       "    }\n",
       "</style>\n",
       "<table border=\"1\" class=\"dataframe\">\n",
       "  <thead>\n",
       "    <tr style=\"text-align: right;\">\n",
       "      <th></th>\n",
       "      <th>date</th>\n",
       "      <th>developer</th>\n",
       "      <th>publisher</th>\n",
       "      <th>full_desc</th>\n",
       "      <th>requirements</th>\n",
       "      <th>popu_tags</th>\n",
       "      <th>price</th>\n",
       "      <th>url_info</th>\n",
       "      <th>name</th>\n",
       "      <th>categories</th>\n",
       "      <th>clean_price</th>\n",
       "    </tr>\n",
       "  </thead>\n",
       "  <tbody>\n",
       "    <tr>\n",
       "      <th>0</th>\n",
       "      <td>2018-11-16</td>\n",
       "      <td>Innersloth</td>\n",
       "      <td>Innersloth</td>\n",
       "      <td>{'sort': 'game', 'desc': 'About This Game Play...</td>\n",
       "      <td>{'minimum': {'windows': {'processor': ' SSE2 i...</td>\n",
       "      <td>[Multiplayer, Online, Space, Social, Deduction...</td>\n",
       "      <td>499</td>\n",
       "      <td>{'url': 'https://store.steampowered.com/app/94...</td>\n",
       "      <td>Among Us</td>\n",
       "      <td>[Online PvPLAN, PvPOnline Co-opLAN, Co-opCross...</td>\n",
       "      <td>4.99</td>\n",
       "    </tr>\n",
       "    <tr>\n",
       "      <th>1</th>\n",
       "      <td>2012-08-21</td>\n",
       "      <td>Valve, Hidden Path Entertainment</td>\n",
       "      <td>Valve</td>\n",
       "      <td>{'sort': 'game', 'desc': 'About This Game Coun...</td>\n",
       "      <td>{'minimum': {'windows': {'processor': ' Intel®...</td>\n",
       "      <td>[Shooter, Multiplayer, Competitive, Action, Te...</td>\n",
       "      <td>free</td>\n",
       "      <td>{'url': 'https://store.steampowered.com/app/73...</td>\n",
       "      <td>Counter-Strike: Global Offensive</td>\n",
       "      <td>[Steam Achievements Full, controller supportSt...</td>\n",
       "      <td>None</td>\n",
       "    </tr>\n",
       "    <tr>\n",
       "      <th>2</th>\n",
       "      <td>2020-08-03</td>\n",
       "      <td>Mediatonic</td>\n",
       "      <td>Devolver Digital</td>\n",
       "      <td>{'sort': 'game', 'desc': 'About This Game Fall...</td>\n",
       "      <td>{}</td>\n",
       "      <td>[Multiplayer, Funny, Battle, Royale, Online, F...</td>\n",
       "      <td>199</td>\n",
       "      <td>{'url': 'https://store.steampowered.com/app/10...</td>\n",
       "      <td>Fall Guys: Ultimate Knockout</td>\n",
       "      <td>[MMOOnline PvPOnline, Co-opSteam Achievements ...</td>\n",
       "      <td>19.99</td>\n",
       "    </tr>\n",
       "  </tbody>\n",
       "</table>\n",
       "</div>"
      ],
      "text/plain": [
       "        date                         developer         publisher  \\\n",
       "0 2018-11-16                        Innersloth        Innersloth   \n",
       "1 2012-08-21  Valve, Hidden Path Entertainment             Valve   \n",
       "2 2020-08-03                        Mediatonic  Devolver Digital   \n",
       "\n",
       "                                           full_desc  \\\n",
       "0  {'sort': 'game', 'desc': 'About This Game Play...   \n",
       "1  {'sort': 'game', 'desc': 'About This Game Coun...   \n",
       "2  {'sort': 'game', 'desc': 'About This Game Fall...   \n",
       "\n",
       "                                        requirements  \\\n",
       "0  {'minimum': {'windows': {'processor': ' SSE2 i...   \n",
       "1  {'minimum': {'windows': {'processor': ' Intel®...   \n",
       "2                                                 {}   \n",
       "\n",
       "                                           popu_tags price  \\\n",
       "0  [Multiplayer, Online, Space, Social, Deduction...   499   \n",
       "1  [Shooter, Multiplayer, Competitive, Action, Te...  free   \n",
       "2  [Multiplayer, Funny, Battle, Royale, Online, F...   199   \n",
       "\n",
       "                                            url_info  \\\n",
       "0  {'url': 'https://store.steampowered.com/app/94...   \n",
       "1  {'url': 'https://store.steampowered.com/app/73...   \n",
       "2  {'url': 'https://store.steampowered.com/app/10...   \n",
       "\n",
       "                               name  \\\n",
       "0                          Among Us   \n",
       "1  Counter-Strike: Global Offensive   \n",
       "2      Fall Guys: Ultimate Knockout   \n",
       "\n",
       "                                          categories clean_price  \n",
       "0  [Online PvPLAN, PvPOnline Co-opLAN, Co-opCross...        4.99  \n",
       "1  [Steam Achievements Full, controller supportSt...        None  \n",
       "2  [MMOOnline PvPOnline, Co-opSteam Achievements ...       19.99  "
      ]
     },
     "execution_count": 58,
     "metadata": {},
     "output_type": "execute_result"
    }
   ],
   "source": [
    "def clean_price(x): \n",
    "    result = re.search(pattern=r'\\d+.\\d+', string=x)\n",
    "    if result is None: \n",
    "        result = re.search(pattern=r'FreetoPlay', string=x)\n",
    "    if result is not None:\n",
    "        return result[0]\n",
    "    else:\n",
    "        return result\n",
    "\n",
    "clean_df['clean_price'] = df['price'].apply(lambda x: clean_price(x))\n",
    "clean_df['clean_price'] = clean_df['clean_price'].astype('float64')\n",
    "clean_df.drop('price', inplace=True, axis=1)\n",
    "clean_df.head(3)"
   ]
  }
 ],
 "metadata": {
  "kernelspec": {
   "display_name": "venvtools2",
   "language": "python",
   "name": "python3"
  },
  "language_info": {
   "codemirror_mode": {
    "name": "ipython",
    "version": 3
   },
   "file_extension": ".py",
   "mimetype": "text/x-python",
   "name": "python",
   "nbconvert_exporter": "python",
   "pygments_lexer": "ipython3",
   "version": "3.11.1"
  },
  "vscode": {
   "interpreter": {
    "hash": "d879f583b607c711ed42a3f2837aa40f7823202ddc09639f4d71f44ad0908e9c"
   }
  }
 },
 "nbformat": 4,
 "nbformat_minor": 2
}
